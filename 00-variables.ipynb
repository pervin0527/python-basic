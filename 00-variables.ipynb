{
 "cells": [
  {
   "attachments": {},
   "cell_type": "markdown",
   "metadata": {},
   "source": [
    "## 변수의 이름은 이름표(symbol)이다."
   ]
  },
  {
   "cell_type": "code",
   "execution_count": null,
   "metadata": {},
   "outputs": [],
   "source": [
    "a = 10\n",
    "b = 20\n",
    "c = 30"
   ]
  },
  {
   "attachments": {},
   "cell_type": "markdown",
   "metadata": {},
   "source": [
    "변수가 메모리상의 저장 위치라고 생각할 수 있으나 그렇지 않다.  \n",
    "파이썬은 값 10, 20, 30을 부르기 위한 이름으로 a, b, c를 만든다. 우리가 일반적인 상식으로 사용하는 \"이름\"의 역할이다.  \n",
    "이 이름들은 <b>symbol table</b>에서 찾을 수 있다.\n",
    "\n",
    "symbol table은 이름과 레퍼런스(데이터 주소)를 저장하는 테이블로 globals(), locals() 함수를 사용해 반환 받을 수 있다.  \n",
    "반환된 테이블은 scope를 나타내며, dict 타입으로 값이 저장되어 있다."
   ]
  },
  {
   "cell_type": "code",
   "execution_count": 1,
   "metadata": {},
   "outputs": [
    {
     "name": "stdout",
     "output_type": "stream",
     "text": [
      "{'__name__': '__main__', '__doc__': 'Automatically created module for IPython interactive environment', '__package__': None, '__loader__': None, '__spec__': None, '__builtin__': <module 'builtins' (built-in)>, '__builtins__': <module 'builtins' (built-in)>, '_ih': ['', 'global_a = 1\\nglobal_b = \\'global\\'\\n\\ndef foo():\\n    local_a = 2\\n    local_b = \\'local\\'\\n    print(f\"{locals()} \\\\n\")\\n\\nclass MyClass:\\n    x = 10\\n    y = 20\\n\\nprint(f\"{globals()} \\\\n\")\\n\\nfoo() \\nfoo.c = \\'hello\\'\\nprint(f\"{foo.__dict__}\")\\n\\nprint(f\"{MyClass.__dict__}\")'], '_oh': {}, '_dh': ['/Users/pervin0527/python-basic'], 'In': ['', 'global_a = 1\\nglobal_b = \\'global\\'\\n\\ndef foo():\\n    local_a = 2\\n    local_b = \\'local\\'\\n    print(f\"{locals()} \\\\n\")\\n\\nclass MyClass:\\n    x = 10\\n    y = 20\\n\\nprint(f\"{globals()} \\\\n\")\\n\\nfoo() \\nfoo.c = \\'hello\\'\\nprint(f\"{foo.__dict__}\")\\n\\nprint(f\"{MyClass.__dict__}\")'], 'Out': {}, 'get_ipython': <bound method InteractiveShell.get_ipython of <ipykernel.zmqshell.ZMQInteractiveShell object at 0x7f7fcac5d580>>, 'exit': <IPython.core.autocall.ZMQExitAutocall object at 0x7f7fcac5de80>, 'quit': <IPython.core.autocall.ZMQExitAutocall object at 0x7f7fcac5de80>, '_': '', '__': '', '___': '', '__vsc_ipynb_file__': '/Users/pervin0527/python-basic/00-variables.ipynb', '_i': '', '_ii': '', '_iii': '', '_i1': 'global_a = 1\\nglobal_b = \\'global\\'\\n\\ndef foo():\\n    local_a = 2\\n    local_b = \\'local\\'\\n    print(f\"{locals()} \\\\n\")\\n\\nclass MyClass:\\n    x = 10\\n    y = 20\\n\\nprint(f\"{globals()} \\\\n\")\\n\\nfoo() \\nfoo.c = \\'hello\\'\\nprint(f\"{foo.__dict__}\")\\n\\nprint(f\"{MyClass.__dict__}\")', 'global_a': 1, 'global_b': 'global', 'foo': <function foo at 0x7f7fcaef6ca0>, 'MyClass': <class '__main__.MyClass'>} \n",
      "\n",
      "{'local_a': 2, 'local_b': 'local'} \n",
      "\n",
      "{'c': 'hello'}\n",
      "{'__module__': '__main__', 'x': 10, 'y': 20, '__dict__': <attribute '__dict__' of 'MyClass' objects>, '__weakref__': <attribute '__weakref__' of 'MyClass' objects>, '__doc__': None}\n"
     ]
    }
   ],
   "source": [
    "global_a = 1\n",
    "global_b = 'global'\n",
    "\n",
    "def foo():\n",
    "    local_a = 2\n",
    "    local_b = 'local'\n",
    "    print(f\"{locals()} \\n\")\n",
    "\n",
    "class MyClass:\n",
    "    x = 10\n",
    "    y = 20\n",
    "\n",
    "print(f\"{globals()} \\n\")\n",
    "\n",
    "foo() \n",
    "foo.c = 'hello'\n",
    "print(f\"{foo.__dict__}\")\n",
    "\n",
    "print(f\"{MyClass.__dict__}\")"
   ]
  },
  {
   "attachments": {},
   "cell_type": "markdown",
   "metadata": {},
   "source": [
    "## for\n",
    "\n",
    "        for 변수 in iterable:\n",
    "            ...\n",
    "\n",
    "for문 예제에서 iterable은 리스트 같은 컬렉션에 가깝지만, range함수를 호출하면 반환하는 generator와 같다.  \n",
    "generator는 나열된 값으로 구성된 iteration을 생산한다. 시퀀스의 끝에 도달하면 StopIteration 예외가 발생하며 종료된다.  \n",
    "짚고 넘어가야할 부분은 generator 함수가 값을 반환하는 것이 아니라 generator 함수로 생성된 객체가 값을 반환하는 것이다.  \n",
    "즉, generator 객체는 iterator 이다."
   ]
  },
  {
   "cell_type": "code",
   "execution_count": 6,
   "metadata": {},
   "outputs": [
    {
     "name": "stdout",
     "output_type": "stream",
     "text": [
      "2\n",
      "4\n",
      "6\n",
      "8\n",
      "10\n",
      "12\n",
      "14\n",
      "16\n",
      "18\n",
      "20\n"
     ]
    },
    {
     "ename": "StopIteration",
     "evalue": "",
     "output_type": "error",
     "traceback": [
      "\u001b[0;31m---------------------------------------------------------------------------\u001b[0m",
      "\u001b[0;31mStopIteration\u001b[0m                             Traceback (most recent call last)",
      "\u001b[0;32m/var/folders/h2/dxdwtry542514hp51hkrx__h0000gn/T/ipykernel_5236/3096347184.py\u001b[0m in \u001b[0;36m<module>\u001b[0;34m\u001b[0m\n\u001b[1;32m      7\u001b[0m \u001b[0mtest\u001b[0m \u001b[0;34m=\u001b[0m \u001b[0mgenerate_evens\u001b[0m\u001b[0;34m(\u001b[0m\u001b[0mvalue\u001b[0m\u001b[0;34m)\u001b[0m\u001b[0;34m\u001b[0m\u001b[0;34m\u001b[0m\u001b[0m\n\u001b[1;32m      8\u001b[0m \u001b[0;32mfor\u001b[0m \u001b[0m_\u001b[0m \u001b[0;32min\u001b[0m \u001b[0mrange\u001b[0m\u001b[0;34m(\u001b[0m\u001b[0mvalue\u001b[0m\u001b[0;34m)\u001b[0m\u001b[0;34m:\u001b[0m\u001b[0;34m\u001b[0m\u001b[0;34m\u001b[0m\u001b[0m\n\u001b[0;32m----> 9\u001b[0;31m     \u001b[0mprint\u001b[0m\u001b[0;34m(\u001b[0m\u001b[0mnext\u001b[0m\u001b[0;34m(\u001b[0m\u001b[0mtest\u001b[0m\u001b[0;34m)\u001b[0m\u001b[0;34m)\u001b[0m\u001b[0;34m\u001b[0m\u001b[0;34m\u001b[0m\u001b[0m\n\u001b[0m",
      "\u001b[0;31mStopIteration\u001b[0m: "
     ]
    }
   ],
   "source": [
    "def generate_evens(n):\n",
    "    for n in range(1, n):\n",
    "        if n % 2 == 0:\n",
    "            yield n\n",
    "\n",
    "value = 21\n",
    "test = generate_evens(value)\n",
    "for _ in range(value):\n",
    "    print(next(test))"
   ]
  },
  {
   "attachments": {},
   "cell_type": "markdown",
   "metadata": {},
   "source": [
    "## mutable, immutable\n",
    "파이썬의 데이터 타입은 mutable이거나 immutable이다.  \n",
    "mutable은 데이터가 즉시 변경될 수 있다는 것이며 변경을 위해 새로운 객체를 처음부터 만들 필요가 없다는 것이다.(list, dict, set)(tuple은 값을 변경할 수 없음.)  \n",
    "\n",
    "<br>\n",
    "\n",
    "immutable은 값을 변경할 수 없다. 이는 장점이자 단점이 될 수 있다.  \n",
    "장점은 이미 내부적으로 성능이 최적화되어 있는 데이터 타입을 사용할 수 있다. 가령 튜플은 리스트보다 더 효율적이다.  \n",
    "단점은 값을 변경할 수 없다는 것이다. 즉 새로운 값을 대입하기 위해서는 기존 객체에 재대입을 하거나 신규 객체를 만들어야 한다."
   ]
  },
  {
   "cell_type": "code",
   "execution_count": 7,
   "metadata": {},
   "outputs": [
    {
     "ename": "TypeError",
     "evalue": "'str' object does not support item assignment",
     "output_type": "error",
     "traceback": [
      "\u001b[0;31m---------------------------------------------------------------------------\u001b[0m",
      "\u001b[0;31mTypeError\u001b[0m                                 Traceback (most recent call last)",
      "\u001b[0;32m/var/folders/h2/dxdwtry542514hp51hkrx__h0000gn/T/ipykernel_5236/1857186430.py\u001b[0m in \u001b[0;36m<module>\u001b[0;34m\u001b[0m\n\u001b[1;32m      1\u001b[0m \u001b[0mmy_str\u001b[0m \u001b[0;34m=\u001b[0m \u001b[0;34m\"안녕하세요\"\u001b[0m\u001b[0;34m\u001b[0m\u001b[0;34m\u001b[0m\u001b[0m\n\u001b[0;32m----> 2\u001b[0;31m \u001b[0mmy_str\u001b[0m\u001b[0;34m[\u001b[0m\u001b[0;36m0\u001b[0m\u001b[0;34m]\u001b[0m \u001b[0;34m=\u001b[0m \u001b[0;34m\"잔\"\u001b[0m\u001b[0;34m\u001b[0m\u001b[0;34m\u001b[0m\u001b[0m\n\u001b[0m",
      "\u001b[0;31mTypeError\u001b[0m: 'str' object does not support item assignment"
     ]
    }
   ],
   "source": [
    "my_str = \"안녕하세요\"\n",
    "my_str[0] = \"잔\" ## 문자열은 immutable하므로, 값을 바꿀 수 없다."
   ]
  },
  {
   "cell_type": "code",
   "execution_count": 8,
   "metadata": {},
   "outputs": [],
   "source": [
    "my_str = \"안녕하세요\"\n",
    "my_str = \"안녕히가세요\" ## my_str 변수에 새로운 값을 재대입 한 것이다."
   ]
  },
  {
   "attachments": {},
   "cell_type": "markdown",
   "metadata": {},
   "source": [
    "## is\n",
    "== 연산자는 두 대상의 값이 서로 같은가를 비교하는 것이고, is 연산자는 두 대상이 메모리 상에 동일한 객체를 참조하고 있는지를 비교한다."
   ]
  },
  {
   "cell_type": "code",
   "execution_count": 12,
   "metadata": {},
   "outputs": [
    {
     "name": "stdout",
     "output_type": "stream",
     "text": [
      "a id : 140186859932992\n",
      "b id : 140186860365248\n",
      "False\n"
     ]
    }
   ],
   "source": [
    "a = [1, 2, 3, 4]\n",
    "b = [1, 2, 3, 4]\n",
    "\n",
    "print(f\"a id : {id(a)}\")\n",
    "print(f\"b id : {id(b)}\")\n",
    "print(a is b)"
   ]
  },
  {
   "cell_type": "code",
   "execution_count": 13,
   "metadata": {},
   "outputs": [
    {
     "name": "stdout",
     "output_type": "stream",
     "text": [
      "a id : 140186860524736\n",
      "b id : 140186860524736\n",
      "True\n"
     ]
    }
   ],
   "source": [
    "a = [1, 2, 3, 4]\n",
    "b = a\n",
    "\n",
    "print(f\"a id : {id(a)}\")\n",
    "print(f\"b id : {id(b)}\")\n",
    "print(a is b)"
   ]
  },
  {
   "cell_type": "code",
   "execution_count": 14,
   "metadata": {},
   "outputs": [
    {
     "name": "stdout",
     "output_type": "stream",
     "text": [
      "str\n"
     ]
    }
   ],
   "source": [
    "######## 01234567 891011 #######\n",
    "title = \"Industry Baby\"\n",
    "print(title[4:7]) ## slicing은 start : end-1 까지"
   ]
  },
  {
   "cell_type": "code",
   "execution_count": 21,
   "metadata": {},
   "outputs": [
    {
     "name": "stdout",
     "output_type": "stream",
     "text": [
      " Baby\n",
      " Ba\n"
     ]
    }
   ],
   "source": [
    "print(title[-5:])\n",
    "print(title[-5:-2])"
   ]
  },
  {
   "cell_type": "code",
   "execution_count": null,
   "metadata": {},
   "outputs": [],
   "source": []
  }
 ],
 "metadata": {
  "kernelspec": {
   "display_name": "base",
   "language": "python",
   "name": "python3"
  },
  "language_info": {
   "codemirror_mode": {
    "name": "ipython",
    "version": 3
   },
   "file_extension": ".py",
   "mimetype": "text/x-python",
   "name": "python",
   "nbconvert_exporter": "python",
   "pygments_lexer": "ipython3",
   "version": "3.9.13"
  },
  "orig_nbformat": 4,
  "vscode": {
   "interpreter": {
    "hash": "40d3a090f54c6569ab1632332b64b2c03c39dcf918b08424e98f38b5ae0af88f"
   }
  }
 },
 "nbformat": 4,
 "nbformat_minor": 2
}
