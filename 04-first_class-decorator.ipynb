{
 "cells": [
  {
   "attachments": {},
   "cell_type": "markdown",
   "metadata": {},
   "source": [
    "# First Class\n",
    "일급 객체는 OOP에서 사용되는 개념 중 하나로, 다음 조건들을 만족하는 객체를 뜻한다.\n",
    " - 변수 혹은 데이터 구조에 넣을 수 있어야 한다.\n",
    " - 매개변수에 전달할 수 있어야 한다.\n",
    " - 반환값으로 사용할 수 있어야 한다.\n",
    "\n",
    "파이썬의 함수도 일급객체의 조건을 만족한다."
   ]
  },
  {
   "cell_type": "code",
   "execution_count": 1,
   "metadata": {},
   "outputs": [],
   "source": [
    "## 변수 혹은 데이터 구조 안에 함수를 담을 수 있다.\n",
    "def func1(a, b):\n",
    "    return a + b\n",
    "\n",
    "f1_var = func1 # 변수에 함수를 할당.\n",
    "f1_list = [func1] # 리스트라는 자료구조에 함수를 할당."
   ]
  },
  {
   "cell_type": "code",
   "execution_count": 2,
   "metadata": {},
   "outputs": [
    {
     "name": "stdout",
     "output_type": "stream",
     "text": [
      "2\n"
     ]
    }
   ],
   "source": [
    "## 매개변수로 함수를 전달할 수 있다.\n",
    "def func(a, b):\n",
    "    return a + b\n",
    "\n",
    "def func_manager(f, a, b): ## 함수의 매개변수로 함수를 전달할 수 있다.\n",
    "    print(f(a, b))\n",
    "\n",
    "func_manager(func, 1, 1)"
   ]
  },
  {
   "cell_type": "code",
   "execution_count": 3,
   "metadata": {},
   "outputs": [],
   "source": [
    "## 반환값으로 함수를 사용할 수 있다.\n",
    "def hello(name):\n",
    "    def printer():\n",
    "        print(f\"hello {name}\")\n",
    "    return printer"
   ]
  },
  {
   "attachments": {},
   "cell_type": "markdown",
   "metadata": {},
   "source": [
    "# Decorator\n",
    "파이썬 함수는 일급 클래스이기 때문에 decorator function을 사용할 수 있다.  \n",
    "decorator의 핵심은 기존 함수가 그대로 동작하면서 추가 문장이 더 실행되는 wrapper function이라는 것이다."
   ]
  },
  {
   "cell_type": "code",
   "execution_count": 4,
   "metadata": {},
   "outputs": [],
   "source": [
    "import time\n",
    "\n",
    "def make_timer(func): ## 인수로 입력되는 함수를 F1이라 하고, 여기에 우리가 원하는 문장을 추가하고자 한다.\n",
    "    def wrapper(*args, **kwargs): ## wrapper 함수는 원하는 문장을 추가한 결과다.\n",
    "        t1 = time.time()\n",
    "        ret_val = func(*args, **kwargs)\n",
    "        t2 = time.time()\n",
    "        print(f\"소요 시간 : {t2 - t1}\")\n",
    "\n",
    "        return ret_val\n",
    "        \n",
    "    return wrapper ## 데코레이터는 래퍼 함수를 생성하여 반환하는 작업을 수행한다.\n"
   ]
  },
  {
   "cell_type": "code",
   "execution_count": 6,
   "metadata": {},
   "outputs": [
    {
     "name": "stdout",
     "output_type": "stream",
     "text": [
      "50\n",
      "<function make_timer.<locals>.wrapper at 0x7ff5d1ff5b80>\n",
      "소요 시간 : 6.9141387939453125e-06\n",
      "50\n"
     ]
    }
   ],
   "source": [
    "def get_evens(n):\n",
    "    total = 0\n",
    "    for i in range(1, n+1):\n",
    "        if i % 2 == 0:\n",
    "            total += 1\n",
    "    return total\n",
    "\n",
    "print(get_evens(100))\n",
    "\n",
    "get_evens = make_timer(get_evens) ## 기존 함수 이름에 wrapping된 버전의 함수를 재대입.\n",
    "print(get_evens)\n",
    "print(get_evens(100))\n",
    "# result = get_evens(100)\n",
    "# print(result)"
   ]
  },
  {
   "attachments": {},
   "cell_type": "markdown",
   "metadata": {},
   "source": [
    "위 과정을 python에서는 자동화를 적용하여 다음과 같이 키워드를 적용하는 것으로 대체되었다."
   ]
  },
  {
   "cell_type": "code",
   "execution_count": 7,
   "metadata": {},
   "outputs": [
    {
     "name": "stdout",
     "output_type": "stream",
     "text": [
      "소요 시간 : 1.3113021850585938e-05\n",
      "50\n"
     ]
    }
   ],
   "source": [
    "@make_timer\n",
    "def get_evens_dec(n):\n",
    "    total = 0\n",
    "    for i in range(1, n+1):\n",
    "        if i % 2 == 0:\n",
    "            total += 1\n",
    "    return total\n",
    "\n",
    "print(get_evens_dec(100))"
   ]
  },
  {
   "cell_type": "code",
   "execution_count": null,
   "metadata": {},
   "outputs": [],
   "source": []
  }
 ],
 "metadata": {
  "kernelspec": {
   "display_name": "base",
   "language": "python",
   "name": "python3"
  },
  "language_info": {
   "codemirror_mode": {
    "name": "ipython",
    "version": 3
   },
   "file_extension": ".py",
   "mimetype": "text/x-python",
   "name": "python",
   "nbconvert_exporter": "python",
   "pygments_lexer": "ipython3",
   "version": "3.9.13"
  },
  "orig_nbformat": 4,
  "vscode": {
   "interpreter": {
    "hash": "40d3a090f54c6569ab1632332b64b2c03c39dcf918b08424e98f38b5ae0af88f"
   }
  }
 },
 "nbformat": 4,
 "nbformat_minor": 2
}
