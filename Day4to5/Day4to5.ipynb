{
 "cells": [
  {
   "cell_type": "code",
   "execution_count": 2,
   "metadata": {},
   "outputs": [
    {
     "name": "stdout",
     "output_type": "stream",
     "text": [
      "8 0.8851198877211425\n"
     ]
    }
   ],
   "source": [
    "## Randomization\n",
    "## module???\n",
    "\n",
    "import random\n",
    "rand_int = random.randint(0, 10)\n",
    "rand_float = random.random() ## [0, 1)\n",
    "print(rand_int, rand_float)"
   ]
  },
  {
   "attachments": {},
   "cell_type": "markdown",
   "metadata": {},
   "source": [
    "0 ~ 5사이의 난수 실수 생성."
   ]
  },
  {
   "cell_type": "code",
   "execution_count": 50,
   "metadata": {},
   "outputs": [
    {
     "name": "stdout",
     "output_type": "stream",
     "text": [
      "1.40958394328951\n"
     ]
    }
   ],
   "source": [
    "test = random.random() * 5\n",
    "print(test)"
   ]
  },
  {
   "cell_type": "code",
   "execution_count": 58,
   "metadata": {},
   "outputs": [
    {
     "name": "stdout",
     "output_type": "stream",
     "text": [
      "Heads\n"
     ]
    }
   ],
   "source": [
    "import random\n",
    "\n",
    "side = random.randint(0, 1)\n",
    "if side == 1:\n",
    "    print(\"Heads\")\n",
    "else:\n",
    "    print(\"Tails\")"
   ]
  },
  {
   "attachments": {},
   "cell_type": "markdown",
   "metadata": {},
   "source": [
    "List"
   ]
  },
  {
   "cell_type": "code",
   "execution_count": 59,
   "metadata": {},
   "outputs": [
    {
     "name": "stdout",
     "output_type": "stream",
     "text": [
      "mango\n"
     ]
    }
   ],
   "source": [
    "## 숫자가 리스트 시작 부분에서 이동한 거리나 오프셋\n",
    "fruits = [\"apple\", \"banana\", \"kiwi\", \"mango\"] ## 시작 부분 : apple에서의 거리\n",
    "print(fruits[3])"
   ]
  },
  {
   "cell_type": "code",
   "execution_count": 60,
   "metadata": {},
   "outputs": [
    {
     "name": "stdout",
     "output_type": "stream",
     "text": [
      "Ben\n"
     ]
    }
   ],
   "source": [
    "import random\n",
    "\n",
    "names_string = input(\"Give me everybody's names, separated by a comma. \") ## Angela, Ben, Jenny, Michael, Chloe\n",
    "names = names_string.split(\", \")\n",
    "\n",
    "### 같은 기능을 수행하지만, 전반적인 흐름에 대해 자세히 이해할 수 있음.\n",
    "# n_names = len(names)\n",
    "# rand_int = random.randint(0, n_names-1)\n",
    "# name = names[rand_int]\n",
    "# print(name)\n",
    "\n",
    "name = random.choice(names)\n",
    "print(name)"
   ]
  },
  {
   "attachments": {},
   "cell_type": "markdown",
   "metadata": {},
   "source": [
    "selected 변수에 map[row]를 담았고 selected에 값을 변경했는데\n",
    "왜 map의 내용이 바뀌었을끼??"
   ]
  },
  {
   "cell_type": "code",
   "execution_count": 64,
   "metadata": {},
   "outputs": [
    {
     "name": "stdout",
     "output_type": "stream",
     "text": [
      "['⬜️', '⬜️', '⬜️']\n",
      "['⬜️', '⬜️', '⬜️']\n",
      "['⬜️', 'X', '⬜️']\n"
     ]
    }
   ],
   "source": [
    "row1 = [\"⬜️\",\"⬜️\",\"⬜️\"]\n",
    "row2 = [\"⬜️\",\"⬜️\",\"⬜️\"]\n",
    "row3 = [\"⬜️\",\"⬜️\",\"⬜️\"]\n",
    "map = [row1, row2, row3]\n",
    "\n",
    "position = input(\"Where do you want to put the treasure? \")\n",
    "\n",
    "## col, row 순\n",
    "col, row = int(position[0])-1, int(position[1])-1\n",
    "# map[row][col] = \"X\"\n",
    "\n",
    "selected = map[row]\n",
    "selected[col] = \"X\"\n",
    "\n",
    "\n",
    "print(f\"{row1}\\n{row2}\\n{row3}\")"
   ]
  },
  {
   "cell_type": "code",
   "execution_count": 75,
   "metadata": {},
   "outputs": [
    {
     "name": "stdout",
     "output_type": "stream",
     "text": [
      "What do you choose? Type 0 for Rock, 1 for Paper or 2 for Scissors.\n",
      "\n",
      "    _______\n",
      "---'   ____)____\n",
      "          ______)\n",
      "          _______)\n",
      "         _______)\n",
      "---.__________)\n",
      "\n",
      "Computer chose 2\n",
      "\n",
      "    _______\n",
      "---'   ____)____\n",
      "          ______)\n",
      "       __________)\n",
      "      (____)\n",
      "---.__(___)\n",
      "\n",
      "You lose.\n"
     ]
    }
   ],
   "source": [
    "from random import randint\n",
    "from configs import rock, paper, scissors\n",
    "\n",
    "print(\"What do you choose? Type 0 for Rock, 1 for Paper or 2 for Scissors.\")\n",
    "emojis = [rock, paper, scissors]\n",
    "\n",
    "user = int(input())\n",
    "if user >= 3:\n",
    "    print(\"You typed invalid number. you lose!\")\n",
    "\n",
    "else:\n",
    "    print(emojis[user])\n",
    "\n",
    "    computer = randint(0, 2)\n",
    "    print(f\"Computer chose {computer}\")\n",
    "    print(emojis[computer])\n",
    "\n",
    "    if user == computer:\n",
    "        print(\"Draw.\")\n",
    "\n",
    "    else:\n",
    "        if user == 0:\n",
    "            if computer == 1:\n",
    "                print(\"You lose.\")\n",
    "            else:\n",
    "                print(\"You win.\")\n",
    "        elif user == 1:\n",
    "            if computer == 0:\n",
    "                print(\"You win.\")\n",
    "            else:\n",
    "                print(\"You lose.\")\n",
    "        else:\n",
    "            if computer == 0:\n",
    "                print(\"You lose.\")\n",
    "            else:\n",
    "                print(\"You win.\")"
   ]
  },
  {
   "cell_type": "code",
   "execution_count": 76,
   "metadata": {},
   "outputs": [
    {
     "name": "stdout",
     "output_type": "stream",
     "text": [
      "\n",
      "    _______\n",
      "---'   ____)____\n",
      "          ______)\n",
      "          _______)\n",
      "         _______)\n",
      "---.__________)\n",
      "\n",
      "Computer chose:\n",
      "\n",
      "    _______\n",
      "---'   ____)____\n",
      "          ______)\n",
      "       __________)\n",
      "      (____)\n",
      "---.__(___)\n",
      "\n",
      "You lose\n"
     ]
    }
   ],
   "source": [
    "import random\n",
    "\n",
    "rock = '''\n",
    "    _______\n",
    "---'   ____)\n",
    "      (_____)\n",
    "      (_____)\n",
    "      (____)\n",
    "---.__(___)\n",
    "'''\n",
    "\n",
    "paper = '''\n",
    "    _______\n",
    "---'   ____)____\n",
    "          ______)\n",
    "          _______)\n",
    "         _______)\n",
    "---.__________)\n",
    "'''\n",
    "\n",
    "scissors = '''\n",
    "    _______\n",
    "---'   ____)____\n",
    "          ______)\n",
    "       __________)\n",
    "      (____)\n",
    "---.__(___)\n",
    "'''\n",
    "\n",
    "game_images = [rock, paper, scissors]\n",
    "\n",
    "user_choice = int(input(\"What do you choose? Type 0 for Rock, 1 for Paper or 2 for Scissors.\\n\"))\n",
    "print(game_images[user_choice])\n",
    "\n",
    "computer_choice = random.randint(0, 2)\n",
    "print(\"Computer chose:\")\n",
    "print(game_images[computer_choice])\n",
    "\n",
    "if user_choice >= 3 or user_choice < 0: \n",
    "  print(\"You typed an invalid number, you lose!\") \n",
    "elif user_choice == 0 and computer_choice == 2:\n",
    "  print(\"You win!\")\n",
    "elif computer_choice == 0 and user_choice == 2:\n",
    "  print(\"You lose\")\n",
    "elif computer_choice > user_choice:\n",
    "  print(\"You lose\")\n",
    "elif user_choice > computer_choice:\n",
    "  print(\"You win!\")\n",
    "elif computer_choice == user_choice:\n",
    "  print(\"It's a draw\")\n",
    "\n",
    "####### Debugging challenge: #########\n",
    "#Try running this code and type 5.\n",
    "#It will give you an IndexError and point to line 32 as the issue.\n",
    "#But on line 38 we are trying to prevent a crash by detecting\n",
    "#any numbers great than or equal to 3 or less than 0.\n",
    "#So what's going on?\n",
    "#Can you debug the code and fix it?\n",
    "#Solution: https://repl.it/@appbrewery/rock-paper-scissors-debugged-end"
   ]
  },
  {
   "attachments": {},
   "cell_type": "markdown",
   "metadata": {},
   "source": [
    "Important You should not use the sum() or len() functions in your answer. You should try to replicate their functionality using what you have learnt about for loops."
   ]
  },
  {
   "cell_type": "code",
   "execution_count": 5,
   "metadata": {},
   "outputs": [
    {
     "name": "stdout",
     "output_type": "stream",
     "text": [
      "171\n"
     ]
    }
   ],
   "source": [
    "## 180, 124, 165, 173, 189, 169, 146\n",
    "## 156 178 165 171 187\n",
    "student_heights = input(\"Input a list of student heights \").split()\n",
    "\n",
    "total = 0\n",
    "cnt = 0\n",
    "for height in student_heights:\n",
    "    total += int(height)\n",
    "    cnt += 1\n",
    "\n",
    "result = round(total / cnt)\n",
    "print(result)\n"
   ]
  },
  {
   "attachments": {},
   "cell_type": "markdown",
   "metadata": {},
   "source": [
    "You are going to write a program that calculates the highest score from a List of scores.  \n",
    "Important you are not allowed to use the max or min functions."
   ]
  },
  {
   "cell_type": "code",
   "execution_count": 7,
   "metadata": {},
   "outputs": [
    {
     "name": "stdout",
     "output_type": "stream",
     "text": [
      "The highest score in the class is: 91\n"
     ]
    }
   ],
   "source": [
    "## 78 65 89 86 55 91 64 89\n",
    "students_scores = input().split()\n",
    "\n",
    "maximum_score = 0\n",
    "for score in students_scores:\n",
    "    if int(score) > maximum_score:\n",
    "        maximum_score = int(score)\n",
    "\n",
    "print(f\"The highest score in the class is: {maximum_score}\")"
   ]
  },
  {
   "cell_type": "code",
   "execution_count": 16,
   "metadata": {},
   "outputs": [
    {
     "name": "stdout",
     "output_type": "stream",
     "text": [
      "2550\n"
     ]
    }
   ],
   "source": [
    "res = 0\n",
    "for i in range(1, 101):\n",
    "    if i % 2 == 0:\n",
    "        res += i\n",
    "\n",
    "print(res)"
   ]
  },
  {
   "cell_type": "code",
   "execution_count": 18,
   "metadata": {},
   "outputs": [
    {
     "name": "stdout",
     "output_type": "stream",
     "text": [
      "1\n",
      "2\n",
      "Fizz\n",
      "4\n",
      "Buzz\n",
      "Fizz\n",
      "7\n",
      "8\n",
      "Fizz\n",
      "Buzz\n",
      "11\n",
      "Fizz\n",
      "13\n",
      "14\n",
      "FizzBuzz\n",
      "16\n",
      "17\n",
      "Fizz\n",
      "19\n",
      "Buzz\n",
      "Fizz\n",
      "22\n",
      "23\n",
      "Fizz\n",
      "Buzz\n",
      "26\n",
      "Fizz\n",
      "28\n",
      "29\n",
      "FizzBuzz\n",
      "31\n",
      "32\n",
      "Fizz\n",
      "34\n",
      "Buzz\n",
      "Fizz\n",
      "37\n",
      "38\n",
      "Fizz\n",
      "Buzz\n",
      "41\n",
      "Fizz\n",
      "43\n",
      "44\n",
      "FizzBuzz\n",
      "46\n",
      "47\n",
      "Fizz\n",
      "49\n",
      "Buzz\n",
      "Fizz\n",
      "52\n",
      "53\n",
      "Fizz\n",
      "Buzz\n",
      "56\n",
      "Fizz\n",
      "58\n",
      "59\n",
      "FizzBuzz\n",
      "61\n",
      "62\n",
      "Fizz\n",
      "64\n",
      "Buzz\n",
      "Fizz\n",
      "67\n",
      "68\n",
      "Fizz\n",
      "Buzz\n",
      "71\n",
      "Fizz\n",
      "73\n",
      "74\n",
      "FizzBuzz\n",
      "76\n",
      "77\n",
      "Fizz\n",
      "79\n",
      "Buzz\n",
      "Fizz\n",
      "82\n",
      "83\n",
      "Fizz\n",
      "Buzz\n",
      "86\n",
      "Fizz\n",
      "88\n",
      "89\n",
      "FizzBuzz\n",
      "91\n",
      "92\n",
      "Fizz\n",
      "94\n",
      "Buzz\n",
      "Fizz\n",
      "97\n",
      "98\n",
      "Fizz\n",
      "Buzz\n"
     ]
    }
   ],
   "source": [
    "for i in range(1, 101):\n",
    "    if i % 3 == 0 and i % 5 == 0:\n",
    "        print(\"FizzBuzz\")\n",
    "    elif i % 3 == 0:\n",
    "        print(\"Fizz\")\n",
    "    elif i % 5 == 0:\n",
    "        print(\"Buzz\")\n",
    "    else:\n",
    "        print(i)"
   ]
  },
  {
   "cell_type": "code",
   "execution_count": 12,
   "metadata": {},
   "outputs": [
    {
     "name": "stdout",
     "output_type": "stream",
     "text": [
      "dwyBD+*&#+67110\n",
      "01dD1+y*+B6#w&7\n"
     ]
    }
   ],
   "source": [
    "import random\n",
    "from configs import letters, symbols, numbers\n",
    "\n",
    "n_let = int(input(\"How many letters would you like in your password?\\n\"))\n",
    "n_sym = int(input(\"How many symbols would you like?\\n\"))\n",
    "n_num = int(input(\"How many numbers would you like?\\n\"))\n",
    "\n",
    "chrs = [letters, symbols, numbers]\n",
    "nums = [n_let, n_sym, n_num]\n",
    "res = \"\"\n",
    "for idx in range(3):\n",
    "    chr = chrs[idx]\n",
    "    num = nums[idx]\n",
    "    \n",
    "    for n in range(num):\n",
    "        rand_int = random.randint(0, len(chr)-1)\n",
    "        res += chr[rand_int]\n",
    "print(res)\n",
    "\n",
    "res2 = \"\".join(random.sample(res, len(res)))\n",
    "print(res2)"
   ]
  },
  {
   "cell_type": "code",
   "execution_count": null,
   "metadata": {},
   "outputs": [],
   "source": []
  }
 ],
 "metadata": {
  "kernelspec": {
   "display_name": "base",
   "language": "python",
   "name": "python3"
  },
  "language_info": {
   "codemirror_mode": {
    "name": "ipython",
    "version": 3
   },
   "file_extension": ".py",
   "mimetype": "text/x-python",
   "name": "python",
   "nbconvert_exporter": "python",
   "pygments_lexer": "ipython3",
   "version": "3.9.7 (default, Sep 16 2021, 08:50:36) \n[Clang 10.0.0 ]"
  },
  "orig_nbformat": 4,
  "vscode": {
   "interpreter": {
    "hash": "ed9700ab81b7297e6986a97a9b8454b96a302622dbd1fe5603b4cfb37e904a7d"
   }
  }
 },
 "nbformat": 4,
 "nbformat_minor": 2
}
