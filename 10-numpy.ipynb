{
 "cells": [
  {
   "cell_type": "code",
   "execution_count": 1,
   "metadata": {},
   "outputs": [],
   "source": [
    "import numpy as np"
   ]
  },
  {
   "attachments": {},
   "cell_type": "markdown",
   "metadata": {},
   "source": [
    "# numpy function\n",
    "\n",
    "- array\n",
    "- arange\n",
    "- linspace\n",
    "- fromfunction"
   ]
  },
  {
   "attachments": {},
   "cell_type": "markdown",
   "metadata": {},
   "source": [
    "## np.array\n",
    "파이썬의 리스트나 튜플을 np.array()로 변환하는 방식으로 사용.  \n",
    "인수들 중 order는 다차원 데이터가 어떻게 정렬되어야 할지 결정한다. 기본값은 K이며, 어떤 값을 설정하든 소스 데이터를 보존한다. C는 행 우선, F는 열 우선 순서를 따른다."
   ]
  },
  {
   "cell_type": "code",
   "execution_count": 2,
   "metadata": {},
   "outputs": [
    {
     "name": "stdout",
     "output_type": "stream",
     "text": [
      "[[1 2 3]\n",
      " [4 5 6]\n",
      " [7 8 9]]\n"
     ]
    }
   ],
   "source": [
    "a1 = np.array([[1, 2, 3], [4, 5, 6], [7, 8, 9]])\n",
    "print(a1)"
   ]
  },
  {
   "attachments": {},
   "cell_type": "markdown",
   "metadata": {},
   "source": [
    "## np.arange\n",
    "1부터 N까지의 값으로 구성된 배열을 생성. 파이썬의 range함수와 유사하며, 1차원 배열만 생성할 수 있다."
   ]
  },
  {
   "cell_type": "code",
   "execution_count": 3,
   "metadata": {},
   "outputs": [
    {
     "name": "stdout",
     "output_type": "stream",
     "text": [
      "[1 2 3 4 5 6 7 8 9]\n"
     ]
    }
   ],
   "source": [
    "a2 = np.arange(1, 10)\n",
    "print(a2)"
   ]
  },
  {
   "attachments": {},
   "cell_type": "markdown",
   "metadata": {},
   "source": [
    "## np.linspace\n",
    "\n",
    "np.arange 함수와 비슷하지만, 정수와 부동소수점도 함께다루며 항목간의 값 차이도 자유롭게 설정할 수 있다.  \n",
    "arange함수처럼 1차원 배열만 생성한다."
   ]
  },
  {
   "cell_type": "code",
   "execution_count": 4,
   "metadata": {},
   "outputs": [
    {
     "name": "stdout",
     "output_type": "stream",
     "text": [
      "[0.   0.25 0.5  0.75 1.  ]\n",
      "[1.    2.125 3.25  4.375 5.5   6.625 7.75  8.875]\n"
     ]
    }
   ],
   "source": [
    "a3 = np.linspace(0, 1.0, num=5) ## 0 ~ 1사이를 5개 값으로 분할\n",
    "print(a3)\n",
    "\n",
    "a4 = np.linspace(1., 10.0, num=8, endpoint=False) ## endpoint=False는 마지막 값을 포함시키지 않는다.\n",
    "print(a4)"
   ]
  },
  {
   "attachments": {},
   "cell_type": "markdown",
   "metadata": {},
   "source": [
    "## np.eye\n",
    "numpy의 identity 함수와 비슷하며 2차원 배열만 생성한다. 행과 열의 번호가 동일한 원소는 1을 채우고 나머지는 0으로 채운다."
   ]
  },
  {
   "cell_type": "code",
   "execution_count": 5,
   "metadata": {},
   "outputs": [
    {
     "name": "stdout",
     "output_type": "stream",
     "text": [
      "np.eye() \n",
      " [[1 0 0 0]\n",
      " [0 1 0 0]\n",
      " [0 0 1 0]\n",
      " [0 0 0 1]] \n",
      "\n",
      "np.eye() \n",
      " [[1 0 0 0 0]\n",
      " [0 1 0 0 0]\n",
      " [0 0 1 0 0]\n",
      " [0 0 0 1 0]] \n",
      "\n"
     ]
    }
   ],
   "source": [
    "a_eye = np.eye(4, dtype=np.int32)\n",
    "print(f\"np.eye() \\n {a_eye} \\n\")\n",
    "\n",
    "a_eye = np.eye(N=4, M=5, dtype=np.int32)\n",
    "print(f\"np.eye() \\n {a_eye} \\n\")"
   ]
  },
  {
   "attachments": {},
   "cell_type": "markdown",
   "metadata": {},
   "source": [
    "## np.ones, np.zeros, np.full\n",
    "\n",
    "np.ones, zeros, full 함수는 용도가 동일하다. 지정된 shape의 배열을 생성하되, ones는 1로, zeros는 0으로, full은 지정한 fill_value로 배열을 채운다."
   ]
  },
  {
   "cell_type": "code",
   "execution_count": 6,
   "metadata": {},
   "outputs": [
    {
     "name": "stdout",
     "output_type": "stream",
     "text": [
      "np.ones() \n",
      " [[1. 1. 1.]\n",
      " [1. 1. 1.]\n",
      " [1. 1. 1.]] \n",
      "\n",
      "np.zeros() \n",
      " [[0. 0. 0.]\n",
      " [0. 0. 0.]\n",
      " [0. 0. 0.]] \n",
      "\n",
      "np.full() \n",
      " [[3.141592 3.141592 3.141592]\n",
      " [3.141592 3.141592 3.141592]\n",
      " [3.141592 3.141592 3.141592]] \n",
      "\n"
     ]
    }
   ],
   "source": [
    "a_ones = np.ones((3, 3))\n",
    "print(f\"np.ones() \\n {a_ones} \\n\")\n",
    "\n",
    "a_zeros = np.zeros((3, 3))\n",
    "print(f\"np.zeros() \\n {a_zeros} \\n\")\n",
    "\n",
    "a_full = np.full((3, 3), fill_value=3.141592)\n",
    "print(f\"np.full() \\n {a_full} \\n\")"
   ]
  },
  {
   "attachments": {},
   "cell_type": "markdown",
   "metadata": {},
   "source": [
    "## np.fromfunction\n",
    "\n",
    "np.fromfunction은 shape인수로 전달된 값의 index를 인수로 사용하는 함수를 통해 배열을 생성하고 초기화한다.\n"
   ]
  },
  {
   "cell_type": "code",
   "execution_count": 7,
   "metadata": {},
   "outputs": [
    {
     "name": "stdout",
     "output_type": "stream",
     "text": [
      "[1. 2. 3. 4. 5.]\n"
     ]
    }
   ],
   "source": [
    "def simple(n):\n",
    "    return n + 1\n",
    "\n",
    "a = np.fromfunction(simple, (5,)) ## shape = 5 ---> 0, 1, 2, 3, 4 가 simple function의 n으로 전달된다.\n",
    "print(a)"
   ]
  },
  {
   "cell_type": "code",
   "execution_count": 8,
   "metadata": {},
   "outputs": [
    {
     "name": "stdout",
     "output_type": "stream",
     "text": [
      "[[0. 1. 2.]\n",
      " [1. 2. 3.]\n",
      " [2. 3. 4.]]\n"
     ]
    }
   ],
   "source": [
    "## (0, 0), (0, 1), (0, 2)\n",
    "## (1, 0), (1, 1), (1, 2)\n",
    "## (2, 0), (2, 1), (2, 2)\n",
    "a = np.fromfunction(lambda r, c : r + c, (3, 3))\n",
    "print(a)"
   ]
  },
  {
   "cell_type": "code",
   "execution_count": 9,
   "metadata": {},
   "outputs": [
    {
     "name": "stdout",
     "output_type": "stream",
     "text": [
      "[[  1.   2.   3.   4.   5.   6.   7.   8.   9.  10.]\n",
      " [  2.   4.   6.   8.  10.  12.  14.  16.  18.  20.]\n",
      " [  3.   6.   9.  12.  15.  18.  21.  24.  27.  30.]\n",
      " [  4.   8.  12.  16.  20.  24.  28.  32.  36.  40.]\n",
      " [  5.  10.  15.  20.  25.  30.  35.  40.  45.  50.]\n",
      " [  6.  12.  18.  24.  30.  36.  42.  48.  54.  60.]\n",
      " [  7.  14.  21.  28.  35.  42.  49.  56.  63.  70.]\n",
      " [  8.  16.  24.  32.  40.  48.  56.  64.  72.  80.]\n",
      " [  9.  18.  27.  36.  45.  54.  63.  72.  81.  90.]\n",
      " [ 10.  20.  30.  40.  50.  60.  70.  80.  90. 100.]]\n",
      "   1.   2.   3.   4.   5.   6.   7.   8.   9.  10.\n",
      "   2.   4.   6.   8.  10.  12.  14.  16.  18.  20.\n",
      "   3.   6.   9.  12.  15.  18.  21.  24.  27.  30.\n",
      "   4.   8.  12.  16.  20.  24.  28.  32.  36.  40.\n",
      "   5.  10.  15.  20.  25.  30.  35.  40.  45.  50.\n",
      "   6.  12.  18.  24.  30.  36.  42.  48.  54.  60.\n",
      "   7.  14.  21.  28.  35.  42.  49.  56.  63.  70.\n",
      "   8.  16.  24.  32.  40.  48.  56.  64.  72.  80.\n",
      "   9.  18.  27.  36.  45.  54.  63.  72.  81.  90.\n",
      "  10.  20.  30.  40.  50.  60.  70.  80.  90. 100.\n"
     ]
    }
   ],
   "source": [
    "def multiplication_table(target, num):\n",
    "    return (target + 1) * (num + 1)\n",
    "\n",
    "a = np.fromfunction(multiplication_table, (10, 10))\n",
    "print(a)\n",
    "\n",
    "str_a = str(a)\n",
    "str_a = str_a.replace('[', '')\n",
    "str_a = str_a.replace(']', '')\n",
    "str_a = ' ' + str_a\n",
    "\n",
    "print(str_a)"
   ]
  },
  {
   "attachments": {},
   "cell_type": "markdown",
   "metadata": {},
   "source": [
    "# View\n",
    "\n",
    "Slicing으로 만든 조각은 원본의 뷰(View)이다. 이는 원본 데이터의 복사본이 아니라는 뜻이다.  \n",
    "따라서 뷰의 데이터를 변경하게 되면 원본 데이터도 함께 변경된다."
   ]
  },
  {
   "cell_type": "code",
   "execution_count": 10,
   "metadata": {},
   "outputs": [
    {
     "name": "stdout",
     "output_type": "stream",
     "text": [
      "arr1 : [ 0  1  2 -1  4  5  6]\n",
      "arr1 slice : [-1  4  5]\n"
     ]
    }
   ],
   "source": [
    "import numpy as np\n",
    "\n",
    "arr1 = np.arange(7) # 0 1 2 3 4 5 6\n",
    "arr1_slice = arr1[3:6] # 3 4 5\n",
    "arr1_slice[0] = -1\n",
    "print(f\"arr1 : {arr1}\")\n",
    "print(f\"arr1 slice : {arr1_slice}\")"
   ]
  },
  {
   "attachments": {},
   "cell_type": "markdown",
   "metadata": {},
   "source": [
    "# Broad casting\n",
    "\n",
    "numpy 배열을 만들면 스칼라 값과 결합하여 산술 연산을 할 수 있다."
   ]
  },
  {
   "cell_type": "code",
   "execution_count": 11,
   "metadata": {},
   "outputs": [
    {
     "name": "stdout",
     "output_type": "stream",
     "text": [
      "[ 3  4  5  6  7  8  9 10 11]\n",
      "[-1  0  1  2  3  4  5  6  7]\n",
      "[ 2  4  6  8 10 12 14 16 18]\n",
      "[0.5 1.  1.5 2.  2.5 3.  3.5 4.  4.5]\n",
      "[ 1  4  9 16 25 36 49 64 81]\n"
     ]
    }
   ],
   "source": [
    "a = np.arange(1, 10)\n",
    "b = 2\n",
    "\n",
    "print(a + b)\n",
    "print(a - b)\n",
    "print(a * b)\n",
    "print(a / b)\n",
    "print(a ** b)"
   ]
  },
  {
   "attachments": {},
   "cell_type": "markdown",
   "metadata": {},
   "source": [
    "배열 간 연산에서는 같은 구조(차원 수가 같고, 각차원의 크기가 같음)를 가져야 연산이 가능하다."
   ]
  },
  {
   "cell_type": "code",
   "execution_count": 12,
   "metadata": {},
   "outputs": [
    {
     "name": "stdout",
     "output_type": "stream",
     "text": [
      "(2, 2) (2, 2)\n",
      "[[1 2]\n",
      " [3 4]]\n",
      "[[6 7]\n",
      " [8 9]]\n"
     ]
    }
   ],
   "source": [
    "a = np.arange(1, 5).reshape(2, 2)\n",
    "b = np.arange(6, 10).reshape(2, 2)\n",
    "\n",
    "print(a.shape, b.shape)\n",
    "print(a)\n",
    "print(b)"
   ]
  },
  {
   "cell_type": "code",
   "execution_count": 13,
   "metadata": {},
   "outputs": [
    {
     "name": "stdout",
     "output_type": "stream",
     "text": [
      "[[ 7  9]\n",
      " [11 13]]\n",
      "[[-5 -5]\n",
      " [-5 -5]]\n",
      "[[ 6 14]\n",
      " [24 36]]\n",
      "[[0.16666667 0.28571429]\n",
      " [0.375      0.44444444]]\n",
      "[[     1    128]\n",
      " [  6561 262144]]\n"
     ]
    }
   ],
   "source": [
    "print(a + b)\n",
    "print(a - b)\n",
    "print(a * b)\n",
    "print(a / b)\n",
    "print(a ** b)"
   ]
  },
  {
   "attachments": {},
   "cell_type": "markdown",
   "metadata": {},
   "source": [
    "# Slicing"
   ]
  },
  {
   "attachments": {},
   "cell_type": "markdown",
   "metadata": {},
   "source": [
    "리스트 슬라이싱과 유사하다. 잘라낸 조각에 대입 연산자를 사용하면 메모리 속에 있는 값이 바로 변경된다."
   ]
  },
  {
   "cell_type": "code",
   "execution_count": 16,
   "metadata": {},
   "outputs": [
    {
     "name": "stdout",
     "output_type": "stream",
     "text": [
      "[1 2 3 4 5 6 7 8 9]\n",
      "[  1   2 103 104 105   6   7   8   9]\n",
      "[103 104 105]\n"
     ]
    }
   ],
   "source": [
    "a = np.arange(1, 10)\n",
    "print(a)\n",
    "\n",
    "slice1 = a[2:5]\n",
    "slice1 += 100\n",
    "print(a)\n",
    "print(slice1)"
   ]
  },
  {
   "cell_type": "code",
   "execution_count": 17,
   "metadata": {},
   "outputs": [
    {
     "name": "stdout",
     "output_type": "stream",
     "text": [
      "[1 2 3 4 5 6 7 8 9]\n",
      "[1 2 3 4 5 6 7 8 9]\n",
      "[103 104 105]\n"
     ]
    }
   ],
   "source": [
    "a = np.arange(1, 10)\n",
    "print(a)\n",
    "\n",
    "slice2 = a[2:5]\n",
    "slice2 = slice2 + 100 ## 잘라낸 조각에 100을 더한 값을 재대입하는 것이므로 원래의 배열은 바뀌지 않는다.\n",
    "print(a)\n",
    "print(slice2)"
   ]
  },
  {
   "attachments": {},
   "cell_type": "markdown",
   "metadata": {},
   "source": [
    "# masking\n",
    "\n",
    "- A > 0 : A의 각 항목 중 0보다 큰 값은 True, 작은 값은 False로 설정한 배열을 만든다.\n",
    "- A[A > 5] : 5보다 큰 항목을 모두 선택한 배열을 만든다.\n",
    "- A * (A > 5) : 원래의 배열 A와 boolean mask를 곱한 결과 배열 만든다."
   ]
  },
  {
   "cell_type": "code",
   "execution_count": 22,
   "metadata": {},
   "outputs": [
    {
     "name": "stdout",
     "output_type": "stream",
     "text": [
      "[[False False False]\n",
      " [False False  True]\n",
      " [ True  True  True]]\n",
      "[6 7 8 9]\n",
      "[[1 2 3]\n",
      " [4 5 6]\n",
      " [7 8 9]]\n"
     ]
    }
   ],
   "source": [
    "b = np.arange(1, 10).reshape(3, 3)\n",
    "b_mask1 = b > 5\n",
    "print(b_mask1)\n",
    "\n",
    "b_mask2 = b[b > 5]\n",
    "print(b_mask2)\n",
    "\n",
    "print(b)"
   ]
  },
  {
   "cell_type": "code",
   "execution_count": 23,
   "metadata": {},
   "outputs": [
    {
     "name": "stdout",
     "output_type": "stream",
     "text": [
      "[[1 2 3]\n",
      " [4 5 6]\n",
      " [7 8 9]]\n"
     ]
    }
   ],
   "source": [
    "a = np.arange(1, 10).reshape(3, 3)\n",
    "print(a)"
   ]
  },
  {
   "cell_type": "code",
   "execution_count": 26,
   "metadata": {},
   "outputs": [
    {
     "name": "stdout",
     "output_type": "stream",
     "text": [
      "[12 15 18]\n"
     ]
    }
   ],
   "source": [
    "axis_0 = np.sum(a, axis=0)\n",
    "print(axis_0)"
   ]
  },
  {
   "cell_type": "code",
   "execution_count": null,
   "metadata": {},
   "outputs": [],
   "source": []
  }
 ],
 "metadata": {
  "kernelspec": {
   "display_name": "base",
   "language": "python",
   "name": "python3"
  },
  "language_info": {
   "codemirror_mode": {
    "name": "ipython",
    "version": 3
   },
   "file_extension": ".py",
   "mimetype": "text/x-python",
   "name": "python",
   "nbconvert_exporter": "python",
   "pygments_lexer": "ipython3",
   "version": "3.9.13"
  },
  "orig_nbformat": 4,
  "vscode": {
   "interpreter": {
    "hash": "40d3a090f54c6569ab1632332b64b2c03c39dcf918b08424e98f38b5ae0af88f"
   }
  }
 },
 "nbformat": 4,
 "nbformat_minor": 2
}
