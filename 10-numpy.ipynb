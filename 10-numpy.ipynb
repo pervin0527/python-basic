{
 "cells": [
  {
   "cell_type": "code",
   "execution_count": 29,
   "metadata": {},
   "outputs": [],
   "source": [
    "import numpy as np"
   ]
  },
  {
   "cell_type": "code",
   "execution_count": 30,
   "metadata": {},
   "outputs": [
    {
     "name": "stdout",
     "output_type": "stream",
     "text": [
      "[[1 2 3]\n",
      " [4 5 6]\n",
      " [7 8 9]]\n",
      "[1 2 3 4 5 6 7 8 9]\n",
      "[0.   0.25 0.5  0.75 1.  ]\n"
     ]
    }
   ],
   "source": [
    "a1 = np.array([[1, 2, 3], [4, 5, 6], [7, 8, 9]])\n",
    "print(a1)\n",
    "\n",
    "a2 = np.arange(1, 10) ## 1에서부터 n-1까지의 범위를 생성. range()와 동일.\n",
    "print(a2) # 1차원 배열만 생성한다.\n",
    "\n",
    "## arange 함수와 비슷하게 1차원 배열을 생성. 단, 부동소수점을 포함한다.\n",
    "## num 인수는 생성할 값의 수를 지정한다.\n",
    "a3 = np.linspace(0, 1.0, num=5)\n",
    "print(a3)"
   ]
  },
  {
   "cell_type": "code",
   "execution_count": 31,
   "metadata": {},
   "outputs": [
    {
     "name": "stdout",
     "output_type": "stream",
     "text": [
      "[[    0     0]\n",
      " [    0 16368]]\n"
     ]
    }
   ],
   "source": [
    "empty_arr = np.empty(shape=(2, 2), dtype=np.int16, order=\"C\")\n",
    "## order는 행이나 열의 우선을 정한다. \"C\"는 행우선, \"F\"는 열우선\n",
    "\n",
    "print(empty_arr)"
   ]
  },
  {
   "cell_type": "code",
   "execution_count": 32,
   "metadata": {},
   "outputs": [
    {
     "name": "stdout",
     "output_type": "stream",
     "text": [
      "np.eye() \n",
      " [[1 0 0 0]\n",
      " [0 1 0 0]\n",
      " [0 0 1 0]\n",
      " [0 0 0 1]] \n",
      "\n",
      "np.ones() \n",
      " [[1. 1. 1.]\n",
      " [1. 1. 1.]\n",
      " [1. 1. 1.]] \n",
      "\n",
      "np.zeros() \n",
      " [[0. 0. 0.]\n",
      " [0. 0. 0.]\n",
      " [0. 0. 0.]] \n",
      "\n",
      "np.full() \n",
      " [[3.141592 3.141592 3.141592]\n",
      " [3.141592 3.141592 3.141592]\n",
      " [3.141592 3.141592 3.141592]] \n",
      "\n"
     ]
    }
   ],
   "source": [
    "a_eye = np.eye(4, dtype=np.int32)\n",
    "print(f\"np.eye() \\n {a_eye} \\n\")\n",
    "\n",
    "a_ones = np.ones((3, 3))\n",
    "print(f\"np.ones() \\n {a_ones} \\n\")\n",
    "\n",
    "a_zeros = np.zeros((3, 3))\n",
    "print(f\"np.zeros() \\n {a_zeros} \\n\")\n",
    "\n",
    "a_full = np.full((3, 3), fill_value=3.141592)\n",
    "print(f\"np.full() \\n {a_full} \\n\")"
   ]
  },
  {
   "cell_type": "code",
   "execution_count": 33,
   "metadata": {},
   "outputs": [
    {
     "name": "stdout",
     "output_type": "stream",
     "text": [
      "[1. 2. 3. 4. 5.]\n"
     ]
    }
   ],
   "source": [
    "## np.fromfunction은 shape인수로 전달된 값의 index를 인수로 사용하는 함수를 통해 배열을 생성하고 초기화한다.\n",
    "\n",
    "def simple(n):\n",
    "    return n + 1\n",
    "\n",
    "a = np.fromfunction(simple, (5,)) ## shape = 5 ---> 0, 1, 2, 3, 4 가 simple function의 n으로 전달된다.\n",
    "print(a)"
   ]
  },
  {
   "cell_type": "code",
   "execution_count": 34,
   "metadata": {},
   "outputs": [
    {
     "name": "stdout",
     "output_type": "stream",
     "text": [
      "[[0. 1. 2.]\n",
      " [1. 2. 3.]\n",
      " [2. 3. 4.]]\n"
     ]
    }
   ],
   "source": [
    "a = np.fromfunction(lambda r, c : r + c, (3, 3))\n",
    "print(a)"
   ]
  },
  {
   "cell_type": "code",
   "execution_count": 35,
   "metadata": {},
   "outputs": [
    {
     "name": "stdout",
     "output_type": "stream",
     "text": [
      "[ 1  2  3  4  5  6  7  8  9 10]\n"
     ]
    }
   ],
   "source": [
    "## numpy slicing\n",
    "A = np.arange(1, 11)\n",
    "print(A)"
   ]
  },
  {
   "cell_type": "code",
   "execution_count": 36,
   "metadata": {},
   "outputs": [
    {
     "name": "stdout",
     "output_type": "stream",
     "text": [
      "[4 5]\n"
     ]
    }
   ],
   "source": [
    "print(A[3:5]) ## slicing의 end는 end-1까지 값을 자른다."
   ]
  },
  {
   "cell_type": "code",
   "execution_count": 37,
   "metadata": {},
   "outputs": [
    {
     "name": "stdout",
     "output_type": "stream",
     "text": [
      "[ 1  2  0  0  0  6  7  8  9 10]\n",
      "[  1   2 100 100 100   6   7   8   9  10]\n"
     ]
    }
   ],
   "source": [
    "## numpy의 slice의 흥미로운 점은 스칼라 값을 대입할 수 있다.\n",
    "A[2:5] = 0\n",
    "print(A)\n",
    "\n",
    "A[2:5] += 100\n",
    "print(A)"
   ]
  },
  {
   "cell_type": "code",
   "execution_count": 38,
   "metadata": {},
   "outputs": [
    {
     "name": "stdout",
     "output_type": "stream",
     "text": [
      "[ 0  1  2  3  4  5  6  7  8  9 10 11 12 13 14 15 16 17 18 19 20 21 22 23\n",
      " 24 25 26 27 28 29 30 31 32 33 34 35 36 37 38 39 40 41 42 43 44 45 46 47\n",
      " 48 49 50]\n"
     ]
    }
   ],
   "source": [
    "A = np.arange(51)\n",
    "print(A)"
   ]
  },
  {
   "cell_type": "code",
   "execution_count": 39,
   "metadata": {},
   "outputs": [
    {
     "name": "stdout",
     "output_type": "stream",
     "text": [
      "[ 0  0  2  3  4  5  6  7  8  9 10 11 12 13 14 15 16 17 18 19 20 21 22 23\n",
      " 24 25 26 27 28 29 30 31 32 33 34 35 36 37 38 39 40 41 42 43 44 45 46 47\n",
      " 48 49 50]\n",
      "[ 0  0  2  3  0  5  0  7  0  9  0 11  0 13  0 15  0 17  0 19  0 21  0 23\n",
      "  0 25  0 27  0 29  0 31  0 33  0 35  0 37  0 39  0 41  0 43  0 45  0 47\n",
      "  0 49  0]\n"
     ]
    }
   ],
   "source": [
    "A[1] = 0\n",
    "print(A)\n",
    "\n",
    "A[2 * 2::2] = 0\n",
    "print(A)"
   ]
  },
  {
   "cell_type": "code",
   "execution_count": 40,
   "metadata": {},
   "outputs": [
    {
     "name": "stdout",
     "output_type": "stream",
     "text": [
      "[ 0  0  2  3  0  5  0  7  0  0  0 11  0 13  0  0  0 17  0 19  0  0  0 23\n",
      "  0 25  0  0  0 29  0 31  0  0  0 35  0 37  0  0  0 41  0 43  0  0  0 47\n",
      "  0 49  0]\n"
     ]
    }
   ],
   "source": [
    "A[3 * 3::3] = 0\n",
    "print(A)"
   ]
  },
  {
   "cell_type": "code",
   "execution_count": 41,
   "metadata": {},
   "outputs": [
    {
     "name": "stdout",
     "output_type": "stream",
     "text": [
      "[ 0  0  2  3  0  5  0  7  0  0  0 11  0 13  0  0  0 17  0 19  0  0  0 23\n",
      "  0  0  0  0  0 29  0 31  0  0  0  0  0 37  0  0  0 41  0 43  0  0  0 47\n",
      "  0  0  0]\n"
     ]
    }
   ],
   "source": [
    "A[5 * 5::5] = 0\n",
    "A[7 * 7::7] = 0\n",
    "\n",
    "print(A)"
   ]
  },
  {
   "cell_type": "code",
   "execution_count": 42,
   "metadata": {},
   "outputs": [
    {
     "name": "stdout",
     "output_type": "stream",
     "text": [
      "[ 2  3  5  7 11 13 17 19 23 29 31 37 41 43 47]\n"
     ]
    }
   ],
   "source": [
    "P = A[A > 0] ## boolean array는 indexing 작업을 통해서만 배열 A자체에 마스크로 적용할 수 있다.\n",
    "print(P)"
   ]
  },
  {
   "cell_type": "code",
   "execution_count": 43,
   "metadata": {},
   "outputs": [
    {
     "name": "stdout",
     "output_type": "stream",
     "text": [
      "[[ 1  2  3  4]\n",
      " [ 5  6  7  8]\n",
      " [ 9 10 11 12]\n",
      " [13 14 15 16]]\n"
     ]
    }
   ],
   "source": [
    "A = np.arange(1, 17).reshape((4, 4))\n",
    "print(A)"
   ]
  },
  {
   "cell_type": "code",
   "execution_count": 44,
   "metadata": {},
   "outputs": [
    {
     "name": "stdout",
     "output_type": "stream",
     "text": [
      "[[ 5  6  7  8]\n",
      " [ 9 10 11 12]]\n",
      "[[ 2  3]\n",
      " [ 6  7]\n",
      " [10 11]\n",
      " [14 15]]\n"
     ]
    }
   ],
   "source": [
    "print(A[1:3]) ## 1행부터 3-1행까지 가져온다.\n",
    "print(A[:, 1:3]) ## 전체 행차원을 선택하고, 1열 ~ 3-1열까지 가져온다."
   ]
  },
  {
   "cell_type": "code",
   "execution_count": 45,
   "metadata": {},
   "outputs": [
    {
     "name": "stdout",
     "output_type": "stream",
     "text": [
      "[[1 2 3]\n",
      " [4 5 6]\n",
      " [7 8 9]]\n"
     ]
    }
   ],
   "source": [
    "a = np.arange(1, 10).reshape((3, 3))\n",
    "print(a)"
   ]
  },
  {
   "cell_type": "code",
   "execution_count": 46,
   "metadata": {},
   "outputs": [
    {
     "name": "stdout",
     "output_type": "stream",
     "text": [
      "[[1 2 3]]\n"
     ]
    }
   ],
   "source": [
    "print(a[0:1])"
   ]
  },
  {
   "cell_type": "code",
   "execution_count": 47,
   "metadata": {},
   "outputs": [
    {
     "name": "stdout",
     "output_type": "stream",
     "text": [
      "[[1]\n",
      " [4]\n",
      " [7]]\n"
     ]
    }
   ],
   "source": [
    "print(a[:, 0:1])"
   ]
  },
  {
   "cell_type": "code",
   "execution_count": 50,
   "metadata": {},
   "outputs": [
    {
     "name": "stdout",
     "output_type": "stream",
     "text": [
      "[[False False False]\n",
      " [False  True  True]\n",
      " [ True  True  True]]\n",
      "[[0 0 0]\n",
      " [0 5 6]\n",
      " [7 8 9]]\n"
     ]
    }
   ],
   "source": [
    "b = a > 4\n",
    "print(b)\n",
    "\n",
    "b = a * (a > 4)\n",
    "print(b)"
   ]
  },
  {
   "cell_type": "code",
   "execution_count": 51,
   "metadata": {},
   "outputs": [
    {
     "name": "stdout",
     "output_type": "stream",
     "text": [
      "[[13  5  4 16]\n",
      " [19  6  5 19]\n",
      " [ 2  7  8  2]]\n"
     ]
    }
   ],
   "source": [
    "A = np.random.randint(1, 20, (3, 4))\n",
    "print(A)"
   ]
  },
  {
   "cell_type": "code",
   "execution_count": 53,
   "metadata": {},
   "outputs": [
    {
     "name": "stdout",
     "output_type": "stream",
     "text": [
      "[34 18 17 37]\n",
      "[38 49 19]\n"
     ]
    }
   ],
   "source": [
    "print(np.sum(A, axis=0)) ## 열을 기준으로 총합.\n",
    "print(np.sum(A, axis=1)) ## 행을 기준으로 총합."
   ]
  },
  {
   "cell_type": "code",
   "execution_count": 56,
   "metadata": {},
   "outputs": [
    {
     "name": "stdout",
     "output_type": "stream",
     "text": [
      "(3, 4)\n",
      "[5 6 7 8]\n",
      "[ 9 10 11 12]\n"
     ]
    }
   ],
   "source": [
    "a = np.array([[1, 2, 3, 4], \n",
    "              [5, 6, 7, 8], \n",
    "              [9, 10, 11, 12]])\n",
    "print(a.shape) ## 3, 4\n",
    "\n",
    "row_r1 = a[1, :]\n",
    "print(row_r1)\n",
    "\n",
    "row_r2 = a[2, :]\n",
    "print(row_r2)\n"
   ]
  },
  {
   "cell_type": "code",
   "execution_count": 57,
   "metadata": {},
   "outputs": [
    {
     "name": "stdout",
     "output_type": "stream",
     "text": [
      "[8 9]\n"
     ]
    }
   ],
   "source": [
    "a = np.array([[1, 2, 3], [4, 5, 6], [7, 8, 9]])\n",
    "print(a[2, 1:4])"
   ]
  },
  {
   "cell_type": "code",
   "execution_count": 59,
   "metadata": {},
   "outputs": [
    {
     "name": "stdout",
     "output_type": "stream",
     "text": [
      "[[ 0  1  2  3]\n",
      " [ 4  5  6  7]\n",
      " [ 8  9 10 11]]\n"
     ]
    }
   ],
   "source": [
    "test_arr = np.arange(12).reshape((3, 4))\n",
    "print(test_arr)"
   ]
  },
  {
   "cell_type": "code",
   "execution_count": 60,
   "metadata": {},
   "outputs": [
    {
     "name": "stdout",
     "output_type": "stream",
     "text": [
      "[0 1 2 3]\n",
      "[4 5 6 7]\n"
     ]
    }
   ],
   "source": [
    "print(test_arr[0, :]) ## 0번째 행\n",
    "print(test_arr[1, :]) ## 1번째 행"
   ]
  },
  {
   "cell_type": "code",
   "execution_count": 63,
   "metadata": {},
   "outputs": [
    {
     "name": "stdout",
     "output_type": "stream",
     "text": [
      "[[ 5  6]\n",
      " [ 9 10]]\n"
     ]
    }
   ],
   "source": [
    "print(test_arr[1:3, 1:3])"
   ]
  },
  {
   "cell_type": "code",
   "execution_count": 64,
   "metadata": {},
   "outputs": [
    {
     "name": "stdout",
     "output_type": "stream",
     "text": [
      "[12 15 18 21]\n"
     ]
    }
   ],
   "source": [
    "row_wise_sum = test_arr.sum(axis=0)\n",
    "print(row_wise_sum)"
   ]
  },
  {
   "cell_type": "code",
   "execution_count": 65,
   "metadata": {},
   "outputs": [
    {
     "name": "stdout",
     "output_type": "stream",
     "text": [
      "[ 6 22 38]\n"
     ]
    }
   ],
   "source": [
    "col_wise_sum = test_arr.sum(axis=1)\n",
    "print(col_wise_sum)"
   ]
  },
  {
   "cell_type": "code",
   "execution_count": null,
   "metadata": {},
   "outputs": [],
   "source": []
  }
 ],
 "metadata": {
  "kernelspec": {
   "display_name": "base",
   "language": "python",
   "name": "python3"
  },
  "language_info": {
   "codemirror_mode": {
    "name": "ipython",
    "version": 3
   },
   "file_extension": ".py",
   "mimetype": "text/x-python",
   "name": "python",
   "nbconvert_exporter": "python",
   "pygments_lexer": "ipython3",
   "version": "3.9.13"
  },
  "orig_nbformat": 4,
  "vscode": {
   "interpreter": {
    "hash": "40d3a090f54c6569ab1632332b64b2c03c39dcf918b08424e98f38b5ae0af88f"
   }
  }
 },
 "nbformat": 4,
 "nbformat_minor": 2
}
