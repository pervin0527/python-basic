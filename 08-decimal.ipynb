{
 "cells": [
  {
   "attachments": {},
   "cell_type": "markdown",
   "metadata": {},
   "source": [
    "# 부동소수점 포맷의 제약 사항\n",
    "float 값의 문제점은 10진수 포맷으로 출력되지만, 내부적으로는 이진수로 저장된다는 점이다.  \n",
    "예를 들어 10진수 2.5는 10.1로 정확하게 이진수 부동소수점으로 출력할 수 있다.  \n",
    "하지만 0.3과 같은 10진수 소수점은 10분의 3으로 저장해야 하는데 아무리 많은 소수를 사용해도 정확한 이진수 포맷으로 저장할 수 없다.(2의 제곱이 아니니까)"
   ]
  },
  {
   "cell_type": "code",
   "execution_count": 4,
   "metadata": {},
   "outputs": [
    {
     "name": "stdout",
     "output_type": "stream",
     "text": [
      "0.30000000000000004\n",
      "0.9999999999999999\n",
      "0.49999999999999994\n"
     ]
    }
   ],
   "source": [
    "print(0.1 + 0.1 + 0.1)\n",
    "print(0.6 + 0.3 + 0.1) ## 정확히 1.0이 되어야 한다.\n",
    "print((0.6 + 0.3 + 0.1) / 2) ## 정확히 0.5가 되어야 한다."
   ]
  },
  {
   "attachments": {},
   "cell_type": "markdown",
   "metadata": {},
   "source": [
    "위 결과들은 수학적으로 틀렸으며 부동소수점 연산이 10분의 1과 같은 분수를 다룰 때마다 아주 작은 반올림 오류가 발생할 수 있다는 사실을 나타낸다.  \n",
    "물론 이러한 오류를 무시하는 일이 문제가 되지 않는다. 프로그래밍에서는 부동소수점으로 작업할 때 작은 오류들을 허용한다고 가정하기 때문이다.  "
   ]
  },
  {
   "attachments": {},
   "cell_type": "markdown",
   "metadata": {},
   "source": [
    "# Decimal\n",
    "위에서 확인한 문제는 round함수를 사용해 반올림을 하면 제거할 수 있는 오류다.  \n",
    "하지만 round 함수에 계속 의지하지 않고 더 나은 결과를 얻고자 할 때 Decimal 클래스를 사용할 수 있다."
   ]
  },
  {
   "cell_type": "code",
   "execution_count": 11,
   "metadata": {},
   "outputs": [
    {
     "name": "stdout",
     "output_type": "stream",
     "text": [
      "0\n",
      "0.3\n"
     ]
    },
    {
     "data": {
      "text/plain": [
       "Decimal('0.1000000000000000055511151231257827021181583404541015625')"
      ]
     },
     "execution_count": 11,
     "metadata": {},
     "output_type": "execute_result"
    }
   ],
   "source": [
    "from decimal import Decimal\n",
    "\n",
    "my_dec = Decimal() ## Decimal 인스턴스의 기본값은 0이다.\n",
    "print(my_dec)\n",
    "\n",
    "d = Decimal('0.1') ## Decimal 변수를 초기화할 때 텍스트 문자열을 사용.\n",
    "print(d + d + d)\n",
    "\n",
    "d_f = Decimal(0.1) ## float 타입으로 객체를 초기화 한다면??\n",
    "d_f"
   ]
  },
  {
   "attachments": {},
   "cell_type": "markdown",
   "metadata": {},
   "source": [
    "초기화할 때 문자열 \"0.1\"이 아니라 부동소수점 0.1을 사용하면, 앞서 언급한 대로 부동소수점 값 자체가 이미 반올림 에러를 포함하고 있어서,  \n",
    "문자열 타입으로 작성한 값으로 초기화하여 \"나는 문자열이 표현하고 있는 숫자를 실제 소수점으로 저장하려 한다.\" 라고 하는 것이 좋다."
   ]
  },
  {
   "cell_type": "code",
   "execution_count": 15,
   "metadata": {},
   "outputs": [
    {
     "name": "stdout",
     "output_type": "stream",
     "text": [
      "0.30\n",
      "0.00200\n",
      "0.002\n"
     ]
    }
   ],
   "source": [
    "## Decimal 클래스는 자릿수를 유지한다.\n",
    "## 소수점 이하 두 자리의 소수를 갖는 Decimal 인스턴스로 연산을 수행하면 끝이 0으로 끝나더라도 두 자릿수는 유지된다.\n",
    "d1, d2 = Decimal(\"0.10\"), Decimal(\"0.20\")\n",
    "print(d1 + d2)\n",
    "\n",
    "d3, d4 = Decimal(\"0.020\"), Decimal(\"0.030\")\n",
    "print(d1 * d3) ## 곱하기를하면 소수점 이하 자릿수는 유지되는 것이 아니라 증가한다.\n",
    "print(round(d1 * d3, 3)) ## round 함수는 소수점 이하 자릿수를 기존 대수대로 조정이 가능하다."
   ]
  },
  {
   "cell_type": "code",
   "execution_count": 16,
   "metadata": {},
   "outputs": [
    {
     "name": "stdout",
     "output_type": "stream",
     "text": [
      "7\n"
     ]
    }
   ],
   "source": [
    "d = Decimal(5)  ## 정수값을 사용하여 Decimal 객체를 정확하게 초기화할 수 있다.\n",
    "d += 2 ## Decimal 객체는 정수와 자유롭게 더하거나 곱할 수 있다.\n",
    "print(d)"
   ]
  },
  {
   "cell_type": "code",
   "execution_count": 17,
   "metadata": {},
   "outputs": [
    {
     "ename": "TypeError",
     "evalue": "unsupported operand type(s) for +=: 'decimal.Decimal' and 'float'",
     "output_type": "error",
     "traceback": [
      "\u001b[0;31m---------------------------------------------------------------------------\u001b[0m",
      "\u001b[0;31mTypeError\u001b[0m                                 Traceback (most recent call last)",
      "\u001b[0;32m/var/folders/h2/dxdwtry542514hp51hkrx__h0000gn/T/ipykernel_1579/572340213.py\u001b[0m in \u001b[0;36m<module>\u001b[0;34m\u001b[0m\n\u001b[1;32m      1\u001b[0m \u001b[0md\u001b[0m \u001b[0;34m=\u001b[0m \u001b[0mDecimal\u001b[0m\u001b[0;34m(\u001b[0m\u001b[0;34m\"7.0\"\u001b[0m\u001b[0;34m)\u001b[0m\u001b[0;34m\u001b[0m\u001b[0;34m\u001b[0m\u001b[0m\n\u001b[0;32m----> 2\u001b[0;31m \u001b[0md\u001b[0m \u001b[0;34m+=\u001b[0m \u001b[0;36m1.53\u001b[0m \u001b[0;31m## 부동소수점 값을 Decimal 객체에 더하거나 곱하면 에러가 발생한다.\u001b[0m\u001b[0;34m\u001b[0m\u001b[0;34m\u001b[0m\u001b[0m\n\u001b[0m",
      "\u001b[0;31mTypeError\u001b[0m: unsupported operand type(s) for +=: 'decimal.Decimal' and 'float'"
     ]
    }
   ],
   "source": [
    "d = Decimal(\"7.0\")\n",
    "d += 1.53 ## 부동소수점 값을 Decimal 객체에 더하거나 곱하면 에러가 발생한다.\n",
    "## 부동소수점 값을 Decimal 객체로 변환하여 연산을 수행할 것."
   ]
  },
  {
   "cell_type": "code",
   "execution_count": 18,
   "metadata": {},
   "outputs": [],
   "source": [
    "from decimal import Decimal\n",
    "\n",
    "class Money:\n",
    "    def __init__(self, v=\"0\", units=\"USD\"):\n",
    "        self.dec_amt = Decimal(v)\n",
    "        self.units = units"
   ]
  },
  {
   "cell_type": "code",
   "execution_count": 19,
   "metadata": {},
   "outputs": [
    {
     "name": "stdout",
     "output_type": "stream",
     "text": [
      "0.10 USD\n"
     ]
    }
   ],
   "source": [
    "m1 = Money(\"0.10\")\n",
    "print(m1.dec_amt, m1.units)"
   ]
  },
  {
   "cell_type": "code",
   "execution_count": 21,
   "metadata": {},
   "outputs": [],
   "source": [
    "from decimal import Decimal\n",
    "\n",
    "class Money:\n",
    "    def __init__(self, v=\"0\", units=\"USD\"):\n",
    "        self.dec_amt = Decimal(v)\n",
    "        self.units = units\n",
    "\n",
    "    def __str__(self):\n",
    "        s = str(self.dec_amt) + \" \" + self.units\n",
    "        return s"
   ]
  },
  {
   "cell_type": "code",
   "execution_count": 23,
   "metadata": {},
   "outputs": [
    {
     "name": "stdout",
     "output_type": "stream",
     "text": [
      "5.00 CAD\n"
     ]
    },
    {
     "data": {
      "text/plain": [
       "<__main__.Money at 0x7fc8a57cb2e0>"
      ]
     },
     "execution_count": 23,
     "metadata": {},
     "output_type": "execute_result"
    }
   ],
   "source": [
    "m1 = Money(\"5.00\", \"CAD\")\n",
    "print(m1)\n",
    "m1"
   ]
  },
  {
   "cell_type": "code",
   "execution_count": 24,
   "metadata": {},
   "outputs": [],
   "source": [
    "from decimal import Decimal\n",
    "\n",
    "class Money:\n",
    "    def __init__(self, v=\"0\", units=\"USD\"):\n",
    "        self.dec_amt = Decimal(v)\n",
    "        self.units = units\n",
    "\n",
    "    def __str__(self):\n",
    "        s = str(self.dec_amt) + \" \" + self.units\n",
    "        return s\n",
    "\n",
    "    def __repr__(self):\n",
    "        s = ('Money(' + str(self.dec_amt) + \" \" + self.units + ')')\n",
    "        return s"
   ]
  },
  {
   "cell_type": "code",
   "execution_count": 25,
   "metadata": {},
   "outputs": [
    {
     "name": "stdout",
     "output_type": "stream",
     "text": [
      "5.00 CAD\n"
     ]
    },
    {
     "data": {
      "text/plain": [
       "Money(5.00 CAD)"
      ]
     },
     "execution_count": 25,
     "metadata": {},
     "output_type": "execute_result"
    }
   ],
   "source": [
    "m1 = Money(\"5.00\", \"CAD\")\n",
    "print(m1)\n",
    "m1"
   ]
  },
  {
   "cell_type": "code",
   "execution_count": 41,
   "metadata": {},
   "outputs": [],
   "source": [
    "from decimal import Decimal\n",
    "\n",
    "class Money:\n",
    "    exch_dict = {\n",
    "        \"USDCAD\" : Decimal(\"0.75\"), \"USDEUR\" : Decimal(\"1.16\"),\n",
    "        \"CADUS\" : Decimal(\"1.33\"), \"CADEUR\" : Decimal(\"1.54\"),\n",
    "        \"EURUSD\" : Decimal(\"0.86\"), \"EURCAD\" : Decimal(\"0.65\")\n",
    "    }\n",
    "\n",
    "    def __init__(self, v=\"0\", units=\"USD\"):\n",
    "        self.dec_amt = Decimal(v)\n",
    "        self.units = units\n",
    "\n",
    "    def __str__(self):\n",
    "        s = str(self.dec_amt) + \" \" + self.units\n",
    "        return s\n",
    "\n",
    "    def __repr__(self):\n",
    "        s = ('Money(' + str(self.dec_amt) + \" \" + self.units + ')')\n",
    "        return s\n",
    "\n",
    "    def __add__(self, other):\n",
    "        if self.units != other.units:\n",
    "            r = Money.exch_dict[self.units + other.units] ## str을 합쳐 dict에 해당하는 키 포맷으로 만들기\n",
    "            m = Money(self.dec_amt + (other.dec_amt * r), self.units)\n",
    "        else:\n",
    "            m = Money(self.dec_amt + other.dec_amt, self.units)\n",
    "\n",
    "        m.dec_amt = round(m.dec_amt, 2)\n",
    "\n",
    "        return m"
   ]
  },
  {
   "cell_type": "code",
   "execution_count": 42,
   "metadata": {},
   "outputs": [
    {
     "name": "stdout",
     "output_type": "stream",
     "text": [
      "75.25 USD\n"
     ]
    }
   ],
   "source": [
    "m1 = Money(\"1.00\", \"USD\")\n",
    "m2 = Money(\"99.00\", \"CAD\")\n",
    "\n",
    "res = m1 + m2\n",
    "print(res)"
   ]
  },
  {
   "attachments": {},
   "cell_type": "markdown",
   "metadata": {},
   "source": [
    "# Decimal 클래스를 상속 받아 Money 클래스 만들기\n",
    "\n",
    "decimal 클래스는 불변 타입이기 때문에 통화 단위 units에 대한 초기화 설정을 Money클래스에서 초기화해야 한다.  \n",
    "즉, Money 클래스가 Decimal 클래스에 추가한 별도 속성이다. 하지만 언급한대로 Decimal은 불변 클래스이다.  \n",
    "따라서 Money 클래스의 \\_\\_new\\_\\_ 메서드를 작성해야한다. 이를 통해 Money 클래스에서 상속 받을 Decimal 클래스의 유산은 \\_\\_new\\_\\_에 의해 제어된다."
   ]
  },
  {
   "cell_type": "code",
   "execution_count": null,
   "metadata": {},
   "outputs": [],
   "source": [
    "from decimal import Decimal\n",
    "\n",
    "class Money(Decimal):\n",
    "    ## __new__ 함수에 super()를 사용하여 상위 클래스의 __new__ 함수를 호출.\n",
    "    ## 이 메서드는 상위 클래스 안에서 유래한 클래스를 초기화한다.\n",
    "    def __new__(cls, v, units=\"USD\"):\n",
    "        return super(Money, cls).__new__(cls, v) ## 인수는 하위 클래스 이름, cls는 해당 클래스의 참조.\n",
    "        ## 상위 클래스 버전의 __new__가 반환하는 값을 그대로 반환해야 한다.\n",
    "\n",
    "    def __init__(self, v, units=\"USD\"):\n",
    "        self.units = units"
   ]
  }
 ],
 "metadata": {
  "kernelspec": {
   "display_name": "base",
   "language": "python",
   "name": "python3"
  },
  "language_info": {
   "codemirror_mode": {
    "name": "ipython",
    "version": 3
   },
   "file_extension": ".py",
   "mimetype": "text/x-python",
   "name": "python",
   "nbconvert_exporter": "python",
   "pygments_lexer": "ipython3",
   "version": "3.9.13"
  },
  "orig_nbformat": 4,
  "vscode": {
   "interpreter": {
    "hash": "40d3a090f54c6569ab1632332b64b2c03c39dcf918b08424e98f38b5ae0af88f"
   }
  }
 },
 "nbformat": 4,
 "nbformat_minor": 2
}
