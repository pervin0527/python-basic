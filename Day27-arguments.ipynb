{
 "cells": [
  {
   "cell_type": "code",
   "execution_count": 1,
   "metadata": {},
   "outputs": [],
   "source": [
    "# default value를 가지고 있는 fuction argument\n",
    "def multiple(a=1, b=1):\n",
    "    return a * b"
   ]
  },
  {
   "cell_type": "code",
   "execution_count": 2,
   "metadata": {},
   "outputs": [
    {
     "name": "stdout",
     "output_type": "stream",
     "text": [
      "15\n"
     ]
    }
   ],
   "source": [
    "# *arg : 함수가 몇 개의 인수든지 허용한다. tuple 타입.\n",
    "# Unlimited Position Arguments\n",
    "def add(*args):\n",
    "    # print(args, type(args))  ## (1, 2, 3, 4, 5) <class 'tuple'>\n",
    "    result = 0\n",
    "    for arg in args:\n",
    "        result += arg\n",
    "    return result\n",
    "\n",
    "print(add(1, 2, 3, 4, 5))"
   ]
  },
  {
   "cell_type": "code",
   "execution_count": 5,
   "metadata": {},
   "outputs": [
    {
     "name": "stdout",
     "output_type": "stream",
     "text": [
      "{'a': 3, 'b': 2, 'c': 10} <class 'dict'>\n",
      "a 3\n",
      "b 2\n",
      "c 10\n"
     ]
    }
   ],
   "source": [
    "# **kwargs : *args와 마찬가지로 몇 개의 인수든지 허용한다. dict 타입.\n",
    "# Unlimited Keyword Arguments\n",
    "\n",
    "def calculate(**kwargs):\n",
    "    print(kwargs, type(kwargs))\n",
    "    for k, v in kwargs.items():\n",
    "        print(k, v)\n",
    "\n",
    "calculate(a=3, b=2, c=10)"
   ]
  },
  {
   "cell_type": "code",
   "execution_count": 10,
   "metadata": {},
   "outputs": [],
   "source": [
    "class Car:\n",
    "    def __init__(self, **kw):\n",
    "        self.brand = kw.get(\"brand\") ## dict.get을 사용하면 해당 key가 존재하지 않을 때, 에러가 아니라 None을 반환한다.\n",
    "        self.model = kw.get(\"model\")"
   ]
  },
  {
   "cell_type": "code",
   "execution_count": 11,
   "metadata": {},
   "outputs": [
    {
     "name": "stdout",
     "output_type": "stream",
     "text": [
      "Audi R8\n",
      "Tessla None\n"
     ]
    }
   ],
   "source": [
    "my_car = Car(model=\"R8\", brand=\"Audi\")\n",
    "print(my_car.brand, my_car.model)\n",
    "\n",
    "your_car = Car(brand=\"Tessla\")\n",
    "print(your_car.brand, your_car.model)"
   ]
  },
  {
   "cell_type": "code",
   "execution_count": null,
   "metadata": {},
   "outputs": [],
   "source": []
  }
 ],
 "metadata": {
  "kernelspec": {
   "display_name": "base",
   "language": "python",
   "name": "python3"
  },
  "language_info": {
   "codemirror_mode": {
    "name": "ipython",
    "version": 3
   },
   "file_extension": ".py",
   "mimetype": "text/x-python",
   "name": "python",
   "nbconvert_exporter": "python",
   "pygments_lexer": "ipython3",
   "version": "3.9.13"
  },
  "orig_nbformat": 4,
  "vscode": {
   "interpreter": {
    "hash": "40d3a090f54c6569ab1632332b64b2c03c39dcf918b08424e98f38b5ae0af88f"
   }
  }
 },
 "nbformat": 4,
 "nbformat_minor": 2
}
