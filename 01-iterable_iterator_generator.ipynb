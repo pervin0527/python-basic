{
 "cells": [
  {
   "attachments": {},
   "cell_type": "markdown",
   "metadata": {},
   "source": [
    "# Collection과 Sequence타입\n",
    "- collection타입은 list, tuple, set, dict처럼 여러 개의 요소를 가지는 데이터 타입을 뜻한다.\n",
    "- sequence타입은 list, tuple, range, str과 같이 순서가 존재하는 데이터 타입이다."
   ]
  },
  {
   "attachments": {},
   "cell_type": "markdown",
   "metadata": {},
   "source": [
    "# Iterable\n",
    "- iterable은 여러 항목을 한 번에 한 항목씩 접근하여 첫번째 항목부터 마지막 항목까지 순회할 수 있는 객체를 의미한다.\n",
    "- 대표적으로 list, tuple, set, dict, string이 iterable에 해당.\n",
    "- 객체가 iterable이 되기 위해서는 \\_\\_iter\\_\\_ 메서드를 가지고 있어야 한다."
   ]
  },
  {
   "attachments": {},
   "cell_type": "markdown",
   "metadata": {},
   "source": [
    "# Iterator\n",
    "- iterator는 iterator는 \\_\\_iter\\_\\_ 메서드가 반환하는 객체로, collection 타입 객체를 순회하는데 사용된다.\n",
    "- 순서대로 다음 값을 반환할 수 있는 객체가 바로 iterator이며, 자체적으로 가지고 있는 \\_\\_next\\_\\_ 메서드를 통해 다음 값을 가져온다.\n",
    "- \\_\\_next\\_\\_ 메서드는 iterator 객체를 반환하며, 동일한 클래스내에 정의되었거나, 별도 클래스에 정의되었을 수 있다.\n",
    "- 또한 어떠한 작업을 하지 않더라도 \\_\\_next\\_\\_ 메서드는 반드시 구현되어야 한다."
   ]
  },
  {
   "cell_type": "code",
   "execution_count": 6,
   "metadata": {},
   "outputs": [
    {
     "name": "stdout",
     "output_type": "stream",
     "text": [
      "about list object \n",
      " ['__add__', '__class__', '__class_getitem__', '__contains__', '__delattr__', '__delitem__', '__dir__', '__doc__', '__eq__', '__format__', '__ge__', '__getattribute__', '__getitem__', '__gt__', '__hash__', '__iadd__', '__imul__', '__init__', '__init_subclass__', '__iter__', '__le__', '__len__', '__lt__', '__mul__', '__ne__', '__new__', '__reduce__', '__reduce_ex__', '__repr__', '__reversed__', '__rmul__', '__setattr__', '__setitem__', '__sizeof__', '__str__', '__subclasshook__', 'append', 'clear', 'copy', 'count', 'extend', 'index', 'insert', 'pop', 'remove', 'reverse', 'sort'] \n",
      "\n",
      "<class 'list_iterator'>\n",
      "about iterator \n",
      " ['__class__', '__delattr__', '__dir__', '__doc__', '__eq__', '__format__', '__ge__', '__getattribute__', '__gt__', '__hash__', '__init__', '__init_subclass__', '__iter__', '__le__', '__length_hint__', '__lt__', '__ne__', '__new__', '__next__', '__reduce__', '__reduce_ex__', '__repr__', '__setattr__', '__setstate__', '__sizeof__', '__str__', '__subclasshook__'] \n",
      "\n",
      "1\n",
      "2\n",
      "3\n",
      "4\n",
      "5\n",
      "6\n",
      "7\n",
      "마지막 index에 도달했습니다. iteration을 종료합니다.\n"
     ]
    }
   ],
   "source": [
    "test_list = [1, 2, 3, 4, 5, 6, 7]\n",
    "print(f\"about list object \\n {dir(test_list)} \\n\") ## list는 iterable 객체이므로 __iter__ 메서드를 보유하고 있다.\n",
    "\n",
    "test_iterator = test_list.__iter__() ## list iterator\n",
    "print(type(test_iterator))\n",
    "print(f\"about iterator \\n {dir(test_iterator)} \\n\")\n",
    "\n",
    "while True:\n",
    "    try:\n",
    "        value = test_iterator.__next__()\n",
    "        print(value)\n",
    "        \n",
    "    except StopIteration:\n",
    "        print(\"마지막 index에 도달했습니다. iteration을 종료합니다.\")\n",
    "        break"
   ]
  },
  {
   "attachments": {},
   "cell_type": "markdown",
   "metadata": {},
   "source": [
    "# for문과 generator\n",
    "        for 변수 in iterable:\n",
    "            ...\n",
    "\n",
    "for문에서 iterable은 리스트 같은 컬렉션에 가깝지만, range함수를 호출하면 반환하는 generator와 같다.  \n",
    "\n",
    "\n",
    "generator는 나열된 값으로 구성된 iteration을 생산한다. 시퀀스의 끝에 도달하면 StopIteration 예외가 발생하며 종료된다.  \n",
    "짚고 넘어가야할 부분은 generator 함수가 값을 반환하는 것이 아니라 generator 함수로 생성된 객체가 값을 반환하는 것이다.  \n",
    "즉, generator 객체는 iterator 이다."
   ]
  },
  {
   "cell_type": "code",
   "execution_count": 10,
   "metadata": {},
   "outputs": [
    {
     "name": "stdout",
     "output_type": "stream",
     "text": [
      "Type of test variable : <class 'generator'>\n",
      "2\n",
      "4\n",
      "6\n",
      "8\n",
      "10\n"
     ]
    }
   ],
   "source": [
    "def generate_evens(n):\n",
    "    for n in range(1, n):\n",
    "        if n % 2 == 0:\n",
    "            yield n\n",
    "\n",
    "value = 11\n",
    "test = generate_evens(value)\n",
    "print(f\"Type of test variable : {type(test)}\")\n",
    "\n",
    "for item in test:\n",
    "    print(item)"
   ]
  },
  {
   "cell_type": "code",
   "execution_count": null,
   "metadata": {},
   "outputs": [],
   "source": []
  }
 ],
 "metadata": {
  "kernelspec": {
   "display_name": "base",
   "language": "python",
   "name": "python3"
  },
  "language_info": {
   "codemirror_mode": {
    "name": "ipython",
    "version": 3
   },
   "file_extension": ".py",
   "mimetype": "text/x-python",
   "name": "python",
   "nbconvert_exporter": "python",
   "pygments_lexer": "ipython3",
   "version": "3.9.13"
  },
  "orig_nbformat": 4,
  "vscode": {
   "interpreter": {
    "hash": "40d3a090f54c6569ab1632332b64b2c03c39dcf918b08424e98f38b5ae0af88f"
   }
  }
 },
 "nbformat": 4,
 "nbformat_minor": 2
}
