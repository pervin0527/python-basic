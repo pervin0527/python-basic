{
 "cells": [
  {
   "cell_type": "code",
   "execution_count": 1,
   "metadata": {},
   "outputs": [
    {
     "name": "stdout",
     "output_type": "stream",
     "text": [
      "#####step1#####\n",
      "my name is min\n"
     ]
    }
   ],
   "source": [
    "print(\"{:#^15}\".format(\"step1\"))\n",
    "print(\"my name is \" + input(\"what is your name?? : \"))"
   ]
  },
  {
   "cell_type": "code",
   "execution_count": 3,
   "metadata": {},
   "outputs": [
    {
     "name": "stdout",
     "output_type": "stream",
     "text": [
      "\n",
      "#####step2#####\n",
      "Welcome to band-name generator!!\n",
      "I recommend 'seoul dog' to nick name\n"
     ]
    }
   ],
   "source": [
    "print(\"\\n{:#^15}\".format(\"step2\"))\n",
    "print(\"Welcome to band-name generator!!\")\n",
    "city_name = input(\"where did you grown up??\\n\")\n",
    "pet_name = input(\"what is your pet name??\\n\")\n",
    "print(\"I recommend '\" + city_name + \" \" + pet_name + \"' to nick name\")"
   ]
  },
  {
   "cell_type": "code",
   "execution_count": 6,
   "metadata": {},
   "outputs": [
    {
     "name": "stdout",
     "output_type": "stream",
     "text": [
      "o\n",
      "123456\n",
      "579\n",
      "Your name has 6 characters.\n",
      "Your name has 6 characters.\n"
     ]
    }
   ],
   "source": [
    "# \"o\" 가 출력되게 인덱싱\n",
    "print(\"Hello\"[4])\n",
    "\n",
    "# 문자열과 정수의 차이\n",
    "print(\"123\"+\"456\")\n",
    "print(123+456)\n",
    "\n",
    "num_char = len(input(\"what is your name??\"))\n",
    "print(\"Your name has\", num_char, \"characters.\") ## 3개의 다른 문자열을 전달.\n",
    "print(\"Your name has \" + str(num_char) + \" characters.\") ## 1개의 문자열로 전달"
   ]
  },
  {
   "cell_type": "code",
   "execution_count": 7,
   "metadata": {},
   "outputs": [
    {
     "name": "stdout",
     "output_type": "stream",
     "text": [
      "8\n"
     ]
    }
   ],
   "source": [
    "two_digit_num = input(\"Type a two digit number: \")\n",
    "first_digit = two_digit_num[0]\n",
    "second_digit = two_digit_num[1]\n",
    "\n",
    "print(int(first_digit) + int(second_digit))"
   ]
  },
  {
   "cell_type": "code",
   "execution_count": 12,
   "metadata": {},
   "outputs": [
    {
     "name": "stdout",
     "output_type": "stream",
     "text": [
      "5.0\n",
      "16\n",
      "7.0\n",
      "3.0\n"
     ]
    }
   ],
   "source": [
    "## 무언가를 나누면 항상 float 타입으로 반환된다.\n",
    "print(10 / 2)\n",
    "\n",
    "## 거듭제곱\n",
    "print(2**4)\n",
    "\n",
    "\"\"\"\n",
    "PEMDASLR\n",
    "()\n",
    "**\n",
    "* /\n",
    "+ -\n",
    "\"\"\"\n",
    "\n",
    "print(3 * 3 + 3 / 3 - 3)\n",
    "print(3 * (3 + 3) / 3 - 3)"
   ]
  },
  {
   "cell_type": "code",
   "execution_count": 18,
   "metadata": {},
   "outputs": [
    {
     "name": "stdout",
     "output_type": "stream",
     "text": [
      "20\n",
      "20\n"
     ]
    }
   ],
   "source": [
    "height = input(\"enter your height in m: \")\n",
    "weight = input(\"enter your weight in kg: \")\n",
    "\n",
    "result = int(weight) / float(height) ** 2\n",
    "print(int(result))\n",
    "print(round(result))"
   ]
  },
  {
   "cell_type": "code",
   "execution_count": 23,
   "metadata": {},
   "outputs": [
    {
     "name": "stdout",
     "output_type": "stream",
     "text": [
      "2.67\n"
     ]
    }
   ],
   "source": [
    "round_sample = round(8/3, 2) # 2.66666666...의 소수점 n번째 자리에서 반올림\n",
    "print(round_sample)"
   ]
  },
  {
   "attachments": {},
   "cell_type": "markdown",
   "metadata": {},
   "source": [
    "## f-String"
   ]
  },
  {
   "cell_type": "code",
   "execution_count": 24,
   "metadata": {},
   "outputs": [
    {
     "name": "stdout",
     "output_type": "stream",
     "text": [
      "your score is 0, your height is 1.8, you are winning is True\n"
     ]
    }
   ],
   "source": [
    "score = 0\n",
    "height = 1.8\n",
    "is_winning = True\n",
    "\n",
    "print(f\"your score is {score}, your height is {height}, you are winning is {is_winning}\")"
   ]
  },
  {
   "cell_type": "code",
   "execution_count": 25,
   "metadata": {},
   "outputs": [
    {
     "name": "stdout",
     "output_type": "stream",
     "text": [
      "You have 21900 days, 3120 weeks and 720 months left\n"
     ]
    }
   ],
   "source": [
    "age = input(\"What is your current age? \")\n",
    "goal = 90 - int(age)\n",
    " \n",
    "days = 365 * goal\n",
    "weeks = 52 * goal\n",
    "months = 12 * goal\n",
    "\n",
    "print(f\"You have {days} days, {weeks} weeks and {months} months left\") "
   ]
  },
  {
   "cell_type": "code",
   "execution_count": 35,
   "metadata": {},
   "outputs": [
    {
     "name": "stdout",
     "output_type": "stream",
     "text": [
      "Welcome to the tip calculator.\n",
      "Each person should pay: 19.93\n"
     ]
    }
   ],
   "source": [
    "print(\"Welcome to the tip calculator.\")\n",
    "total_bill = input(\"What was the total bill? $\") ## 124.56\n",
    "per_tip = input(\"What percentage tip would you like to give? 10, 12, or 15? \") ## 12\n",
    "num_person = input(\"How many people to split the bill? \") ## 7\n",
    "\n",
    "tip = float(total_bill) * (12 / 100)\n",
    "total_bill = float(total_bill) + tip\n",
    "result = round(total_bill / int(num_person), 2)\n",
    "\n",
    "print(f\"Each person should pay: {result}\")"
   ]
  },
  {
   "cell_type": "code",
   "execution_count": 36,
   "metadata": {},
   "outputs": [
    {
     "name": "stdout",
     "output_type": "stream",
     "text": [
      "this is test for f-string 19.67\n"
     ]
    }
   ],
   "source": [
    "test = 19.66666666666666\n",
    "print(f\"this is test for f-string {test:.2f}\")"
   ]
  },
  {
   "cell_type": "code",
   "execution_count": 38,
   "metadata": {},
   "outputs": [
    {
     "name": "stdout",
     "output_type": "stream",
     "text": [
      "this is test for f-string 00000002\n"
     ]
    }
   ],
   "source": [
    "test = 2\n",
    "print(f\"this is test for f-string {test:0>8}\")"
   ]
  },
  {
   "cell_type": "code",
   "execution_count": 1,
   "metadata": {},
   "outputs": [
    {
     "name": "stdout",
     "output_type": "stream",
     "text": [
      "This is an even number.\n"
     ]
    }
   ],
   "source": [
    "number = int(input(\"which number do you want check? \"))\n",
    "\n",
    "if number % 2 == 0:\n",
    "    print(\"This is an even number.\")\n",
    "else:\n",
    "    print(\"This is an odd number.\")"
   ]
  },
  {
   "cell_type": "code",
   "execution_count": 5,
   "metadata": {},
   "outputs": [
    {
     "name": "stdout",
     "output_type": "stream",
     "text": [
      "Your BMI is 21, you are normal weight\n"
     ]
    }
   ],
   "source": [
    "height = float(input(\"enter your height in m: \")) ## 1.8\n",
    "weight = float(input(\"enter your weight in kg: \")) ## 65\n",
    "\n",
    "bmi = weight / height ** 2\n",
    "\n",
    "if bmi < 18.5:\n",
    "    state = (\"underweight\")\n",
    "elif bmi < 25: ## if문에서 18.5보다 작은가를 넘어 갔으니 18.5보다는 당연히 크니까 조건에 포함시키지 않아도 괜찮다.\n",
    "    state = (\"normal weight\")\n",
    "elif bmi < 30:\n",
    "    state = (\"over weight\")\n",
    "elif bmi < 35:\n",
    "    state = (\"obese\")\n",
    "else:\n",
    "    state = (\"clinically obese\")\n",
    "\n",
    "print(f\"Your BMI is {int(round(bmi))}, you are {state}\")"
   ]
  },
  {
   "cell_type": "code",
   "execution_count": 15,
   "metadata": {},
   "outputs": [
    {
     "name": "stdout",
     "output_type": "stream",
     "text": [
      "Leap year.\n"
     ]
    }
   ],
   "source": [
    "year = int(input(\"which year do you want to chech?\"))\n",
    "\n",
    "if year % 4 == 0:\n",
    "    if year % 100 == 0:\n",
    "        if year % 400 == 0:\n",
    "            print(\"Leap year.\")\n",
    "        else:\n",
    "            print(\"Not leap year.\")\n",
    "    else:\n",
    "        print(\"Leap year.\")\n",
    "else:\n",
    "    print(\"Not leap year.\")"
   ]
  },
  {
   "attachments": {},
   "cell_type": "markdown",
   "metadata": {},
   "source": [
    "## if \n",
    "\n",
    "효과적인 if~else문을 작성하는 것. 불필요한 조건은 적지 않으며, 최대한 간소화된 if, elif, else로 작성할 수 있는가"
   ]
  },
  {
   "cell_type": "code",
   "execution_count": 17,
   "metadata": {},
   "outputs": [
    {
     "name": "stdout",
     "output_type": "stream",
     "text": [
      "Welcome to Python Pizza Deliveries!\n",
      "Your filnal bill is: $28\n"
     ]
    }
   ],
   "source": [
    "print(\"Welcome to Python Pizza Deliveries!\")\n",
    "size = input(\"What size pizza do you want? S, M, or L \")\n",
    "add_pepperoni = input(\"Do you want pepperoni? Y or N \")\n",
    "extra_cheese = input(\"Do you want extra cheese? Y or N \")\n",
    "\n",
    "bill = 0\n",
    "if size == \"S\":\n",
    "    bill += 15\n",
    "    if add_pepperoni == \"Y\":\n",
    "        bill += 2\n",
    "else:\n",
    "    if size == \"M\":\n",
    "        bill += 20\n",
    "    else:\n",
    "        bill += 25\n",
    "\n",
    "    if add_pepperoni == \"Y\":\n",
    "        bill += 3\n",
    "\n",
    "if extra_cheese == \"Y\":\n",
    "    bill += 1\n",
    "\n",
    "print(f\"Your filnal bill is: ${bill}\")"
   ]
  },
  {
   "cell_type": "code",
   "execution_count": null,
   "metadata": {},
   "outputs": [],
   "source": [
    "print(\"Welcome to Python Pizza Deliveries!\")\n",
    "size = input(\"What size pizza do you want? S, M, or L \")\n",
    "add_pepperoni = input(\"Do you want pepperoni? Y or N \")\n",
    "extra_cheese = input(\"Do you want extra cheese? Y or N \")\n",
    "\n",
    "bill = 0\n",
    "if size == \"S\":\n",
    "    bill += 15\n",
    "elif size == \"M\": \n",
    "    bill += 20\n",
    "else:\n",
    "    bill += 25\n",
    "\n",
    "if add_pepperoni == \"Y\":\n",
    "    if size == \"S\":\n",
    "        bill += 2\n",
    "    else:\n",
    "        bill += 3\n",
    "\n",
    "if extra_cheese == \"Y\":\n",
    "    bill += 1\n",
    "\n",
    "print(f\"Your filnal bill is: ${bill}\")"
   ]
  },
  {
   "cell_type": "code",
   "execution_count": 22,
   "metadata": {},
   "outputs": [
    {
     "name": "stdout",
     "output_type": "stream",
     "text": [
      "Welcome to the Love Calculator!\n",
      "Your score is 99, you go together like coke an mentos.\n"
     ]
    }
   ],
   "source": [
    "print(\"Welcome to the Love Calculator!\")\n",
    "name1 = input(\"What is your name? \\n\") ## Angela Yu\n",
    "name2 = input(\"What is their name? \\n\") ## Jack Bauer\n",
    "\n",
    "names = name1.lower() + name2.lower()\n",
    "\n",
    "true = 0\n",
    "love = 0\n",
    "true += names.count(\"t\")\n",
    "true += names.count(\"r\")\n",
    "true += names.count(\"u\")\n",
    "true += names.count(\"e\")\n",
    "love += names.count(\"l\")\n",
    "love += names.count(\"o\")\n",
    "love += names.count(\"v\")\n",
    "love += names.count(\"e\")\n",
    "\n",
    "total_score = int(str(true) + str(love))\n",
    "if 10 > total_score or total_score > 90:\n",
    "    print(f\"Your score is {total_score}, you go together like coke an mentos.\")\n",
    "elif total_score >= 40 and total_score =< 50: ## 40 <= total_score <= 50\n",
    "    print(f\"Your score is {total_score}, you are alright together.\")\n",
    "else:\n",
    "    print(f\"Your score is {total_score}\")"
   ]
  },
  {
   "cell_type": "code",
   "execution_count": 29,
   "metadata": {},
   "outputs": [
    {
     "name": "stdout",
     "output_type": "stream",
     "text": [
      "Welcome to Treasure Island.\n",
      "Your mission is to find the treasure.\n",
      "Burned by fire. Game Over.\n"
     ]
    }
   ],
   "source": [
    "print(\"Welcome to Treasure Island.\")\n",
    "print(\"Your mission is to find the treasure.\") \n",
    "\n",
    "left_or_right = input('You\\'re at a cross road. Where do you want to go? Type \"left\" or \"right\"\\n').lower()\n",
    "if left_or_right == \"left\":\n",
    "    wait_or_swim = input(\"You've come to a lake. There is an island in the middle of the lake. Type \\\"wait\\\" to wait for a boat. Type \\\"swim\\\" to swim across.\\n\").lower()\n",
    "    if wait_or_swim == \"wait\":\n",
    "        three_doors = input(\"You arrive at the island unharmed. There is a house with 3 doors. One red, one yellow and one blue. Which colour do you choose?\\n\").lower()\n",
    "        if three_doors == \"red\":\n",
    "            print(\"Burned by fire. Game Over.\")\n",
    "        elif three_doors == \"yellow\":\n",
    "            print(\"You found the treasure! You Win!\")\n",
    "        else:\n",
    "            print(\"You enter a room of beasts. Game Over.\")\n",
    "    else:\n",
    "        print(\"Attacked by trout. Game Over\")\n",
    "else:\n",
    "    print(\"Fall into a hole. Game Over.\")\n"
   ]
  },
  {
   "cell_type": "code",
   "execution_count": null,
   "metadata": {},
   "outputs": [],
   "source": []
  },
  {
   "cell_type": "code",
   "execution_count": null,
   "metadata": {},
   "outputs": [],
   "source": []
  }
 ],
 "metadata": {
  "kernelspec": {
   "display_name": "base",
   "language": "python",
   "name": "python3"
  },
  "language_info": {
   "codemirror_mode": {
    "name": "ipython",
    "version": 3
   },
   "file_extension": ".py",
   "mimetype": "text/x-python",
   "name": "python",
   "nbconvert_exporter": "python",
   "pygments_lexer": "ipython3",
   "version": "3.9.7 (default, Sep 16 2021, 08:50:36) \n[Clang 10.0.0 ]"
  },
  "orig_nbformat": 4,
  "vscode": {
   "interpreter": {
    "hash": "ed9700ab81b7297e6986a97a9b8454b96a302622dbd1fe5603b4cfb37e904a7d"
   }
  }
 },
 "nbformat": 4,
 "nbformat_minor": 2
}
