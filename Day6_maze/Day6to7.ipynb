{
 "cells": [
  {
   "cell_type": "code",
   "execution_count": null,
   "metadata": {},
   "outputs": [],
   "source": [
    "# def turn_right():\n",
    "#     for _ in range(3):\n",
    "#         turn_left()\n",
    "        \n",
    "# turn_right()"
   ]
  },
  {
   "cell_type": "code",
   "execution_count": null,
   "metadata": {},
   "outputs": [],
   "source": [
    "# def turn_right():\n",
    "#     for _ in range(3):\n",
    "#         turn_left()\n",
    "\n",
    "# def pass_hudle():\n",
    "#     move()\n",
    "#     turn_left()\n",
    "#     move()\n",
    "#     turn_right()\n",
    "#     move()\n",
    "#     turn_right()\n",
    "#     move()\n",
    "    \n",
    "# for _ in range(6):\n",
    "#     pass_hudle()\n",
    "#     turn_left()\n",
    "    "
   ]
  },
  {
   "cell_type": "code",
   "execution_count": null,
   "metadata": {},
   "outputs": [],
   "source": [
    "# def turn_right():\n",
    "#     for _ in range(3):\n",
    "#         turn_left()\n",
    "\n",
    "# def pass_hudle():\n",
    "#     move()\n",
    "#     turn_left()\n",
    "#     move()\n",
    "#     turn_right()\n",
    "#     move()\n",
    "#     turn_right()\n",
    "#     move()\n",
    "#     turn_left()\n",
    "\n",
    "# while not(at_goal()):\n",
    "#     pass_hudle()\n",
    "    "
   ]
  },
  {
   "cell_type": "code",
   "execution_count": null,
   "metadata": {},
   "outputs": [],
   "source": [
    "# def turn_right():\n",
    "#     for _ in range(3):\n",
    "#         turn_left()\n",
    "        \n",
    "# def jump():\n",
    "#     turn_left()\n",
    "#     move()\n",
    "#     turn_right()\n",
    "#     move()\n",
    "#     turn_right()\n",
    "#     move()\n",
    "#     turn_left()\n",
    "\n",
    "# while not(at_goal()):\n",
    "#     if front_is_clear():\n",
    "#         move()\n",
    "#     elif wall_in_front():\n",
    "#         jump()\n",
    "        "
   ]
  },
  {
   "cell_type": "code",
   "execution_count": null,
   "metadata": {},
   "outputs": [],
   "source": [
    "# def turn_right():\n",
    "#     for _ in range(3):\n",
    "#         turn_left()\n",
    "        \n",
    "# def jump():\n",
    "#     turn_left()\n",
    "#     while wall_on_right():\n",
    "#         move()\n",
    "#     turn_right()\n",
    "#     move()\n",
    "#     turn_right()\n",
    "    \n",
    "#     while front_is_clear():\n",
    "#         move()\n",
    "#     turn_left()\n",
    "\n",
    "\n",
    "# while not(at_goal()):\n",
    "#     if wall_in_front():\n",
    "#         jump()\n",
    "#     else:\n",
    "#         move()"
   ]
  },
  {
   "cell_type": "code",
   "execution_count": null,
   "metadata": {},
   "outputs": [],
   "source": [
    "import random\n",
    "\n",
    "## STEP1\n",
    "word_list = [\"ardvark\", \"baboon\", \"camel\"]\n",
    "chosen_word = random.choice(word_list)\n",
    "\n",
    "## STEP2\n",
    "guess = input(\"Guess a letter: \").lower() \n",
    "\n",
    "## STEP3\n",
    "for letter in chosen_word:\n",
    "    if guess == letter:\n",
    "        print(\"Right\")\n",
    "    else:\n",
    "        print(\"Wrong\")"
   ]
  },
  {
   "cell_type": "code",
   "execution_count": null,
   "metadata": {},
   "outputs": [],
   "source": [
    "import random\n",
    "\n",
    "word_list = [\"ardvark\", \"baboon\", \"camel\"]\n",
    "chosen_word = random.choice(word_list)\n",
    "print(f'Pssst, the solution is {chosen_word}.')\n",
    "\n",
    "display = [\"_\"] * len(chosen_word)\n",
    "print(display)\n",
    "guess = input(\"Guess a letter: \").lower() \n",
    "\n",
    "# for idx, letter in enumerate(chosen_word):\n",
    "#     if guess == letter: \n",
    "#         display[idx] = guess\n",
    "\n",
    "for i in range(len(chosen_word)):\n",
    "    if guess == chosen_word[i]:\n",
    "        display[i] = guess\n",
    "print(display)\n"
   ]
  },
  {
   "cell_type": "code",
   "execution_count": null,
   "metadata": {},
   "outputs": [],
   "source": [
    "import random\n",
    "\n",
    "word_list = [\"ardvark\", \"baboon\", \"camel\"]\n",
    "chosen_word = random.choice(word_list)\n",
    "print(f'Pssst, the solution is {chosen_word}.')\n",
    "\n",
    "display = [\"_\"] * len(chosen_word)\n",
    "print(display)\n",
    "\n",
    "while \"_\" in display:\n",
    "    guess = input(\"Guess a letter: \").lower() \n",
    "\n",
    "    for i in range(len(chosen_word)):\n",
    "        if guess == chosen_word[i]:\n",
    "            display[i] = guess\n",
    "    print(display)\n",
    "\n",
    "    if \"_\" not in display:\n",
    "        print(\"You win\")\n",
    "\n"
   ]
  },
  {
   "cell_type": "code",
   "execution_count": null,
   "metadata": {},
   "outputs": [],
   "source": [
    "word_list = [\"ardvark\", \"baboon\", \"camel\"]\n",
    "chosen_word = random.choice(word_list)\n",
    "print(f'Pssst, the solution is {chosen_word}.')\n",
    "\n",
    "display = [\"_\"] * len(chosen_word)\n",
    "print(display)\n",
    "\n",
    "lives = 6\n",
    "while \"_\" in display and lives:\n",
    "    guess = input(\"Guess a letter: \").lower()\n",
    "\n",
    "    for i in range(len(chosen_word)):\n",
    "        if guess == chosen_word[i]:\n",
    "            display[i] = guess\n",
    "    print(\" \".join(display))\n",
    "\n",
    "    if guess not in chosen_word:\n",
    "        lives -= 1\n",
    "\n",
    "        if lives == 0:\n",
    "            print(\"You lose\")\n",
    "\n",
    "        print(stages[lives])\n",
    "\n",
    "    if \"_\" not in display:\n",
    "        print(\"You win\")\n"
   ]
  },
  {
   "cell_type": "code",
   "execution_count": null,
   "metadata": {},
   "outputs": [],
   "source": []
  }
 ],
 "metadata": {
  "kernelspec": {
   "display_name": "base",
   "language": "python",
   "name": "python3"
  },
  "language_info": {
   "codemirror_mode": {
    "name": "ipython",
    "version": 3
   },
   "file_extension": ".py",
   "mimetype": "text/x-python",
   "name": "python",
   "nbconvert_exporter": "python",
   "pygments_lexer": "ipython3",
   "version": "3.9.7 (default, Sep 16 2021, 08:50:36) \n[Clang 10.0.0 ]"
  },
  "orig_nbformat": 4,
  "vscode": {
   "interpreter": {
    "hash": "ed9700ab81b7297e6986a97a9b8454b96a302622dbd1fe5603b4cfb37e904a7d"
   }
  }
 },
 "nbformat": 4,
 "nbformat_minor": 2
}
