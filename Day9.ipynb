{
 "cells": [
  {
   "attachments": {},
   "cell_type": "markdown",
   "metadata": {},
   "source": [
    "Dictionary와 중첩(Nesting)"
   ]
  },
  {
   "cell_type": "code",
   "execution_count": 1,
   "metadata": {},
   "outputs": [],
   "source": [
    "fruit = {\"apple\":500, \"banana\":200, \"peach\":800}"
   ]
  },
  {
   "cell_type": "code",
   "execution_count": 2,
   "metadata": {},
   "outputs": [
    {
     "name": "stdout",
     "output_type": "stream",
     "text": [
      "500\n"
     ]
    }
   ],
   "source": [
    "## dictionary는 list와 달리 인덱스 대신에 key를 활용해 값을 불러올 수 있다.\n",
    "print(fruit[\"apple\"])"
   ]
  },
  {
   "cell_type": "code",
   "execution_count": 3,
   "metadata": {},
   "outputs": [
    {
     "name": "stdout",
     "output_type": "stream",
     "text": [
      "{'apple': 500, 'banana': 200, 'peach': 800, 'strawberry': 1000}\n"
     ]
    }
   ],
   "source": [
    "## dict에 신규 값을 추가하고 싶다면\n",
    "fruit[\"strawberry\"] = 1000\n",
    "print(fruit)"
   ]
  },
  {
   "cell_type": "code",
   "execution_count": 4,
   "metadata": {},
   "outputs": [
    {
     "name": "stdout",
     "output_type": "stream",
     "text": [
      "{}\n"
     ]
    }
   ],
   "source": [
    "## 기존에 존재하는 dict를 초기화\n",
    "fruit = {}\n",
    "print(fruit)"
   ]
  },
  {
   "cell_type": "code",
   "execution_count": 5,
   "metadata": {},
   "outputs": [
    {
     "name": "stdout",
     "output_type": "stream",
     "text": [
      "{'apple': 500, 'banana': 200, 'peach': 1000}\n"
     ]
    }
   ],
   "source": [
    "## 이미 존재하는 dict에 key값에 value를 갱신(덮어쓰기)하고자 한다면\n",
    "fruit = {\"apple\":500, \"banana\":200, \"peach\":800}\n",
    "fruit[\"peach\"] = 1000\n",
    "print(fruit)"
   ]
  },
  {
   "cell_type": "code",
   "execution_count": 7,
   "metadata": {},
   "outputs": [
    {
     "name": "stdout",
     "output_type": "stream",
     "text": [
      "apple\n",
      "banana\n",
      "peach\n",
      "500\n",
      "200\n",
      "1000\n"
     ]
    }
   ],
   "source": [
    "## key, value가 출력될 것이라 예상했겠지만, key만 출력된다.\n",
    "for f in fruit:\n",
    "    print(f)\n",
    "\n",
    "for f in fruit:\n",
    "    print(fruit[f])"
   ]
  },
  {
   "cell_type": "code",
   "execution_count": 10,
   "metadata": {},
   "outputs": [
    {
     "name": "stdout",
     "output_type": "stream",
     "text": [
      "{'Harry': 'Exceeds Expectations', 'Ron': 'Acceptable', 'Hermione': 'Outstanding', 'Draco': 'Acceptable', 'Neville': 'Fail'}\n"
     ]
    }
   ],
   "source": [
    "student_scores = {\n",
    "  \"Harry\": 81,\n",
    "  \"Ron\": 78,\n",
    "  \"Hermione\": 99, \n",
    "  \"Draco\": 74,\n",
    "  \"Neville\": 62,\n",
    "}\n",
    "\n",
    "## TODO-1: Create an empty dictionary called student_grades.\n",
    "student_grades = {}\n",
    "\n",
    "## TODO-2: Write your code below to add the grades to student_grades.👇\n",
    "## Scores 91 - 100: Grade = \"Outstanding\"\n",
    "## Scores 81 - 90: Grade = \"Exceeds Expectations\"\n",
    "## Scores 71 - 80: Grade = \"Acceptable\"\n",
    "## Scores 70 or lower: Grade = \"Fail\"\n",
    "for key, value in student_scores.items():\n",
    "    if value > 90:\n",
    "        student_grades[key] = \"Outstanding\"\n",
    "    elif value > 80:\n",
    "        student_grades[key] = \"Exceeds Expectations\"\n",
    "    elif value > 70:\n",
    "        student_grades[key] = \"Acceptable\"\n",
    "    else:\n",
    "        student_grades[key] = \"Fail\"\n",
    "\n",
    "print(student_grades)\n",
    "## '{'Harry': 'Exceeds Expectations', 'Ron': 'Acceptable', 'Hermione': 'Outstanding', 'Draco': 'Acceptable', 'Neville': 'Fail'}'\n"
   ]
  },
  {
   "attachments": {},
   "cell_type": "markdown",
   "metadata": {},
   "source": [
    "중첩 : 딕셔너리의 값으로 리스트나 딕셔너리가 올 수 있다."
   ]
  },
  {
   "cell_type": "code",
   "execution_count": 11,
   "metadata": {},
   "outputs": [
    {
     "name": "stdout",
     "output_type": "stream",
     "text": [
      "{'Korea': ['Seoul', 'Busan', 'Daejeon'], 'England': ['London', 'Manchester', 'York'], 'France': {'cities_visited': ['Paris', 'Lille', 'Dijon']}}\n"
     ]
    }
   ],
   "source": [
    "country = {\"Korea\" : [\"Seoul\", \"Busan\", \"Daejeon\"],\n",
    "           \"England\" : [\"London\", \"Manchester\", \"York\"],\n",
    "           \"France\" : {\"cities_visited\" : [\"Paris\", \"Lille\", \"Dijon\"]},}\n",
    "\n",
    "print(country)"
   ]
  },
  {
   "cell_type": "code",
   "execution_count": 12,
   "metadata": {},
   "outputs": [
    {
     "name": "stdout",
     "output_type": "stream",
     "text": [
      "[{'student1': 'jun', 'student2': 'mango', 'student3': 'zico'}, {'score1': 90, 'score2': 30, 'score3': 100}]\n"
     ]
    }
   ],
   "source": [
    "students = [{\"student1\":\"jun\", \"student2\":\"mango\", \"student3\":\"zico\"},\n",
    "            {\"score1\":90, \"score2\":30, \"score3\":100}]\n",
    "\n",
    "print(students)"
   ]
  },
  {
   "cell_type": "code",
   "execution_count": 14,
   "metadata": {},
   "outputs": [
    {
     "name": "stdout",
     "output_type": "stream",
     "text": [
      "[{'country': 'France', 'visits': 12, 'cities': ['Paris', 'Lille', 'Dijon']}, {'country': 'Germany', 'visits': 5, 'cities': ['Berlin', 'Hamburg', 'Stuttgart']}, {'country': 'Russia', 'visits': 2, 'cities': ['Moscow', 'Saint Petersburg']}]\n"
     ]
    }
   ],
   "source": [
    "def add_new_country(country_name, num_visit, visited_cities):\n",
    "    # visited_log = {\"country\":country_name,\n",
    "    #                \"visits\":num_visit,\n",
    "    #                \"cities\":visited_cities}\n",
    "    visited_log = {}\n",
    "    visited_log[\"country\"] = country_name\n",
    "    visited_log[\"visits\"] = num_visit\n",
    "    visited_log[\"cities\"] = visited_cities\n",
    "    travel_log.append(visited_log)\n",
    "\n",
    "travel_log = [{\"country\": \"France\",\n",
    "               \"visits\": 12,\n",
    "               \"cities\": [\"Paris\", \"Lille\", \"Dijon\"]},\n",
    "              {\"country\": \"Germany\",\n",
    "               \"visits\": 5,\n",
    "               \"cities\": [\"Berlin\", \"Hamburg\", \"Stuttgart\"]},\n",
    "            ]\n",
    "\n",
    "add_new_country(\"Russia\", 2, [\"Moscow\", \"Saint Petersburg\"])\n",
    "print(travel_log)"
   ]
  },
  {
   "cell_type": "code",
   "execution_count": 15,
   "metadata": {},
   "outputs": [
    {
     "name": "stdout",
     "output_type": "stream",
     "text": [
      "\n",
      "                         ___________\n",
      "                         \\         /\n",
      "                          )_______(\n",
      "                          |\"\"\"\"\"\"\"|_.-._,.---------.,_.-._\n",
      "                          |       | | |               | | ''-.\n",
      "                          |       |_| |_             _| |_..-'\n",
      "                          |_______| '-' `'---------'` '-'\n",
      "                          )\"\"\"\"\"\"\"(\n",
      "                         /_________\\\n",
      "                       .-------------.\n",
      "                      /_______________\\\n",
      "\n",
      "Welcome to the secret auction program.\n"
     ]
    },
    {
     "data": {
      "text/plain": [
       "'no'"
      ]
     },
     "execution_count": 15,
     "metadata": {},
     "output_type": "execute_result"
    }
   ],
   "source": [
    "import os\n",
    "from configs import auction_logo\n",
    "\n",
    "print(auction_logo)\n",
    "print(\"Welcome to the secret auction program.\")\n",
    "\n",
    "bidders = True\n",
    "while bidders:\n",
    "    name = input(\"What is your name?:\")\n",
    "    bid = input(\"What's your bid?: $\")\n",
    "    others = input(\"Are there any other bidders? Type 'yes' or 'no'.\\n\")\n",
    "\n",
    "    if others == \"no\":\n",
    "        bidders = False\n",
    "\n",
    "    os.system(\"clear\")\n",
    "    "
   ]
  },
  {
   "cell_type": "code",
   "execution_count": null,
   "metadata": {},
   "outputs": [],
   "source": []
  }
 ],
 "metadata": {
  "kernelspec": {
   "display_name": "base",
   "language": "python",
   "name": "python3"
  },
  "language_info": {
   "codemirror_mode": {
    "name": "ipython",
    "version": 3
   },
   "file_extension": ".py",
   "mimetype": "text/x-python",
   "name": "python",
   "nbconvert_exporter": "python",
   "pygments_lexer": "ipython3",
   "version": "3.9.7 (default, Sep 16 2021, 08:50:36) \n[Clang 10.0.0 ]"
  },
  "orig_nbformat": 4,
  "vscode": {
   "interpreter": {
    "hash": "ed9700ab81b7297e6986a97a9b8454b96a302622dbd1fe5603b4cfb37e904a7d"
   }
  }
 },
 "nbformat": 4,
 "nbformat_minor": 2
}
