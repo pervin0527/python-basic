{
 "cells": [
  {
   "attachments": {},
   "cell_type": "markdown",
   "metadata": {},
   "source": [
    "## 절대경로, 상대경로\n",
    "절대경로는 root로 시작해서 목표 파일 혹은 폴더까지의 경로를 뜻한다.  \n",
    "상대경로는 현재 내 위치에서 목표 파일이나 폴더의 경로를 써주는 방식이다."
   ]
  },
  {
   "attachments": {},
   "cell_type": "markdown",
   "metadata": {},
   "source": [
    "절대 경로 : /Users/pervin0527/python-basic/weather_data.csv  \n",
    "상대 경로 : ./weather_data.csv  or weather_data.csv  \n",
    "in Day6_maze : ../weather_data.csv  \n",
    "in Day25-Mail_Merge/Input : ../../weather_data.csv"
   ]
  },
  {
   "cell_type": "code",
   "execution_count": 1,
   "metadata": {},
   "outputs": [
    {
     "name": "stdout",
     "output_type": "stream",
     "text": [
      "['day,temp,condition\\n', 'Monday,12,Sunny\\n', 'Tuesday,14,Rain\\n', 'Wednesday,15,Rain\\n', 'Thursday,14,Cloudy\\n', 'Friday,21,Sunny\\n', 'Saturday,22,Sunny\\n', 'Sunday,24,Sunny']\n"
     ]
    }
   ],
   "source": [
    "with open(\"Day25-weather_data.csv\", \"r\") as f:\n",
    "    lines = f.readlines()\n",
    "    print(lines)\n",
    "f.close()"
   ]
  },
  {
   "cell_type": "code",
   "execution_count": 2,
   "metadata": {},
   "outputs": [
    {
     "name": "stdout",
     "output_type": "stream",
     "text": [
      "['day', 'temp', 'condition']\n",
      "['Monday', '12', 'Sunny']\n",
      "['Tuesday', '14', 'Rain']\n",
      "['Wednesday', '15', 'Rain']\n",
      "['Thursday', '14', 'Cloudy']\n",
      "['Friday', '21', 'Sunny']\n",
      "['Saturday', '22', 'Sunny']\n",
      "['Sunday', '24', 'Sunny']\n",
      "[12, 14, 15, 14, 21, 22, 24]\n"
     ]
    }
   ],
   "source": [
    "import csv\n",
    "\n",
    "with open(\"weather_data.csv\", \"r\") as f:\n",
    "    data = csv.reader(f)\n",
    "    temperatures = []\n",
    "    for row in data:\n",
    "        print(row)\n",
    "\n",
    "        if row[1].isdigit():\n",
    "            temperatures.append(int(row[1]))\n",
    "\n",
    "f.close()\n",
    "\n",
    "print(temperatures)"
   ]
  },
  {
   "cell_type": "code",
   "execution_count": 6,
   "metadata": {},
   "outputs": [
    {
     "name": "stdout",
     "output_type": "stream",
     "text": [
      "{'day': {0: 'Monday', 1: 'Tuesday', 2: 'Wednesday', 3: 'Thursday', 4: 'Friday', 5: 'Saturday', 6: 'Sunday'}, 'temp': {0: 12, 1: 14, 2: 15, 3: 14, 4: 21, 5: 22, 6: 24}, 'condition': {0: 'Sunny', 1: 'Rain', 2: 'Rain', 3: 'Cloudy', 4: 'Sunny', 5: 'Sunny', 6: 'Sunny'}}\n"
     ]
    }
   ],
   "source": [
    "import pandas as pd\n",
    "\n",
    "data = pd.read_csv(\"Day25-weather_data.csv\")\n",
    "data_dict = data.to_dict()\n",
    "print(data_dict)"
   ]
  },
  {
   "cell_type": "code",
   "execution_count": 11,
   "metadata": {},
   "outputs": [
    {
     "name": "stdout",
     "output_type": "stream",
     "text": [
      "[12, 14, 15, 14, 21, 22, 24]\n",
      "17.428571428571427\n",
      "17.428571428571427\n",
      "24\n"
     ]
    }
   ],
   "source": [
    "temp_list = data[\"temp\"].to_list()\n",
    "print(temp_list)\n",
    "\n",
    "temp_avg = sum(temp_list) / len(temp_list)\n",
    "print(temp_avg)\n",
    "print(data[\"temp\"].mean())\n",
    "print(data[\"temp\"].max())"
   ]
  },
  {
   "cell_type": "code",
   "execution_count": 16,
   "metadata": {},
   "outputs": [
    {
     "name": "stdout",
     "output_type": "stream",
     "text": [
      "      day  temp condition\n",
      "0  Monday    12     Sunny\n"
     ]
    }
   ],
   "source": [
    "print(data[data.day == \"Monday\"])\n",
    "# print(data[\"day\"] == \"Monday\")"
   ]
  },
  {
   "cell_type": "code",
   "execution_count": 18,
   "metadata": {},
   "outputs": [
    {
     "name": "stdout",
     "output_type": "stream",
     "text": [
      "      day  temp condition\n",
      "6  Sunday    24     Sunny\n"
     ]
    }
   ],
   "source": [
    "print(data[data.temp == max(data.temp)])"
   ]
  },
  {
   "cell_type": "code",
   "execution_count": 21,
   "metadata": {},
   "outputs": [
    {
     "name": "stdout",
     "output_type": "stream",
     "text": [
      "53.6\n"
     ]
    }
   ],
   "source": [
    "monday = data[data.day==\"Monday\"]\n",
    "monday_temp = int(monday.temp)\n",
    "monday_temp_F = monday_temp * 9/5 +32\n",
    "print(monday_temp_F)"
   ]
  },
  {
   "cell_type": "code",
   "execution_count": 25,
   "metadata": {},
   "outputs": [
    {
     "name": "stdout",
     "output_type": "stream",
     "text": [
      "[nan 'Gray' 'Cinnamon' 'Black']\n"
     ]
    }
   ],
   "source": [
    "data = pd.read_csv(\"Day25-2018_Central_Park_Squirrel_Census_-_Squirrel_Data.csv\")\n",
    "fur_color = data[\"Primary Fur Color\"].unique()\n",
    "print(fur_color)"
   ]
  },
  {
   "cell_type": "code",
   "execution_count": 27,
   "metadata": {},
   "outputs": [
    {
     "name": "stdout",
     "output_type": "stream",
     "text": [
      "2473\n"
     ]
    }
   ],
   "source": [
    "gray_squirrels = data[data[\"Primary Fur Color\"] == \"Gray\"]\n",
    "gray_squirrels_count = len(gray_squirrels)\n",
    "print(gray_squirrels_count)"
   ]
  },
  {
   "cell_type": "code",
   "execution_count": 28,
   "metadata": {},
   "outputs": [
    {
     "name": "stdout",
     "output_type": "stream",
     "text": [
      "392\n"
     ]
    }
   ],
   "source": [
    "cinnamon_squirrels = data[data[\"Primary Fur Color\"] == \"Cinnamon\"]\n",
    "cinnamon_squirrels_count = len(cinnamon_squirrels)\n",
    "print(cinnamon_squirrels_count)"
   ]
  },
  {
   "cell_type": "code",
   "execution_count": 29,
   "metadata": {},
   "outputs": [
    {
     "name": "stdout",
     "output_type": "stream",
     "text": [
      "103\n"
     ]
    }
   ],
   "source": [
    "black_squirrels = data[data[\"Primary Fur Color\"] == \"Black\"]\n",
    "black_squirrels_count = len(black_squirrels)\n",
    "print(black_squirrels_count)"
   ]
  },
  {
   "cell_type": "code",
   "execution_count": 30,
   "metadata": {},
   "outputs": [
    {
     "name": "stdout",
     "output_type": "stream",
     "text": [
      "{'Fur color': ['Gray', 'Cinnamon', 'Black'], 'Count': [2473, 392, 103]}\n"
     ]
    }
   ],
   "source": [
    "data_dict = {\"Fur color\" : [\"Gray\", \"Cinnamon\", \"Black\"], \"Count\" : [gray_squirrels_count, cinnamon_squirrels_count, black_squirrels_count]}\n",
    "print(data_dict)"
   ]
  },
  {
   "cell_type": "code",
   "execution_count": 31,
   "metadata": {},
   "outputs": [],
   "source": [
    "df = pd.DataFrame(data_dict)\n",
    "df.to_csv(\"Day25-squirrel_count.csv\")"
   ]
  },
  {
   "cell_type": "code",
   "execution_count": null,
   "metadata": {},
   "outputs": [],
   "source": []
  }
 ],
 "metadata": {
  "kernelspec": {
   "display_name": "base",
   "language": "python",
   "name": "python3"
  },
  "language_info": {
   "codemirror_mode": {
    "name": "ipython",
    "version": 3
   },
   "file_extension": ".py",
   "mimetype": "text/x-python",
   "name": "python",
   "nbconvert_exporter": "python",
   "pygments_lexer": "ipython3",
   "version": "3.9.13"
  },
  "orig_nbformat": 4,
  "vscode": {
   "interpreter": {
    "hash": "40d3a090f54c6569ab1632332b64b2c03c39dcf918b08424e98f38b5ae0af88f"
   }
  }
 },
 "nbformat": 4,
 "nbformat_minor": 2
}
