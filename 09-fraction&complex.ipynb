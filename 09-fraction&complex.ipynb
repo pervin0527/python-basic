{
 "cells": [
  {
   "cell_type": "code",
   "execution_count": 1,
   "metadata": {},
   "outputs": [],
   "source": [
    "from fractions import Fraction"
   ]
  },
  {
   "cell_type": "code",
   "execution_count": 3,
   "metadata": {},
   "outputs": [
    {
     "name": "stdout",
     "output_type": "stream",
     "text": [
      "1/2, 1/2, 1/2\n"
     ]
    }
   ],
   "source": [
    "fr1 = Fraction(1, 2) ## 분자 : 1, 분모 : 2\n",
    "fr2 = Fraction(2, 4)\n",
    "fr3 = Fraction(100, 200)\n",
    "\n",
    "if fr1 == fr2 == fr3:\n",
    "    print(f\"{fr1}, {fr2}, {fr3}\") ## 분수형태로 결과가 출력된다."
   ]
  },
  {
   "cell_type": "code",
   "execution_count": 6,
   "metadata": {},
   "outputs": [
    {
     "name": "stdout",
     "output_type": "stream",
     "text": [
      "5\n",
      "1/2\n",
      "5764607523034235/576460752303423488\n",
      "1/100\n",
      "1/100\n"
     ]
    }
   ],
   "source": [
    "fr1 = Fraction(5) ## 하나의 정수로 초기화 시키게되면 1로 나누어진 정수로 저장\n",
    "print(fr1)\n",
    "\n",
    "fr2 = Fraction(0.5) ## Decimal 객체나 부동소수점 값으로도 변환이 가능하다.\n",
    "print(fr2)\n",
    "\n",
    "fr3 = Fraction(0.01) ## 부동소수점 반올림 에러로 인해 값이 이상하다.\n",
    "print(fr3)\n",
    "\n",
    "fr3 = Fraction(\"0.01\")\n",
    "print(fr3)\n",
    "\n",
    "fr3 = Fraction(0.01).limit_denominator(1000)\n",
    "print(fr3)"
   ]
  },
  {
   "cell_type": "code",
   "execution_count": 7,
   "metadata": {},
   "outputs": [
    {
     "name": "stdout",
     "output_type": "stream",
     "text": [
      "5/4\n",
      "25\n",
      "5/24\n"
     ]
    }
   ],
   "source": [
    "fr1 = Fraction(1, 2)\n",
    "fr2 = Fraction(1, 3)\n",
    "fr3 = Fraction(5, 12)\n",
    "\n",
    "print(fr1+fr2+fr3)\n",
    "print(fr1 * 50)\n",
    "print(fr1 * fr3)"
   ]
  },
  {
   "cell_type": "code",
   "execution_count": 8,
   "metadata": {},
   "outputs": [
    {
     "name": "stdout",
     "output_type": "stream",
     "text": [
      "1 3\n"
     ]
    }
   ],
   "source": [
    "fr1 = Fraction(\"100/300\")\n",
    "print(fr1.numerator, fr1.denominator)"
   ]
  },
  {
   "cell_type": "code",
   "execution_count": 2,
   "metadata": {},
   "outputs": [
    {
     "name": "stdout",
     "output_type": "stream",
     "text": [
      "2.5 1.0\n",
      "5.7 10.0\n",
      "<class 'float'> <class 'float'>\n"
     ]
    }
   ],
   "source": [
    "z = 2.5 + 1.0j\n",
    "print(z.real, z.imag)\n",
    "\n",
    "z = complex(5.7, 10)\n",
    "print(z.real, z.imag)\n",
    "print(type(z.real), type(z.imag))"
   ]
  },
  {
   "cell_type": "code",
   "execution_count": null,
   "metadata": {},
   "outputs": [],
   "source": []
  }
 ],
 "metadata": {
  "kernelspec": {
   "display_name": "base",
   "language": "python",
   "name": "python3"
  },
  "language_info": {
   "codemirror_mode": {
    "name": "ipython",
    "version": 3
   },
   "file_extension": ".py",
   "mimetype": "text/x-python",
   "name": "python",
   "nbconvert_exporter": "python",
   "pygments_lexer": "ipython3",
   "version": "3.9.13"
  },
  "orig_nbformat": 4,
  "vscode": {
   "interpreter": {
    "hash": "40d3a090f54c6569ab1632332b64b2c03c39dcf918b08424e98f38b5ae0af88f"
   }
  }
 },
 "nbformat": 4,
 "nbformat_minor": 2
}
