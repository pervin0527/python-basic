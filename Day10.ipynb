{
 "cells": [
  {
   "cell_type": "code",
   "execution_count": 2,
   "metadata": {},
   "outputs": [
    {
     "data": {
      "text/plain": [
       "'Hello'"
      ]
     },
     "execution_count": 2,
     "metadata": {},
     "output_type": "execute_result"
    }
   ],
   "source": [
    "\"HELLO\".title()"
   ]
  },
  {
   "attachments": {},
   "cell_type": "markdown",
   "metadata": {},
   "source": [
    "return문은 함수가 종료되는 지점."
   ]
  },
  {
   "cell_type": "code",
   "execution_count": 3,
   "metadata": {},
   "outputs": [
    {
     "name": "stdout",
     "output_type": "stream",
     "text": [
      "28\n"
     ]
    }
   ],
   "source": [
    "def is_leap(year):\n",
    "  if year % 4 == 0:\n",
    "    if year % 100 == 0:\n",
    "      if year % 400 == 0:\n",
    "        return True\n",
    "      else:\n",
    "        return False\n",
    "    else:\n",
    "      return True\n",
    "  else:\n",
    "    return False\n",
    "\n",
    "def days_in_month(y, m):\n",
    "  month_days = [31, 28, 31, 30, 31, 30, 31, 31, 30, 31, 30, 31]  \n",
    "  if is_leap(y) and m == 2:\n",
    "    return 29\n",
    "  return month_days[m-1]\n",
    "  \n",
    "year = int(input(\"Enter a year: \"))\n",
    "month = int(input(\"Enter a month: \"))\n",
    "days = days_in_month(year, month)\n",
    "print(days)"
   ]
  },
  {
   "attachments": {},
   "cell_type": "markdown",
   "metadata": {},
   "source": [
    "Docstring.  \n",
    "함수 정의문의 첫번째 줄에서 \"\"\"내용\"\"\" 을 작성."
   ]
  },
  {
   "cell_type": "code",
   "execution_count": null,
   "metadata": {},
   "outputs": [],
   "source": [
    "def add(n1, n2):\n",
    "    \"\"\"this function do addition process\"\"\"\n",
    "    return n1 + n2\n",
    "\n",
    "def subtract(n1, n2):\n",
    "    return n1 - n2\n",
    "\n",
    "def multiply(n1, n2):\n",
    "    return n1 * n2\n",
    "\n",
    "def divide(n1, n2):\n",
    "    return n1 / n2"
   ]
  },
  {
   "cell_type": "code",
   "execution_count": 14,
   "metadata": {},
   "outputs": [
    {
     "name": "stdout",
     "output_type": "stream",
     "text": [
      "+\n",
      "-\n",
      "*\n",
      "/\n",
      "10 + 3 = 13\n"
     ]
    }
   ],
   "source": [
    "num1 = int(input(\"What's the first number?:\"))\n",
    "\n",
    "operations = {\"+\":add, \"-\":subtract, \"*\":multiply, \"/\":divide}\n",
    "for operator in operations:\n",
    "    print(operator)\n",
    "operation_symbol = input(\"Pick an operation from the line above: \")\n",
    "\n",
    "num2 = int(input(\"What's the second number?:\"))\n",
    "\n",
    "operation = operations[operation_symbol]\n",
    "answer = operation(num1, num2)\n",
    "print(f\"{num1} {operation_symbol} {num2} = {answer}\")"
   ]
  },
  {
   "cell_type": "code",
   "execution_count": 17,
   "metadata": {},
   "outputs": [
    {
     "name": "stdout",
     "output_type": "stream",
     "text": [
      "+\n",
      "-\n",
      "*\n",
      "/\n",
      "2 + 3 = 5\n",
      "5 * 3 = 15\n"
     ]
    }
   ],
   "source": [
    "num1 = int(input(\"What's the first number?:\"))\n",
    "\n",
    "operations = {\"+\":add, \"-\":subtract, \"*\":multiply, \"/\":divide}\n",
    "for operator in operations:\n",
    "    print(operator)\n",
    "operation_symbol = input(\"Pick an operation from the line above: \")\n",
    "\n",
    "num2 = int(input(\"What's the second number?:\"))\n",
    "\n",
    "operation = operations[operation_symbol]\n",
    "first_answer = operation(num1, num2)\n",
    "print(f\"{num1} {operation_symbol} {num2} = {first_answer}\")\n",
    "\n",
    "operation_symbol = input(\"Pick another operation: \")\n",
    "num3 = int(input(\"What's the next number?: \"))\n",
    "operation = operations[operation_symbol]\n",
    "second_answer = operation(first_answer, num3)\n",
    "## second_answer = operation(operation(num1, num2), num3) ???????\n",
    "print(f\"{first_answer} {operation_symbol} {num3} = {second_answer}\")"
   ]
  },
  {
   "cell_type": "code",
   "execution_count": 21,
   "metadata": {},
   "outputs": [
    {
     "name": "stdout",
     "output_type": "stream",
     "text": [
      "+\n",
      "-\n",
      "*\n",
      "/\n",
      "5 + 3 = 8\n",
      "8 * 2 = 16\n"
     ]
    }
   ],
   "source": [
    "num1 = int(input(\"What's the first number?:\"))\n",
    "\n",
    "operations = {\"+\":add, \"-\":subtract, \"*\":multiply, \"/\":divide}\n",
    "for operator in operations:\n",
    "    print(operator)\n",
    "operation_symbol = input(\"Pick an operation from the line above: \")\n",
    "\n",
    "num2 = int(input(\"What's the second number?:\"))\n",
    "\n",
    "operation = operations[operation_symbol]\n",
    "first_answer = operation(num1, num2)\n",
    "print(f\"{num1} {operation_symbol} {num2} = {first_answer}\")\n",
    "\n",
    "state = \"y\"\n",
    "while state == \"y\":\n",
    "    state = input(f\"Type to 'y' to continue calculating with {first_answer} or type 'n' to exit\")\n",
    "\n",
    "    if state == \"y\":\n",
    "        operation_symbol = input(\"Pick another operation: \")\n",
    "        num3 = int(input(\"What's the next number?: \"))\n",
    "        operation = operations[operation_symbol]\n",
    "        second_answer = operation(first_answer, num3)\n",
    "        ## second_answer = operation(operation(num1, num2), num3) ???????\n",
    "        print(f\"{first_answer} {operation_symbol} {num3} = {second_answer}\")"
   ]
  },
  {
   "cell_type": "code",
   "execution_count": 25,
   "metadata": {},
   "outputs": [
    {
     "name": "stdout",
     "output_type": "stream",
     "text": [
      "+\n",
      "-\n",
      "*\n",
      "/\n",
      "2 + 3 = 5\n",
      "5 * 3 = 15\n"
     ]
    }
   ],
   "source": [
    "num1 = int(input(\"What's the first number?:\"))\n",
    "\n",
    "operations = {\"+\":add, \"-\":subtract, \"*\":multiply, \"/\":divide}\n",
    "for operator in operations:\n",
    "    print(operator)\n",
    "\n",
    "should_continue = True\n",
    "while should_continue:\n",
    "    operation_symbol = input(\"Pick an operation: \")\n",
    "    num2 = int(input(\"What's the next number?: \"))\n",
    "    operation = operations[operation_symbol]\n",
    "    answer = operation(num1, num2)\n",
    "    \n",
    "    print(f\"{num1} {operation_symbol} {num2} = {answer}\")\n",
    "\n",
    "    if input(f\"Type to 'y' to continue calculating with {answer} or type 'n' to exit\") == \"y\":\n",
    "        num1 = answer\n",
    "    else:\n",
    "        should_continue = False"
   ]
  },
  {
   "cell_type": "code",
   "execution_count": 28,
   "metadata": {},
   "outputs": [
    {
     "name": "stdout",
     "output_type": "stream",
     "text": [
      "\n",
      " _____________________\n",
      "|  _________________  |\n",
      "| | Pythonista   0. | |  .----------------.  .----------------.  .----------------.  .----------------. \n",
      "| |_________________| | | .--------------. || .--------------. || .--------------. || .--------------. |\n",
      "|  ___ ___ ___   ___  | | |     ______   | || |      __      | || |   _____      | || |     ______   | |\n",
      "| | 7 | 8 | 9 | | + | | | |   .' ___  |  | || |     /  \\     | || |  |_   _|     | || |   .' ___  |  | |\n",
      "| |___|___|___| |___| | | |  / .'   \\_|  | || |    / /\\ \\    | || |    | |       | || |  / .'   \\_|  | |\n",
      "| | 4 | 5 | 6 | | - | | | |  | |         | || |   / ____ \\   | || |    | |   _   | || |  | |         | |\n",
      "| |___|___|___| |___| | | |  \\ `.___.'\\  | || | _/ /    \\ \\_ | || |   _| |__/ |  | || |  \\ `.___.'\\  | |\n",
      "| | 1 | 2 | 3 | | x | | | |   `._____.'  | || ||____|  |____|| || |  |________|  | || |   `._____.'  | |\n",
      "| |___|___|___| |___| | | |              | || |              | || |              | || |              | |\n",
      "| | . | 0 | = | | / | | | '--------------' || '--------------' || '--------------' || '--------------' |\n",
      "| |___|___|___| |___| |  '----------------'  '----------------'  '----------------'  '----------------' \n",
      "|_____________________|\n",
      "\n",
      "+\n",
      "-\n",
      "*\n",
      "/\n",
      "4 * 2 = 8\n"
     ]
    },
    {
     "ename": "KeyboardInterrupt",
     "evalue": "Interrupted by user",
     "output_type": "error",
     "traceback": [
      "\u001b[0;31m---------------------------------------------------------------------------\u001b[0m",
      "\u001b[0;31mKeyboardInterrupt\u001b[0m                         Traceback (most recent call last)",
      "\u001b[0;32m/var/folders/15/mnbbcmts1tl4758sn1bt4_nc0000gn/T/ipykernel_32838/3264692593.py\u001b[0m in \u001b[0;36m<module>\u001b[0;34m\u001b[0m\n\u001b[1;32m     24\u001b[0m             \u001b[0mcalculator\u001b[0m\u001b[0;34m(\u001b[0m\u001b[0;34m)\u001b[0m\u001b[0;34m\u001b[0m\u001b[0;34m\u001b[0m\u001b[0m\n\u001b[1;32m     25\u001b[0m \u001b[0;34m\u001b[0m\u001b[0m\n\u001b[0;32m---> 26\u001b[0;31m \u001b[0mcalculator\u001b[0m\u001b[0;34m(\u001b[0m\u001b[0;34m)\u001b[0m\u001b[0;34m\u001b[0m\u001b[0;34m\u001b[0m\u001b[0m\n\u001b[0m",
      "\u001b[0;32m/var/folders/15/mnbbcmts1tl4758sn1bt4_nc0000gn/T/ipykernel_32838/3264692593.py\u001b[0m in \u001b[0;36mcalculator\u001b[0;34m()\u001b[0m\n\u001b[1;32m     18\u001b[0m         \u001b[0mprint\u001b[0m\u001b[0;34m(\u001b[0m\u001b[0;34mf\"{num1} {operation_symbol} {num2} = {answer}\"\u001b[0m\u001b[0;34m)\u001b[0m\u001b[0;34m\u001b[0m\u001b[0;34m\u001b[0m\u001b[0m\n\u001b[1;32m     19\u001b[0m \u001b[0;34m\u001b[0m\u001b[0m\n\u001b[0;32m---> 20\u001b[0;31m         \u001b[0;32mif\u001b[0m \u001b[0minput\u001b[0m\u001b[0;34m(\u001b[0m\u001b[0;34mf\"Type to 'y' to continue calculating with {answer} or type 'n' to start a new calculation\"\u001b[0m\u001b[0;34m)\u001b[0m \u001b[0;34m==\u001b[0m \u001b[0;34m\"y\"\u001b[0m\u001b[0;34m:\u001b[0m\u001b[0;34m\u001b[0m\u001b[0;34m\u001b[0m\u001b[0m\n\u001b[0m\u001b[1;32m     21\u001b[0m             \u001b[0mnum1\u001b[0m \u001b[0;34m=\u001b[0m \u001b[0manswer\u001b[0m\u001b[0;34m\u001b[0m\u001b[0;34m\u001b[0m\u001b[0m\n\u001b[1;32m     22\u001b[0m         \u001b[0;32melse\u001b[0m\u001b[0;34m:\u001b[0m\u001b[0;34m\u001b[0m\u001b[0;34m\u001b[0m\u001b[0m\n",
      "\u001b[0;32m~/opt/anaconda3/lib/python3.9/site-packages/ipykernel/kernelbase.py\u001b[0m in \u001b[0;36mraw_input\u001b[0;34m(self, prompt)\u001b[0m\n\u001b[1;32m   1004\u001b[0m                 \u001b[0;34m\"raw_input was called, but this frontend does not support input requests.\"\u001b[0m\u001b[0;34m\u001b[0m\u001b[0;34m\u001b[0m\u001b[0m\n\u001b[1;32m   1005\u001b[0m             )\n\u001b[0;32m-> 1006\u001b[0;31m         return self._input_request(\n\u001b[0m\u001b[1;32m   1007\u001b[0m             \u001b[0mstr\u001b[0m\u001b[0;34m(\u001b[0m\u001b[0mprompt\u001b[0m\u001b[0;34m)\u001b[0m\u001b[0;34m,\u001b[0m\u001b[0;34m\u001b[0m\u001b[0;34m\u001b[0m\u001b[0m\n\u001b[1;32m   1008\u001b[0m             \u001b[0mself\u001b[0m\u001b[0;34m.\u001b[0m\u001b[0m_parent_ident\u001b[0m\u001b[0;34m[\u001b[0m\u001b[0;34m\"shell\"\u001b[0m\u001b[0;34m]\u001b[0m\u001b[0;34m,\u001b[0m\u001b[0;34m\u001b[0m\u001b[0;34m\u001b[0m\u001b[0m\n",
      "\u001b[0;32m~/opt/anaconda3/lib/python3.9/site-packages/ipykernel/kernelbase.py\u001b[0m in \u001b[0;36m_input_request\u001b[0;34m(self, prompt, ident, parent, password)\u001b[0m\n\u001b[1;32m   1049\u001b[0m             \u001b[0;32mexcept\u001b[0m \u001b[0mKeyboardInterrupt\u001b[0m\u001b[0;34m:\u001b[0m\u001b[0;34m\u001b[0m\u001b[0;34m\u001b[0m\u001b[0m\n\u001b[1;32m   1050\u001b[0m                 \u001b[0;31m# re-raise KeyboardInterrupt, to truncate traceback\u001b[0m\u001b[0;34m\u001b[0m\u001b[0;34m\u001b[0m\u001b[0m\n\u001b[0;32m-> 1051\u001b[0;31m                 \u001b[0;32mraise\u001b[0m \u001b[0mKeyboardInterrupt\u001b[0m\u001b[0;34m(\u001b[0m\u001b[0;34m\"Interrupted by user\"\u001b[0m\u001b[0;34m)\u001b[0m \u001b[0;32mfrom\u001b[0m \u001b[0;32mNone\u001b[0m\u001b[0;34m\u001b[0m\u001b[0;34m\u001b[0m\u001b[0m\n\u001b[0m\u001b[1;32m   1052\u001b[0m             \u001b[0;32mexcept\u001b[0m \u001b[0mException\u001b[0m\u001b[0;34m:\u001b[0m\u001b[0;34m\u001b[0m\u001b[0;34m\u001b[0m\u001b[0m\n\u001b[1;32m   1053\u001b[0m                 \u001b[0mself\u001b[0m\u001b[0;34m.\u001b[0m\u001b[0mlog\u001b[0m\u001b[0;34m.\u001b[0m\u001b[0mwarning\u001b[0m\u001b[0;34m(\u001b[0m\u001b[0;34m\"Invalid Message:\"\u001b[0m\u001b[0;34m,\u001b[0m \u001b[0mexc_info\u001b[0m\u001b[0;34m=\u001b[0m\u001b[0;32mTrue\u001b[0m\u001b[0;34m)\u001b[0m\u001b[0;34m\u001b[0m\u001b[0;34m\u001b[0m\u001b[0m\n",
      "\u001b[0;31mKeyboardInterrupt\u001b[0m: Interrupted by user"
     ]
    }
   ],
   "source": [
    "from configs import calculator_logo\n",
    "\n",
    "def calculator():\n",
    "    print(calculator_logo)\n",
    "    num1 = float(input(\"What's the first number?:\"))\n",
    "\n",
    "    operations = {\"+\":add, \"-\":subtract, \"*\":multiply, \"/\":divide}\n",
    "    for operator in operations:\n",
    "        print(operator)\n",
    "\n",
    "    should_continue = True\n",
    "    while should_continue:\n",
    "        operation_symbol = input(\"Pick an operation: \")\n",
    "        num2 = float(input(\"What's the next number?: \"))\n",
    "        operation = operations[operation_symbol]\n",
    "        answer = operation(num1, num2)\n",
    "        \n",
    "        print(f\"{num1} {operation_symbol} {num2} = {answer}\")\n",
    "\n",
    "        if input(f\"Type to 'y' to continue calculating with {answer} or type 'n' to start a new calculation\") == \"y\":\n",
    "            num1 = answer\n",
    "        else:\n",
    "            should_continue = False\n",
    "            calculator()\n",
    "\n",
    "calculator()"
   ]
  },
  {
   "cell_type": "code",
   "execution_count": null,
   "metadata": {},
   "outputs": [],
   "source": []
  }
 ],
 "metadata": {
  "kernelspec": {
   "display_name": "base",
   "language": "python",
   "name": "python3"
  },
  "language_info": {
   "codemirror_mode": {
    "name": "ipython",
    "version": 3
   },
   "file_extension": ".py",
   "mimetype": "text/x-python",
   "name": "python",
   "nbconvert_exporter": "python",
   "pygments_lexer": "ipython3",
   "version": "3.9.7"
  },
  "orig_nbformat": 4,
  "vscode": {
   "interpreter": {
    "hash": "ed9700ab81b7297e6986a97a9b8454b96a302622dbd1fe5603b4cfb37e904a7d"
   }
  }
 },
 "nbformat": 4,
 "nbformat_minor": 2
}
