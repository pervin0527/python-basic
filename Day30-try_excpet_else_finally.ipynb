{
 "cells": [
  {
   "cell_type": "code",
   "execution_count": 2,
   "metadata": {},
   "outputs": [
    {
     "name": "stdout",
     "output_type": "stream",
     "text": [
      "File Not Found\n"
     ]
    }
   ],
   "source": [
    "try:\n",
    "    file = open(\"some_file.txt\")\n",
    "except FileNotFoundError:\n",
    "    print(\"File Not Found\")"
   ]
  },
  {
   "cell_type": "code",
   "execution_count": 11,
   "metadata": {},
   "outputs": [],
   "source": [
    "try:\n",
    "    file = open(\"some_file.txt\")\n",
    "    some_dict = {\"key\":\"value\"}\n",
    "    print(some_dict[\"asdf\"])\n",
    "\n",
    "except FileNotFoundError:\n",
    "    file = open(\"some_file.txt\", \"w\")\n",
    "    file.write(\"text\")\n",
    "\n",
    "except KeyError as error_message:\n",
    "    print(f\"Key {error_message} doesn't exist\")"
   ]
  },
  {
   "cell_type": "code",
   "execution_count": 1,
   "metadata": {},
   "outputs": [
    {
     "name": "stdout",
     "output_type": "stream",
     "text": [
      "value\n",
      "text\n",
      "File was closed\n"
     ]
    }
   ],
   "source": [
    "try:\n",
    "    file = open(\"some_file.txt\")\n",
    "    some_dict = {\"key\":\"value\"}\n",
    "    print(some_dict[\"key\"])\n",
    "\n",
    "except FileNotFoundError: ## try block에서 실행 중 에러가 발생하는 경우에 실행.\n",
    "    file = open(\"some_file.txt\", \"w\")\n",
    "    file.write(\"text\")\n",
    "\n",
    "except KeyError as error_message:\n",
    "    print(f\"Key {error_message} doesn't exist\")\n",
    "\n",
    "else: ## try block에서 에러가 발생하지 않고 모두 동작했을때 실행.\n",
    "    content = file.read()\n",
    "    print(content)\n",
    "\n",
    "finally: ## 어떤 일이 일어나도 반드시 실행되는 코드를 의미한다.\n",
    "    file.close()\n",
    "    print(\"File was closed\")\n"
   ]
  },
  {
   "cell_type": "code",
   "execution_count": 3,
   "metadata": {},
   "outputs": [
    {
     "name": "stdout",
     "output_type": "stream",
     "text": [
      "value\n",
      "text\n",
      "File was closed\n"
     ]
    },
    {
     "ename": "KeyError",
     "evalue": "'this is custom error.'",
     "output_type": "error",
     "traceback": [
      "\u001b[0;31m---------------------------------------------------------------------------\u001b[0m",
      "\u001b[0;31mKeyError\u001b[0m                                  Traceback (most recent call last)",
      "\u001b[0;32m/var/folders/h2/dxdwtry542514hp51hkrx__h0000gn/T/ipykernel_21857/2943877528.py\u001b[0m in \u001b[0;36m<module>\u001b[0;34m\u001b[0m\n\u001b[1;32m     18\u001b[0m     \u001b[0mfile\u001b[0m\u001b[0;34m.\u001b[0m\u001b[0mclose\u001b[0m\u001b[0;34m(\u001b[0m\u001b[0;34m)\u001b[0m\u001b[0;34m\u001b[0m\u001b[0;34m\u001b[0m\u001b[0m\n\u001b[1;32m     19\u001b[0m     \u001b[0mprint\u001b[0m\u001b[0;34m(\u001b[0m\u001b[0;34m\"File was closed\"\u001b[0m\u001b[0;34m)\u001b[0m\u001b[0;34m\u001b[0m\u001b[0;34m\u001b[0m\u001b[0m\n\u001b[0;32m---> 20\u001b[0;31m     \u001b[0;32mraise\u001b[0m \u001b[0mKeyError\u001b[0m\u001b[0;34m(\u001b[0m\u001b[0;34m\"this is custom error.\"\u001b[0m\u001b[0;34m)\u001b[0m \u001b[0;31m## custom error를 만들기 위함.\u001b[0m\u001b[0;34m\u001b[0m\u001b[0;34m\u001b[0m\u001b[0m\n\u001b[0m",
      "\u001b[0;31mKeyError\u001b[0m: 'this is custom error.'"
     ]
    }
   ],
   "source": [
    "try:\n",
    "    file = open(\"some_file.txt\")\n",
    "    some_dict = {\"key\":\"value\"}\n",
    "    print(some_dict[\"key\"])\n",
    "\n",
    "except FileNotFoundError: ## try block에서 실행 중 에러가 발생하는 경우에 실행.\n",
    "    file = open(\"some_file.txt\", \"w\")\n",
    "    file.write(\"text\")\n",
    "\n",
    "except KeyError as error_message:\n",
    "    print(f\"Key {error_message} doesn't exist\")\n",
    "\n",
    "else: ## try block에서 에러가 발생하지 않고 모두 동작했을때 실행.\n",
    "    content = file.read()\n",
    "    print(content)\n",
    "\n",
    "finally: ## 어떤 일이 일어나도 반드시 실행되는 코드를 의미한다.\n",
    "    file.close()\n",
    "    print(\"File was closed\")\n",
    "    raise KeyError(\"this is custom error.\") ## custom error를 만들기 위함."
   ]
  },
  {
   "cell_type": "code",
   "execution_count": 4,
   "metadata": {},
   "outputs": [
    {
     "name": "stdout",
     "output_type": "stream",
     "text": [
      "Fruit Pie\n"
     ]
    }
   ],
   "source": [
    "fruits = [\"Apple\", \"Pear\", \"Orange\"]\n",
    "\n",
    "#TODO: Catch the exception and make sure the code runs without crashing.\n",
    "def make_pie(index):\n",
    "    try:\n",
    "        fruit = fruits[index]\n",
    "    except IndexError:\n",
    "        print(\"Fruit Pie\")\n",
    "    else:\n",
    "        print(fruit + \" pie\")\n",
    "\n",
    "make_pie(4)"
   ]
  },
  {
   "cell_type": "code",
   "execution_count": 9,
   "metadata": {},
   "outputs": [
    {
     "name": "stdout",
     "output_type": "stream",
     "text": [
      "86\n"
     ]
    }
   ],
   "source": [
    "facebook_posts = [\n",
    "    {'Likes': 21, 'Comments': 2}, \n",
    "    {'Likes': 13, 'Comments': 2, 'Shares': 1}, \n",
    "    {'Likes': 33, 'Comments': 8, 'Shares': 3}, \n",
    "    {'Comments': 4, 'Shares': 2}, \n",
    "    {'Comments': 1, 'Shares': 1}, \n",
    "    {'Likes': 19, 'Comments': 3}\n",
    "]\n",
    "\n",
    "total_likes = 0\n",
    "for post in facebook_posts:\n",
    "    try:\n",
    "        total_likes = total_likes + post[\"Likes\"]\n",
    "    except KeyError:\n",
    "        pass\n",
    "\n",
    "print(total_likes)"
   ]
  },
  {
   "cell_type": "code",
   "execution_count": 12,
   "metadata": {},
   "outputs": [
    {
     "name": "stdout",
     "output_type": "stream",
     "text": [
      "{'A': 'Alfa', 'B': 'Bravo', 'C': 'Charlie', 'D': 'Delta', 'E': 'Echo', 'F': 'Foxtrot', 'G': 'Golf', 'H': 'Hotel', 'I': 'India', 'J': 'Juliet', 'K': 'Kilo', 'L': 'Lima', 'M': 'Mike', 'N': 'November', 'O': 'Oscar', 'P': 'Papa', 'Q': 'Quebec', 'R': 'Romeo', 'S': 'Sierra', 'T': 'Tango', 'U': 'Uniform', 'V': 'Victor', 'W': 'Whiskey', 'X': 'X-ray', 'Y': 'Yankee', 'Z': 'Zulu'}\n",
      "Sorry, only letters in alphabet please.\n",
      "Sorry, only letters in alphabet please.\n",
      "['Mike', 'India', 'November', 'Juliet', 'Uniform', 'November']\n"
     ]
    }
   ],
   "source": [
    "import pandas as pd\n",
    "\n",
    "data = pd.read_csv(\"Day26-NATO-alphabet-start/nato_phonetic_alphabet.csv\")\n",
    "phonetic_dict = {row.letter : row.code for (index, row) in data.iterrows()}\n",
    "print(phonetic_dict)\n",
    "\n",
    "converted = False\n",
    "while not converted:\n",
    "    word = input(\"Enter a word: \").upper()\n",
    "    try:\n",
    "        result = [phonetic_dict[character] for character in word]\n",
    "    except KeyError:\n",
    "        print(\"Sorry, only letters in alphabet please.\")\n",
    "    else:\n",
    "        print(result)\n",
    "        converted = True\n"
   ]
  },
  {
   "cell_type": "code",
   "execution_count": null,
   "metadata": {},
   "outputs": [],
   "source": []
  }
 ],
 "metadata": {
  "kernelspec": {
   "display_name": "base",
   "language": "python",
   "name": "python3"
  },
  "language_info": {
   "codemirror_mode": {
    "name": "ipython",
    "version": 3
   },
   "file_extension": ".py",
   "mimetype": "text/x-python",
   "name": "python",
   "nbconvert_exporter": "python",
   "pygments_lexer": "ipython3",
   "version": "3.9.13"
  },
  "orig_nbformat": 4,
  "vscode": {
   "interpreter": {
    "hash": "40d3a090f54c6569ab1632332b64b2c03c39dcf918b08424e98f38b5ae0af88f"
   }
  }
 },
 "nbformat": 4,
 "nbformat_minor": 2
}
