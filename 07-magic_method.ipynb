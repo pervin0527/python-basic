{
 "cells": [
  {
   "attachments": {},
   "cell_type": "markdown",
   "metadata": {},
   "source": [
    "# 매직 메서드\n",
    "언더스코어 2개를 포함한 미리 정의된 이름을 사용하는 메서드를 매직 메서드라 부른다.  \n",
    "이 메서드는 다른 메서드와 같은 방식으로 호출되지만 특정조건에 따라 자동으로 호출되기도 한다."
   ]
  },
  {
   "cell_type": "code",
   "execution_count": 2,
   "metadata": {},
   "outputs": [
    {
     "name": "stdout",
     "output_type": "stream",
     "text": [
      "8\n",
      "[1, 2, 3, 4, 5, 'a', 'b', 'c']\n"
     ]
    }
   ],
   "source": [
    "\n",
    "a, b = 3, 5\n",
    "print(a.__add__(b)) ## int 객체에 미리 정의된 __add__ 메서드는 두 정수를 더한 결과를 반환.\n",
    "\n",
    "c = [1, 2, 3, 4, 5]\n",
    "d = [\"a\", \"b\", \"c\"]\n",
    "print(c.__add__(d)) ## list 객체에 미리 정의된 __add__메서든 두 리스트를 연결한 결과를 반환한다.\n",
    "\n",
    "## 즉, 객체별로 동일한 이름의 서로 다른 동작을 수행하는 메서드가 미리 정의되어 있으며,\n",
    "## 우리가 정의한 클래스에서도 매직 메서드를 커스텀하게 만들 수 있다."
   ]
  },
  {
   "attachments": {},
   "cell_type": "markdown",
   "metadata": {},
   "source": [
    "### 활용\n",
    "    format(6, 'b') ## int 값을 binary로 표현할 것.\n",
    "\n",
    "위 코드를 실행하게 되면, format함수를 호출하게 되고, int 클래스 내에 \\_\\_format\\_\\_ 메서드를 호출한다.  \n",
    "따라서 \\_\\_format\\_\\_ 메서드를 구현한다는 것은 새로 정의한 포맷으로 표현하는 문자열을 반환하겠다는 의미다.\n",
    "\n",
    "개발자가 정의한 포맷을 출력하는 문자열을 반환하겠다는 것."
   ]
  },
  {
   "attachments": {},
   "cell_type": "markdown",
   "metadata": {},
   "source": [
    "print()함수는 객체를 출력하기 위해 해당 객체 내 \\_\\_str\\_\\_ 메서드를 호출한다.  \n",
    "이는 해당 객체를 문자열로 반환하는 메서드로 정의되지 않았을 경우, 해당 클래스드의 \\_\\_repr\\_\\_를 호출한다.  \n",
    "\n",
    "__str__의 목적은 인자를 ‘문자열화’해 반환하라는 것이다.  \n",
    "객체를 ‘표현’하는 것(representation)에 있다기보다는 추가적인 가공이나 다른 데이터와 호환될 수 있도록 문자열화하는 데 있다고 하겠다.\n",
    "\n",
    "\\_\\_repr\\_\\_ 메서드는 파이썬 코드에서 표현하는 것처럼 객체 표준 표현 방식의 문자열을 반환한다.  \n",
    "시스템(python interpreter)이 해당객체를 인식할 수 있는 공식적인 문자열을 뜻한다."
   ]
  },
  {
   "cell_type": "code",
   "execution_count": 5,
   "metadata": {},
   "outputs": [],
   "source": [
    "class Point:\n",
    "    def __init__(self, x=0, y=0):\n",
    "        self.x = x\n",
    "        self.y = y\n",
    "\n",
    "    def __str__(self):\n",
    "        s = str(self.x) + ','\n",
    "        s += str(self.y)\n",
    "\n",
    "        return s\n",
    "\n",
    "    def __repr__(self):\n",
    "        print(\"\\n This is __repr__ method.\")\n",
    "        s = \"Point(\" + str(self.x) + ','\n",
    "        s += str(self.y) + ')'\n",
    "\n",
    "        return s"
   ]
  },
  {
   "cell_type": "code",
   "execution_count": 6,
   "metadata": {},
   "outputs": [
    {
     "name": "stdout",
     "output_type": "stream",
     "text": [
      "7,7\n",
      "\n",
      " This is __repr__ method.\n"
     ]
    },
    {
     "data": {
      "text/plain": [
       "Point(7,7)"
      ]
     },
     "execution_count": 6,
     "metadata": {},
     "output_type": "execute_result"
    }
   ],
   "source": [
    "pt1 = Point(7, 7)\n",
    "print(pt1)\n",
    "pt1"
   ]
  },
  {
   "cell_type": "code",
   "execution_count": 12,
   "metadata": {},
   "outputs": [
    {
     "name": "stdout",
     "output_type": "stream",
     "text": [
      "\n",
      " This is __repr__ method.\n"
     ]
    },
    {
     "data": {
      "text/plain": [
       "__main__.Point"
      ]
     },
     "execution_count": 12,
     "metadata": {},
     "output_type": "execute_result"
    }
   ],
   "source": [
    "# pt2 = eval(pt1.__repr__())\n",
    "pt2 = eval(repr(pt1))\n",
    "type(pt2)"
   ]
  },
  {
   "cell_type": "code",
   "execution_count": 25,
   "metadata": {},
   "outputs": [],
   "source": [
    "class Stack:\n",
    "    def __init__(self):\n",
    "        self.stack_list = []\n",
    "\n",
    "    def append(self, value):\n",
    "        self.stack_list.append(value)\n",
    "\n",
    "    def push(self, value):\n",
    "        self.stack_list.append(value)\n",
    "\n",
    "    def pop(self):\n",
    "        return self.stack_list.pop()\n",
    "\n",
    "    def __len__(self):\n",
    "        return len(self.stack_list)\n",
    "\n",
    "    def __getitem__(self, index):\n",
    "        return self.stack_list[index]"
   ]
  },
  {
   "cell_type": "code",
   "execution_count": 26,
   "metadata": {},
   "outputs": [
    {
     "name": "stdout",
     "output_type": "stream",
     "text": [
      "50\n",
      "[10, 20, 30, 40]\n"
     ]
    }
   ],
   "source": [
    "test_list = Stack()\n",
    "test_list.append(10)\n",
    "test_list.append(20)\n",
    "test_list.append(30)\n",
    "test_list.append(40)\n",
    "test_list.append(50)\n",
    "\n",
    "print(test_list[-1])\n",
    "print(test_list[0:4]) ## __getitem__을 만들면 indexing뿐만 아니라 slicin까지 가능하다."
   ]
  },
  {
   "cell_type": "code",
   "execution_count": 19,
   "metadata": {},
   "outputs": [
    {
     "name": "stdout",
     "output_type": "stream",
     "text": [
      "['__class__', '__delattr__', '__dict__', '__dir__', '__doc__', '__eq__', '__format__', '__ge__', '__getattribute__', '__getitem__', '__gt__', '__hash__', '__init__', '__init_subclass__', '__le__', '__len__', '__lt__', '__module__', '__ne__', '__new__', '__reduce__', '__reduce_ex__', '__repr__', '__setattr__', '__sizeof__', '__str__', '__subclasshook__', '__weakref__', 'append', 'pop', 'push', 'stack_list']\n"
     ]
    }
   ],
   "source": [
    "print(dir(test_list))"
   ]
  },
  {
   "cell_type": "code",
   "execution_count": 27,
   "metadata": {},
   "outputs": [
    {
     "name": "stdout",
     "output_type": "stream",
     "text": [
      "10\n",
      "20\n",
      "30\n",
      "40\n",
      "50\n"
     ]
    }
   ],
   "source": [
    "for item in test_list: ## iter 메서드를 정의하지 않았는데도, __getitem__ 메서드가 있기 때문에 순회가 가능하다.\n",
    "    print(item)"
   ]
  },
  {
   "cell_type": "code",
   "execution_count": 30,
   "metadata": {},
   "outputs": [
    {
     "name": "stdout",
     "output_type": "stream",
     "text": [
      "<class '__main__.Test'>\n",
      "1 2 3 "
     ]
    }
   ],
   "source": [
    "class Test:\n",
    "    def __init__(self, values):\n",
    "        self.values = values\n",
    "        self.count = 0\n",
    "\n",
    "    def __iter__(self):\n",
    "        self.count = 0\n",
    "        return self\n",
    "\n",
    "    def __next__(self):\n",
    "        if len(self.values) > self.count:\n",
    "            self.count += 1\n",
    "            return self.values[self.count - 1]\n",
    "        else:\n",
    "            raise StopIteration\n",
    "\n",
    "test = Test([1,2,3])\n",
    "print(type(test))\n",
    "\n",
    "for t in test:\n",
    "    print(t, end=' ')"
   ]
  },
  {
   "cell_type": "code",
   "execution_count": null,
   "metadata": {},
   "outputs": [],
   "source": []
  }
 ],
 "metadata": {
  "kernelspec": {
   "display_name": "base",
   "language": "python",
   "name": "python3"
  },
  "language_info": {
   "codemirror_mode": {
    "name": "ipython",
    "version": 3
   },
   "file_extension": ".py",
   "mimetype": "text/x-python",
   "name": "python",
   "nbconvert_exporter": "python",
   "pygments_lexer": "ipython3",
   "version": "3.9.13"
  },
  "orig_nbformat": 4,
  "vscode": {
   "interpreter": {
    "hash": "40d3a090f54c6569ab1632332b64b2c03c39dcf918b08424e98f38b5ae0af88f"
   }
  }
 },
 "nbformat": 4,
 "nbformat_minor": 2
}
