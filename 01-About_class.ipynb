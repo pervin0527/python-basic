{
 "cells": [
  {
   "attachments": {},
   "cell_type": "markdown",
   "metadata": {},
   "source": [
    "## 1.pass\n",
    "python에서 pass는 일부 코드가 구문상 필요하지만 내용으로는 어떤 작업도 하지 않기를 원하는 경우에 사용  \n",
    "예를 들어 다음과 같이 class를 선언하는데 내부 동작은 필요없고 코드를 작성하기 위해 필요한 경우에 사용할 수 있다."
   ]
  },
  {
   "cell_type": "code",
   "execution_count": 1,
   "metadata": {},
   "outputs": [],
   "source": [
    "class Car:\n",
    "    pass"
   ]
  },
  {
   "attachments": {},
   "cell_type": "markdown",
   "metadata": {},
   "source": [
    "## 2.Class Variable, Instance Variable"
   ]
  },
  {
   "attachments": {},
   "cell_type": "markdown",
   "metadata": {},
   "source": [
    "class는 instance라고 부르는 클래스의 실체를 원하는 만큼 생성할 수 있다."
   ]
  },
  {
   "cell_type": "code",
   "execution_count": 2,
   "metadata": {},
   "outputs": [],
   "source": [
    "car1 = Car()\n",
    "car2 = Car()\n",
    "car3 = Car()"
   ]
  },
  {
   "attachments": {},
   "cell_type": "markdown",
   "metadata": {},
   "source": [
    "이번에는 class에 변수 몇 개를 생성해 볼 것이다. 이 변수들은 \"클래스 변수\"라 부르고, 모든 객체에 공유된다."
   ]
  },
  {
   "cell_type": "code",
   "execution_count": 5,
   "metadata": {},
   "outputs": [
    {
     "name": "stdout",
     "output_type": "stream",
     "text": [
      "3.0 25\n"
     ]
    }
   ],
   "source": [
    "class Car:\n",
    "    accel = 3.0\n",
    "    mpg = 25\n",
    "\n",
    "my_car = Car()\n",
    "print(my_car.accel, my_car.mpg)"
   ]
  },
  {
   "attachments": {},
   "cell_type": "markdown",
   "metadata": {},
   "source": [
    "my_car instance는 클래스 변수 seat(또는 door)에 해당 인스턴스만을 위한 값을 대입할 수 있다.  \n",
    "원래 값인 4를 교체(override)하는 것이다.  \n",
    "<img src=\"imgs/20230215_221726.jpg\" width=\"640\" height=\"480\">"
   ]
  },
  {
   "cell_type": "code",
   "execution_count": 7,
   "metadata": {},
   "outputs": [
    {
     "name": "stdout",
     "output_type": "stream",
     "text": [
      "5.0 25\n"
     ]
    }
   ],
   "source": [
    "my_car.accel = 5.0 ## my_car 객체의 accel 변수가 인스턴스 변수로 변경된다. 클래스 변수 ---> 인스턴스 \n",
    "print(my_car.accel, my_car.mpg)"
   ]
  },
  {
   "attachments": {},
   "cell_type": "markdown",
   "metadata": {},
   "source": [
    "인스턴스 변수는 필요할 대마다 바로 생성하거나, \\_\\_init\\_\\_ 메서드 내에서 생성된다."
   ]
  },
  {
   "cell_type": "code",
   "execution_count": 8,
   "metadata": {},
   "outputs": [
    {
     "name": "stdout",
     "output_type": "stream",
     "text": [
      "my dog name is 레오.\n"
     ]
    },
    {
     "ename": "AttributeError",
     "evalue": "'Dog' object has no attribute 'name'",
     "output_type": "error",
     "traceback": [
      "\u001b[0;31m---------------------------------------------------------------------------\u001b[0m",
      "\u001b[0;31mAttributeError\u001b[0m                            Traceback (most recent call last)",
      "\u001b[0;32m/var/folders/h2/dxdwtry542514hp51hkrx__h0000gn/T/ipykernel_33205/1005434618.py\u001b[0m in \u001b[0;36m<module>\u001b[0;34m\u001b[0m\n\u001b[1;32m     11\u001b[0m \u001b[0;31m## 이시점에 name, breed, age는 my_dog 객체만을 위한 속성이다. 다른 Dog 객체들은 동일한 속성을 가지지 않는다.\u001b[0m\u001b[0;34m\u001b[0m\u001b[0;34m\u001b[0m\u001b[0m\n\u001b[1;32m     12\u001b[0m \u001b[0myour_dog\u001b[0m \u001b[0;34m=\u001b[0m \u001b[0mDog\u001b[0m\u001b[0;34m(\u001b[0m\u001b[0;34m)\u001b[0m\u001b[0;34m\u001b[0m\u001b[0;34m\u001b[0m\u001b[0m\n\u001b[0;32m---> 13\u001b[0;31m \u001b[0mprint\u001b[0m\u001b[0;34m(\u001b[0m\u001b[0;34mf\"your dog name is {your_dog.name}\"\u001b[0m\u001b[0;34m)\u001b[0m\u001b[0;34m\u001b[0m\u001b[0;34m\u001b[0m\u001b[0m\n\u001b[0m",
      "\u001b[0;31mAttributeError\u001b[0m: 'Dog' object has no attribute 'name'"
     ]
    }
   ],
   "source": [
    "class Dog:\n",
    "    pass\n",
    "\n",
    "my_dog = Dog()\n",
    "my_dog.name = \"레오\"\n",
    "my_dog.breed = \"리트리버\"\n",
    "my_dog.age = 2\n",
    "\n",
    "print(f\"my dog name is {my_dog.name}.\")\n",
    "\n",
    "## 이시점에 name, breed, age는 my_dog 객체만을 위한 속성이다. 다른 Dog 객체들은 동일한 속성을 가지지 않는다.\n",
    "your_dog = Dog()\n",
    "print(f\"your dog name is {your_dog.name}\")"
   ]
  },
  {
   "attachments": {},
   "cell_type": "markdown",
   "metadata": {},
   "source": [
    "## 3.\\_\\_init\\_\\_ 메서드\n",
    "\n",
    "\\_\\_init\\_\\_ 메서드를 정의한 모든 클래스는 객체가 생성될 때 자동으로 \\_\\_init\\_\\_ 메서드가 호출된다.(invoke)  \n",
    "클래스의 모든 인스턴스가 동일한 공통 변수들을 가지면서 각 인스턴스별로 독립적인 값을 지니게할 때 사용할 수 있다."
   ]
  },
  {
   "attachments": {},
   "cell_type": "markdown",
   "metadata": {},
   "source": [
    "### 메서드\n",
    "메서드는 기본적인 함수와 구분된다.\n",
    "1. 메서드는 클래스 정의문 안에서 정의된다.\n",
    "2. 메서드는 항상 인스턴스를 통해 호출되며, 숨겨진 인수 self가 전달된다.\n",
    "\n",
    "아래 코드에서 클래스 정의문에서 생성자 인수에는 self가 포함되어 있으나 호출 시에는 self에 해당하는 인수는 포함하지 않는다."
   ]
  },
  {
   "cell_type": "code",
   "execution_count": 11,
   "metadata": {},
   "outputs": [
    {
     "name": "stdout",
     "output_type": "stream",
     "text": [
      "테오 허스키 1\n"
     ]
    }
   ],
   "source": [
    "class Dog:\n",
    "    def __init__(self, name, breed, age): ## self는 반드시 사용해야 하는 것은 아니다. 생성된 객체를 참조하기 위해 사용한다.\n",
    "        self.name = name\n",
    "        self.breed = breed\n",
    "        self.age = age\n",
    "\n",
    "    def dog_information(self):\n",
    "        print(self.name, self.breed, self.age)\n",
    "\n",
    "my_dog = Dog(\"테오\", \"허스키\", 1)\n",
    "my_dog.dog_information() ## 메서드가 정의된 인수에는 self가 있지만 호출할 때는 self에 해당하는 인수를 포함하지 않는다."
   ]
  },
  {
   "attachments": {},
   "cell_type": "markdown",
   "metadata": {},
   "source": [
    "## 4.상속\n",
    "\n",
    "가령 Mammal이라는 클래스가 있다고 가정할 때, Mammal 인스턴스가 할 수 있는 모든 것을 하면서 추가적인 더 많은 기능을 추가한 Dog클래스를 만들고 싶다고 하자.  \n",
    "이때 상속이라는 개념이 적용되며, 상속 받은 하위 클래스는 상위 클래스의 모든 클래스 변수와 메서드들을 상속 받게 된다.  \n",
    "또한 신규 변수나 메서드 정의문을 추가할 수 있고, 기존에 존재하는 정의문을 재정의할 수도 있다."
   ]
  },
  {
   "cell_type": "code",
   "execution_count": 12,
   "metadata": {},
   "outputs": [],
   "source": [
    "class Mammal:\n",
    "    def __init__(self, name, size):\n",
    "        self.name = name\n",
    "        self.size = size\n",
    "    \n",
    "    def speak(self):\n",
    "        print(f\"My name is {self.name}\")\n",
    "\n",
    "    def call_out(self):\n",
    "        self.speak()\n",
    "        self.speak()"
   ]
  },
  {
   "cell_type": "code",
   "execution_count": 13,
   "metadata": {},
   "outputs": [],
   "source": [
    "class Dog(Mammal):\n",
    "    def speak(self):\n",
    "        print(\"Bark!!!\")"
   ]
  },
  {
   "cell_type": "code",
   "execution_count": 14,
   "metadata": {},
   "outputs": [
    {
     "name": "stdout",
     "output_type": "stream",
     "text": [
      "Bark!!!\n",
      "Bark!!!\n"
     ]
    }
   ],
   "source": [
    "my_dog = Dog(\"개코\", 17) ## Dog클래스는 __init__ 메서드를 가지지 않았으나 Mammal 클래스의 __init__ 메서드를 상속받는다.\n",
    "my_dog.call_out()"
   ]
  },
  {
   "attachments": {},
   "cell_type": "markdown",
   "metadata": {},
   "source": [
    "상위 클래스의 \\_\\_init\\_\\_ 정의문을 최대한 활용하면서 추가적인 작업이 필요하다면,  \n",
    "하위 클래스에서 \\_\\_init\\_\\_ 메서드 정의문을 추가하되, 상위 클래스 버전의 \\_\\_init\\_\\_ 메서드를 호출하는 것이다."
   ]
  },
  {
   "cell_type": "code",
   "execution_count": 15,
   "metadata": {},
   "outputs": [],
   "source": [
    "class Dog(Mammal):\n",
    "    def __init__(self, name, size, breed):\n",
    "        super().__init__(name, size) ## 상위 클래스의 생성자를 그대로 사용하면서 새로운 내용을 추가.\n",
    "        ## Dog 클래스에는 name, size 속성 변수가 정의되지 않았지만, Mammal 클래스의 생성자를 super를 통해 사용할 수 있으므로 속성 변수 정의 가능.\n",
    "        self.breed = breed\n",
    "\n",
    "    def speak(self): ## 메서드 재정의. 단, 부모 클래스에서 정의한 기능은 사용할 수 없다.\n",
    "        print(\"Bark!!\")"
   ]
  },
  {
   "cell_type": "code",
   "execution_count": 16,
   "metadata": {},
   "outputs": [
    {
     "name": "stdout",
     "output_type": "stream",
     "text": [
      "Bark!!\n"
     ]
    }
   ],
   "source": [
    "my_dog = Dog(\"레오\", 10, \"허스키\")\n",
    "my_dog.speak()"
   ]
  },
  {
   "cell_type": "code",
   "execution_count": null,
   "metadata": {},
   "outputs": [],
   "source": []
  }
 ],
 "metadata": {
  "kernelspec": {
   "display_name": "base",
   "language": "python",
   "name": "python3"
  },
  "language_info": {
   "codemirror_mode": {
    "name": "ipython",
    "version": 3
   },
   "file_extension": ".py",
   "mimetype": "text/x-python",
   "name": "python",
   "nbconvert_exporter": "python",
   "pygments_lexer": "ipython3",
   "version": "3.9.13"
  },
  "orig_nbformat": 4,
  "vscode": {
   "interpreter": {
    "hash": "40d3a090f54c6569ab1632332b64b2c03c39dcf918b08424e98f38b5ae0af88f"
   }
  }
 },
 "nbformat": 4,
 "nbformat_minor": 2
}
