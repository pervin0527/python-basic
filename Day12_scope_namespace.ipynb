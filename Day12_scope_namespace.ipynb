{
 "cells": [
  {
   "attachments": {},
   "cell_type": "markdown",
   "metadata": {},
   "source": [
    "## Scope와 Namespace\n",
    "\n",
    "scope는 유효 범위를 말한다.  \n",
    "local scope(지역 범위)는 해당 함수 내에서만 변수가 접근 및 사용이 가능함을 뜻함.\n",
    "global scope(전역 범위)는 반대로 어디서나 변수에 접근이 가능하다.  \n",
    "global, local scope의 개념은 변수에만 한정하여 적용되지 않는다. 함수 및 기타 다른 것에도 적용이 가능하다.  \n",
    "이러한 개념을 Namespace라고 한다.  \n",
    "\n",
    "개발자가 이름을 지정한 모든 대상에 namespace가 있는데, 그 namespace는 특정 범위 내에서 유효하다."
   ]
  },
  {
   "cell_type": "code",
   "execution_count": 1,
   "metadata": {},
   "outputs": [
    {
     "name": "stdout",
     "output_type": "stream",
     "text": [
      "enemies inside function: 2\n",
      "enemies outside function: 1\n"
     ]
    }
   ],
   "source": [
    "enemies = 1\n",
    "\n",
    "def increase_enemies():\n",
    "    enemies = 2\n",
    "    print(f\"enemies inside function: {enemies}\")\n",
    "\n",
    "increase_enemies()\n",
    "print(f\"enemies outside function: {enemies}\")"
   ]
  },
  {
   "attachments": {},
   "cell_type": "markdown",
   "metadata": {},
   "source": [
    "Python에는 block scope가 존재하지 않음."
   ]
  },
  {
   "cell_type": "code",
   "execution_count": 3,
   "metadata": {},
   "outputs": [
    {
     "name": "stdout",
     "output_type": "stream",
     "text": [
      "skeleton\n"
     ]
    }
   ],
   "source": [
    "game_level = 3\n",
    "enemies = [\"skeleton\", 'zombie', 'alien']\n",
    "\n",
    "if game_level < 5:\n",
    "    new_enemies = enemies[0] ## if문 내에서 만든 신규 변수.\n",
    "\n",
    "print(new_enemies) ## Block scope가 존재하지 않기 때문에 if문 밖에서도 접근이 가능하다."
   ]
  },
  {
   "attachments": {},
   "cell_type": "markdown",
   "metadata": {},
   "source": [
    "만약 local scope 내에서 global scope의 값을 변경하고자 할 때는 global을 사용한다."
   ]
  },
  {
   "cell_type": "code",
   "execution_count": 2,
   "metadata": {},
   "outputs": [
    {
     "name": "stdout",
     "output_type": "stream",
     "text": [
      "enemies outside function: 1\n"
     ]
    }
   ],
   "source": [
    "enemies = 1\n",
    "\n",
    "def increase_enemies():\n",
    "    global enemies\n",
    "    # enemies += 10\n",
    "    # print(f\"enemies inside funtion: {enemies}\") \n",
    "    return enemies + 10 ## 만약 전역변수의 값을 변경하고 싶지 않다면 return을 이용\n",
    "\n",
    "increase_enemies()\n",
    "print(f\"enemies outside function: {enemies}\")"
   ]
  },
  {
   "cell_type": "code",
   "execution_count": null,
   "metadata": {},
   "outputs": [],
   "source": []
  }
 ],
 "metadata": {
  "kernelspec": {
   "display_name": "base",
   "language": "python",
   "name": "python3"
  },
  "language_info": {
   "codemirror_mode": {
    "name": "ipython",
    "version": 3
   },
   "file_extension": ".py",
   "mimetype": "text/x-python",
   "name": "python",
   "nbconvert_exporter": "python",
   "pygments_lexer": "ipython3",
   "version": "3.9.7"
  },
  "orig_nbformat": 4,
  "vscode": {
   "interpreter": {
    "hash": "ed9700ab81b7297e6986a97a9b8454b96a302622dbd1fe5603b4cfb37e904a7d"
   }
  }
 },
 "nbformat": 4,
 "nbformat_minor": 2
}
