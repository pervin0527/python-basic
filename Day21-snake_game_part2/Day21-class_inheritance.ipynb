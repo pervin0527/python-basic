{
 "cells": [
  {
   "attachments": {},
   "cell_type": "markdown",
   "metadata": {},
   "source": [
    "## class inheritance\n",
    "\n",
    "상속은 부모클래스(super class)의 속성(attribute)과 함수(method)를 물려 받는 것으로,  \n",
    "자식클래스(sub class)가 상속 받게 되면, 부모클래스의 속성과 함수를 자식클래스에서 사용할 수 있다.\n"
   ]
  },
  {
   "cell_type": "code",
   "execution_count": 5,
   "metadata": {},
   "outputs": [],
   "source": [
    "class Animal:\n",
    "    def __init__(self):\n",
    "        self.num_eyes = 2\n",
    "    \n",
    "    def breathe(self):\n",
    "        print(\"Inhale, exhale\")"
   ]
  },
  {
   "cell_type": "code",
   "execution_count": 9,
   "metadata": {},
   "outputs": [],
   "source": [
    "class Fish(Animal): ## Animal class를 상속 받는다.\n",
    "    def __init__(self):\n",
    "        super().__init__() ## 생성자에서 super를 호출하는 것을 추천하나 필수는 아니다.\n",
    "\n",
    "    def breathe(self):\n",
    "        super().breathe() ## 부모 클래스의 breathe() 메서드를 확장한다.\n",
    "        print(\"doing this underwater\")\n",
    "\n",
    "    def swim(self):\n",
    "        print(\"moving in water.\")"
   ]
  },
  {
   "cell_type": "code",
   "execution_count": 10,
   "metadata": {},
   "outputs": [
    {
     "name": "stdout",
     "output_type": "stream",
     "text": [
      "moving in water.\n",
      "Inhale, exhale\n",
      "doing this underwater\n",
      "2\n"
     ]
    }
   ],
   "source": [
    "nemo = Fish()\n",
    "nemo.swim()\n",
    "nemo.breathe()\n",
    "print(nemo.num_eyes)"
   ]
  },
  {
   "cell_type": "code",
   "execution_count": 28,
   "metadata": {},
   "outputs": [],
   "source": [
    "## p1 = Person()\n",
    "## p1은 객체이다. 그리고 p1 객체는 Person 클래스의 인스턴스이다.\n",
    "\n",
    "class Person:\n",
    "    total_count = 0 ## class variable : 모든 인스턴스들이 공유하는 변수.\n",
    "\n",
    "    def __init__(self, name, age):\n",
    "        self.name = name ## instance variable : 각각의 인스턴스들이 가지고 있는 개별적 변수.\n",
    "        self.age = age\n",
    "        Person.total_count += 1\n",
    "\n",
    "    def introduce(self):\n",
    "        print(f\"my name is {self.name}. i am {self.age} years old.\")"
   ]
  },
  {
   "cell_type": "code",
   "execution_count": 29,
   "metadata": {},
   "outputs": [],
   "source": [
    "class Student(Person):\n",
    "    def __init__(self, name, age):\n",
    "        super().__init__(name, age) ## 부모 클래스의 생성자 메서드 호출\n",
    "\n",
    "    def introduce(self): ## 메서드 재정의.\n",
    "        print(\"Hello. i'm student \")"
   ]
  },
  {
   "cell_type": "code",
   "execution_count": 30,
   "metadata": {},
   "outputs": [
    {
     "name": "stdout",
     "output_type": "stream",
     "text": [
      "Hello. i'm student \n"
     ]
    }
   ],
   "source": [
    "student1 = Student(name=\"jun\", age=10)\n",
    "student1.introduce()"
   ]
  },
  {
   "cell_type": "code",
   "execution_count": null,
   "metadata": {},
   "outputs": [],
   "source": []
  }
 ],
 "metadata": {
  "kernelspec": {
   "display_name": "Python 3",
   "language": "python",
   "name": "python3"
  },
  "language_info": {
   "codemirror_mode": {
    "name": "ipython",
    "version": 3
   },
   "file_extension": ".py",
   "mimetype": "text/x-python",
   "name": "python",
   "nbconvert_exporter": "python",
   "pygments_lexer": "ipython3",
   "version": "3.9.6"
  },
  "orig_nbformat": 4,
  "vscode": {
   "interpreter": {
    "hash": "31f2aee4e71d21fbe5cf8b01ff0e069b9275f58929596ceb00d14d90e3e16cd6"
   }
  }
 },
 "nbformat": 4,
 "nbformat_minor": 2
}
