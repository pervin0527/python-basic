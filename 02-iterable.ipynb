{
 "cells": [
  {
   "attachments": {},
   "cell_type": "markdown",
   "metadata": {},
   "source": [
    "## Collection type, Sequence type\n",
    "- collection : list, tuple, set, dict와 같이 여러 개의 요소를 갖는 데이터 타입.\n",
    "- sequence : list, tuple, range, str 등과 같이 순서가 존재하는 타입."
   ]
  },
  {
   "attachments": {},
   "cell_type": "markdown",
   "metadata": {},
   "source": [
    "## iterable, iterator"
   ]
  },
  {
   "attachments": {},
   "cell_type": "markdown",
   "metadata": {},
   "source": [
    "### Iterable\n",
    "- iterable은 여러 항목을 한 번에 한 항목씩 접근하여 첫 항목부터 끝 항목까지 관통할 수 있는 객체를 의미한다.  \n",
    "- 쉽게 생각하면 순회할 수 있는 모든 객체를 의미하고, list, tuple, set, dict, string이 대표적인 iterable이다.\n",
    "- 객체가 iterable이 되기 위해 \\_\\_iter\\_\\_ 메서드는 반드시 객체를 반환해야한다.\n",
    "- 즉, iterable한 객체가 되기 위해서는 \\_\\_iter\\_\\_ 메서드가 존재해야 한다.\n",
    "\n",
    "### Iterator\n",
    "- Iterator는 컬렉션 객체를 관통하는데 사용된다. \n",
    "- 즉, 순서대로 다음 값을 반환할 수 있는 객체를 의미한다. 자체적으로 내장하고 있는 next 메서드를 통해 다음 값을 가져올 수 있다.\n",
    "- iterator는 \\_\\_iter\\_\\_가 반드시 반환해야 하는 객체다.  \n",
    "- 이 iterator는 \\_\\_next\\_\\_ 메서드가 반환해야 하는 객체이며, 동일한 클래스이거나 이 목적만을 위해 작성된 별도 클래스일 수도 있다.  \n",
    "- \\_\\_next\\_\\_ 메서드는 아무 작업을 하지 않더라도 구현되어야 한다.\n",
    "\n",
    "iterable은 \\_\\_next\\_\\_ 메서드가 존재하지 않고 iterator는 존재한다. 따라서 next 메서드로 다음 값을 반환할 수 있으면 iterator, 없으면 iterable 객체다."
   ]
  },
  {
   "cell_type": "code",
   "execution_count": 15,
   "metadata": {},
   "outputs": [
    {
     "name": "stdout",
     "output_type": "stream",
     "text": [
      "iterable methods \n",
      " ['__add__', '__class__', '__class_getitem__', '__contains__', '__delattr__', '__delitem__', '__dir__', '__doc__', '__eq__', '__format__', '__ge__', '__getattribute__', '__getitem__', '__gt__', '__hash__', '__iadd__', '__imul__', '__init__', '__init_subclass__', '__iter__', '__le__', '__len__', '__lt__', '__mul__', '__ne__', '__new__', '__reduce__', '__reduce_ex__', '__repr__', '__reversed__', '__rmul__', '__setattr__', '__setitem__', '__sizeof__', '__str__', '__subclasshook__', 'append', 'clear', 'copy', 'count', 'extend', 'index', 'insert', 'pop', 'remove', 'reverse', 'sort'] \n",
      "\n",
      "iterator methods \n",
      " ['__class__', '__delattr__', '__dir__', '__doc__', '__eq__', '__format__', '__ge__', '__getattribute__', '__gt__', '__hash__', '__init__', '__init_subclass__', '__iter__', '__le__', '__length_hint__', '__lt__', '__ne__', '__new__', '__next__', '__reduce__', '__reduce_ex__', '__repr__', '__setattr__', '__setstate__', '__sizeof__', '__str__', '__subclasshook__'] \n",
      "\n",
      "1\n"
     ]
    }
   ],
   "source": [
    "a = [1, 2, 3, 4] ## iterable object\n",
    "print(f\"iterable methods \\n {dir(a)} \\n\")\n",
    "\n",
    "a_iterator = a.__iter__() ## list는 iterable 객체이므로 __iter__ 메서드가 존재.\n",
    "print(f\"iterator methods \\n {dir(a_iterator)} \\n\") ## iterator로 만들어주고 나면, __next__ 메서드가 존재한다. 즉, 원소를 하나씩 반환 가능.\n",
    "print(a_iterator.__next__())\n",
    "\n",
    "# a = iter(a) # Get an iterator from an object. \n",
    "# print(a.__next__())"
   ]
  },
  {
   "cell_type": "code",
   "execution_count": 28,
   "metadata": {},
   "outputs": [
    {
     "name": "stdout",
     "output_type": "stream",
     "text": [
      "['__class__', '__class_getitem__', '__contains__', '__delattr__', '__delitem__', '__dir__', '__doc__', '__eq__', '__format__', '__ge__', '__getattribute__', '__getitem__', '__gt__', '__hash__', '__init__', '__init_subclass__', '__ior__', '__iter__', '__le__', '__len__', '__lt__', '__ne__', '__new__', '__or__', '__reduce__', '__reduce_ex__', '__repr__', '__reversed__', '__ror__', '__setattr__', '__setitem__', '__sizeof__', '__str__', '__subclasshook__', 'clear', 'copy', 'fromkeys', 'get', 'items', 'keys', 'pop', 'popitem', 'setdefault', 'update', 'values']\n",
      "['__add__', '__class__', '__contains__', '__delattr__', '__dir__', '__doc__', '__eq__', '__format__', '__ge__', '__getattribute__', '__getitem__', '__getnewargs__', '__gt__', '__hash__', '__init__', '__init_subclass__', '__iter__', '__le__', '__len__', '__lt__', '__mod__', '__mul__', '__ne__', '__new__', '__reduce__', '__reduce_ex__', '__repr__', '__rmod__', '__rmul__', '__setattr__', '__sizeof__', '__str__', '__subclasshook__', 'capitalize', 'casefold', 'center', 'count', 'encode', 'endswith', 'expandtabs', 'find', 'format', 'format_map', 'index', 'isalnum', 'isalpha', 'isascii', 'isdecimal', 'isdigit', 'isidentifier', 'islower', 'isnumeric', 'isprintable', 'isspace', 'istitle', 'isupper', 'join', 'ljust', 'lower', 'lstrip', 'maketrans', 'partition', 'removeprefix', 'removesuffix', 'replace', 'rfind', 'rindex', 'rjust', 'rpartition', 'rsplit', 'rstrip', 'split', 'splitlines', 'startswith', 'strip', 'swapcase', 'title', 'translate', 'upper', 'zfill']\n"
     ]
    }
   ],
   "source": [
    "print(dir(dict))\n",
    "print(dir(str))"
   ]
  },
  {
   "attachments": {},
   "cell_type": "markdown",
   "metadata": {},
   "source": [
    "따라서 다음과 같은 선택지가 존재한다.\n",
    "1. iterable 객체가 내장된 iter 메서드를 통해 스스로를 iterator 객체로 만든다. 가장 쉬운 방법이나, 다른 부분에서 순회 작업을 제어해야한다.\n",
    "2. 클래스가 자체적으로 iter 메서드와 next 메서드를 모두 구현한다. 이 경우 iter 메서드는 이터레이션 세팅을 초기화하며, self를 반환한다. 반면 이방법으로는 한 번에 한 루프 이상 순회할 수 없다."
   ]
  },
  {
   "cell_type": "code",
   "execution_count": 18,
   "metadata": {},
   "outputs": [
    {
     "name": "stdout",
     "output_type": "stream",
     "text": [
      "<class '__main__.Car'>\n"
     ]
    },
    {
     "ename": "TypeError",
     "evalue": "'Car' object is not iterable",
     "output_type": "error",
     "traceback": [
      "\u001b[0;31m---------------------------------------------------------------------------\u001b[0m",
      "\u001b[0;31mTypeError\u001b[0m                                 Traceback (most recent call last)",
      "\u001b[0;32m/var/folders/h2/dxdwtry542514hp51hkrx__h0000gn/T/ipykernel_45695/2006076108.py\u001b[0m in \u001b[0;36m<module>\u001b[0;34m\u001b[0m\n\u001b[1;32m     15\u001b[0m         \u001b[0mprint\u001b[0m\u001b[0;34m(\u001b[0m\u001b[0mi\u001b[0m\u001b[0;34m,\u001b[0m \u001b[0mend\u001b[0m\u001b[0;34m=\u001b[0m\u001b[0;34m\" \"\u001b[0m\u001b[0;34m)\u001b[0m\u001b[0;34m\u001b[0m\u001b[0;34m\u001b[0m\u001b[0m\n\u001b[1;32m     16\u001b[0m \u001b[0;34m\u001b[0m\u001b[0m\n\u001b[0;32m---> 17\u001b[0;31m \u001b[0mmain\u001b[0m\u001b[0;34m(\u001b[0m\u001b[0;34m)\u001b[0m\u001b[0;34m\u001b[0m\u001b[0;34m\u001b[0m\u001b[0m\n\u001b[0m",
      "\u001b[0;32m/var/folders/h2/dxdwtry542514hp51hkrx__h0000gn/T/ipykernel_45695/2006076108.py\u001b[0m in \u001b[0;36mmain\u001b[0;34m()\u001b[0m\n\u001b[1;32m     12\u001b[0m     \u001b[0mmy_car\u001b[0m \u001b[0;34m=\u001b[0m \u001b[0mCar\u001b[0m\u001b[0;34m(\u001b[0m\u001b[0;34m\"34나5678\"\u001b[0m\u001b[0;34m)\u001b[0m\u001b[0;34m\u001b[0m\u001b[0;34m\u001b[0m\u001b[0m\n\u001b[1;32m     13\u001b[0m     \u001b[0mprint\u001b[0m\u001b[0;34m(\u001b[0m\u001b[0mtype\u001b[0m\u001b[0;34m(\u001b[0m\u001b[0mmy_car\u001b[0m\u001b[0;34m)\u001b[0m\u001b[0;34m)\u001b[0m\u001b[0;34m\u001b[0m\u001b[0;34m\u001b[0m\u001b[0m\n\u001b[0;32m---> 14\u001b[0;31m     \u001b[0;32mfor\u001b[0m \u001b[0mi\u001b[0m \u001b[0;32min\u001b[0m \u001b[0mmy_car\u001b[0m\u001b[0;34m:\u001b[0m\u001b[0;34m\u001b[0m\u001b[0;34m\u001b[0m\u001b[0m\n\u001b[0m\u001b[1;32m     15\u001b[0m         \u001b[0mprint\u001b[0m\u001b[0;34m(\u001b[0m\u001b[0mi\u001b[0m\u001b[0;34m,\u001b[0m \u001b[0mend\u001b[0m\u001b[0;34m=\u001b[0m\u001b[0;34m\" \"\u001b[0m\u001b[0;34m)\u001b[0m\u001b[0;34m\u001b[0m\u001b[0;34m\u001b[0m\u001b[0m\n\u001b[1;32m     16\u001b[0m \u001b[0;34m\u001b[0m\u001b[0m\n",
      "\u001b[0;31mTypeError\u001b[0m: 'Car' object is not iterable"
     ]
    }
   ],
   "source": [
    "class Car:\n",
    "    def __init__(self, id):\n",
    "        self.id = id\n",
    "\n",
    "    def __len__(self):\n",
    "        return len(self.id)\n",
    "\n",
    "    def __call__(self):\n",
    "        print(\"__call__ function.\")\n",
    "\n",
    "def main():\n",
    "    my_car = Car(\"34나5678\")\n",
    "    print(type(my_car))\n",
    "    for i in my_car: ## for문 내에서 iterable을 iterator로 만드는 것은 아닌 것 같다.\n",
    "        print(i, end=\" \")\n",
    "\n",
    "main()"
   ]
  },
  {
   "cell_type": "code",
   "execution_count": 22,
   "metadata": {},
   "outputs": [
    {
     "ename": "TypeError",
     "evalue": "'Car' object is not iterable",
     "output_type": "error",
     "traceback": [
      "\u001b[0;31m---------------------------------------------------------------------------\u001b[0m",
      "\u001b[0;31mTypeError\u001b[0m                                 Traceback (most recent call last)",
      "\u001b[0;32m/var/folders/h2/dxdwtry542514hp51hkrx__h0000gn/T/ipykernel_45695/2564959138.py\u001b[0m in \u001b[0;36m<module>\u001b[0;34m\u001b[0m\n\u001b[1;32m     16\u001b[0m         \u001b[0mprint\u001b[0m\u001b[0;34m(\u001b[0m\u001b[0mi\u001b[0m\u001b[0;34m,\u001b[0m \u001b[0mend\u001b[0m\u001b[0;34m=\u001b[0m\u001b[0;34m\" \"\u001b[0m\u001b[0;34m)\u001b[0m\u001b[0;34m\u001b[0m\u001b[0;34m\u001b[0m\u001b[0m\n\u001b[1;32m     17\u001b[0m \u001b[0;34m\u001b[0m\u001b[0m\n\u001b[0;32m---> 18\u001b[0;31m \u001b[0mmain\u001b[0m\u001b[0;34m(\u001b[0m\u001b[0;34m)\u001b[0m\u001b[0;34m\u001b[0m\u001b[0;34m\u001b[0m\u001b[0m\n\u001b[0m",
      "\u001b[0;32m/var/folders/h2/dxdwtry542514hp51hkrx__h0000gn/T/ipykernel_45695/2564959138.py\u001b[0m in \u001b[0;36mmain\u001b[0;34m()\u001b[0m\n\u001b[1;32m     11\u001b[0m \u001b[0;32mdef\u001b[0m \u001b[0mmain\u001b[0m\u001b[0;34m(\u001b[0m\u001b[0;34m)\u001b[0m\u001b[0;34m:\u001b[0m\u001b[0;34m\u001b[0m\u001b[0;34m\u001b[0m\u001b[0m\n\u001b[1;32m     12\u001b[0m     \u001b[0mmy_car\u001b[0m \u001b[0;34m=\u001b[0m \u001b[0mCar\u001b[0m\u001b[0;34m(\u001b[0m\u001b[0;34m\"34나5678\"\u001b[0m\u001b[0;34m)\u001b[0m\u001b[0;34m\u001b[0m\u001b[0;34m\u001b[0m\u001b[0m\n\u001b[0;32m---> 13\u001b[0;31m     \u001b[0mmy_car_iterator\u001b[0m \u001b[0;34m=\u001b[0m \u001b[0miter\u001b[0m\u001b[0;34m(\u001b[0m\u001b[0mmy_car\u001b[0m\u001b[0;34m)\u001b[0m\u001b[0;34m\u001b[0m\u001b[0;34m\u001b[0m\u001b[0m\n\u001b[0m\u001b[1;32m     14\u001b[0m     \u001b[0mprint\u001b[0m\u001b[0;34m(\u001b[0m\u001b[0mtype\u001b[0m\u001b[0;34m(\u001b[0m\u001b[0mmy_car_iterator\u001b[0m\u001b[0;34m)\u001b[0m\u001b[0;34m)\u001b[0m\u001b[0;34m\u001b[0m\u001b[0;34m\u001b[0m\u001b[0m\n\u001b[1;32m     15\u001b[0m     \u001b[0;32mfor\u001b[0m \u001b[0mi\u001b[0m \u001b[0;32min\u001b[0m \u001b[0mmy_car_iterator\u001b[0m\u001b[0;34m:\u001b[0m\u001b[0;34m\u001b[0m\u001b[0;34m\u001b[0m\u001b[0m\n",
      "\u001b[0;31mTypeError\u001b[0m: 'Car' object is not iterable"
     ]
    }
   ],
   "source": [
    "class Car:\n",
    "    def __init__(self, id):\n",
    "        self.id = id\n",
    "\n",
    "    def __len__(self):\n",
    "        return len(self.id)\n",
    "\n",
    "    def __call__(self):\n",
    "        print(\"__call__ function.\")\n",
    "\n",
    "def main():\n",
    "    my_car = Car(\"34나5678\")\n",
    "    my_car_iterator = iter(my_car) ## iter 함수를 통해 iterable을 iterator로 만들려고 했으나 실패\n",
    "    print(type(my_car_iterator))\n",
    "    for i in my_car_iterator:\n",
    "        print(i, end=\" \")\n",
    "\n",
    "main()"
   ]
  },
  {
   "cell_type": "code",
   "execution_count": 19,
   "metadata": {},
   "outputs": [
    {
     "name": "stdout",
     "output_type": "stream",
     "text": [
      "<class '__main__.Car'>\n",
      "called\n",
      "3 4 나 5 6 7 8 "
     ]
    }
   ],
   "source": [
    "class Car:\n",
    "    def __init__(self, id):\n",
    "        self.id = id\n",
    "\n",
    "    def __len__(self):\n",
    "        return len(self.id)\n",
    "\n",
    "    def __call__(self):\n",
    "        print(\"__call__ function.\")\n",
    "\n",
    "    def __iter__(self):\n",
    "        print(\"called\")\n",
    "        return iter(self.id) ## iter 함수로 id의 iterator 객체를 반환.\n",
    "\n",
    "def main():\n",
    "    my_car = Car(\"34나5678\")\n",
    "    print(type(my_car))\n",
    "    for i in my_car:\n",
    "        print(i, end=\" \")\n",
    "\n",
    "main()"
   ]
  },
  {
   "cell_type": "code",
   "execution_count": 26,
   "metadata": {},
   "outputs": [
    {
     "name": "stdout",
     "output_type": "stream",
     "text": [
      "1\n",
      "2\n",
      "3\n"
     ]
    }
   ],
   "source": [
    "class Test:\n",
    "    def __init__(self, values):\n",
    "        self.values = values\n",
    "        self.count = 0\n",
    "\n",
    "    def __iter__(self):\n",
    "        self.count = 0\n",
    "        return self\n",
    "\n",
    "    def __next__(self):\n",
    "        if len(self.values) > self.count:\n",
    "            self.count += 1\n",
    "            return self.values[self.count - 1]\n",
    "        else:\n",
    "            raise StopIteration\n",
    "\n",
    "test = Test([1,2,3])\n",
    "for t in test:\n",
    "    print(t)"
   ]
  },
  {
   "cell_type": "markdown",
   "metadata": {},
   "source": []
  }
 ],
 "metadata": {
  "kernelspec": {
   "display_name": "base",
   "language": "python",
   "name": "python3"
  },
  "language_info": {
   "codemirror_mode": {
    "name": "ipython",
    "version": 3
   },
   "file_extension": ".py",
   "mimetype": "text/x-python",
   "name": "python",
   "nbconvert_exporter": "python",
   "pygments_lexer": "ipython3",
   "version": "3.9.13"
  },
  "orig_nbformat": 4,
  "vscode": {
   "interpreter": {
    "hash": "40d3a090f54c6569ab1632332b64b2c03c39dcf918b08424e98f38b5ae0af88f"
   }
  }
 },
 "nbformat": 4,
 "nbformat_minor": 2
}
