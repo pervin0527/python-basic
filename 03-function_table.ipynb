{
 "cells": [
  {
   "attachments": {},
   "cell_type": "markdown",
   "metadata": {},
   "source": [
    "# Function table\n",
    "파이썬에는 switch문이 없기 때문에 자칫 많은 조건문을 연이어 사용할 수 있다.  \n",
    "함수 역시 객체이며 다른 객체처럼 리스트의 항목으로 집어넣을 수 있다. 그러면 함수 참조를 리스트 또는 딕셔너리에서 추출하여 호출이 가능하다."
   ]
  },
  {
   "cell_type": "code",
   "execution_count": 1,
   "metadata": {},
   "outputs": [],
   "source": [
    "def add(a, b):\n",
    "    return a + b\n",
    "\n",
    "def sub(a, b):\n",
    "    return a - b\n",
    "\n",
    "def mul(a, b):\n",
    "    return a * b\n",
    "\n",
    "def div(a, b):\n",
    "    return a / b"
   ]
  },
  {
   "cell_type": "code",
   "execution_count": 2,
   "metadata": {},
   "outputs": [
    {
     "name": "stdout",
     "output_type": "stream",
     "text": [
      "20 7 9 3.0\n"
     ]
    }
   ],
   "source": [
    "operate_list = [add, sub, mul, div]\n",
    "add_result = operate_list[0](10, 10)\n",
    "sub_result = operate_list[1](100, 93)\n",
    "mul_result = operate_list[2](3, 3)\n",
    "div_result = operate_list[3](6, 2)\n",
    "\n",
    "print(add_result, sub_result, mul_result, div_result)"
   ]
  },
  {
   "cell_type": "code",
   "execution_count": 3,
   "metadata": {},
   "outputs": [
    {
     "name": "stdout",
     "output_type": "stream",
     "text": [
      "100\n"
     ]
    }
   ],
   "source": [
    "operate_dict = {\"add\":add, \"sub\":sub, \"mul\":mul, \"div\":div}\n",
    "add_result = operate_dict[\"add\"](10, 90)\n",
    "print(add_result)"
   ]
  }
 ],
 "metadata": {
  "kernelspec": {
   "display_name": "base",
   "language": "python",
   "name": "python3"
  },
  "language_info": {
   "codemirror_mode": {
    "name": "ipython",
    "version": 3
   },
   "file_extension": ".py",
   "mimetype": "text/x-python",
   "name": "python",
   "nbconvert_exporter": "python",
   "pygments_lexer": "ipython3",
   "version": "3.9.13"
  },
  "orig_nbformat": 4,
  "vscode": {
   "interpreter": {
    "hash": "40d3a090f54c6569ab1632332b64b2c03c39dcf918b08424e98f38b5ae0af88f"
   }
  }
 },
 "nbformat": 4,
 "nbformat_minor": 2
}
