{
 "cells": [
  {
   "attachments": {},
   "cell_type": "markdown",
   "metadata": {},
   "source": [
    "# pass\n",
    "파이썬에서 pass 키워드는 일부 코드가 구문상 필요하지만 내용으로는 어떠한 작업도 하지 않기를 원할 때 사용한다.  \n",
    "예를 들어 아래와 같이 class를 선언하지만, 내부 동작은 원하지 않고 코드의 틀만 작성하기 위해 사용."
   ]
  },
  {
   "cell_type": "code",
   "execution_count": 1,
   "metadata": {},
   "outputs": [],
   "source": [
    "class TestClass:\n",
    "    pass"
   ]
  },
  {
   "attachments": {},
   "cell_type": "markdown",
   "metadata": {},
   "source": [
    "# class\n",
    "- 클래스를 사용하는 이유는 instance라고 부르는 클래스의 실체를 원하는만큼 생성하기 위함이다.\n",
    "- class variable은 해당 클래스를 기반으로 생성된 instance들이 가지는 변수.\n",
    "- 만들어진 객체가 가진 변수에는 해당 인스턴스만을 위한 값을 대입할 수 있다. instance variable."
   ]
  },
  {
   "cell_type": "code",
   "execution_count": 3,
   "metadata": {},
   "outputs": [
    {
     "name": "stdout",
     "output_type": "stream",
     "text": [
      "UNKNOWN UNKNOWN\n",
      "minjun UNKNOWN\n"
     ]
    }
   ],
   "source": [
    "class Person:\n",
    "    name = \"UNKNOWN\"\n",
    "    age = 0\n",
    "\n",
    "p1 = Person()\n",
    "p2 = Person()\n",
    "\n",
    "print(p1.name, p2.name)\n",
    "p1.name = \"minjun\" ## 클래스 변수가 이 시점에 p1객체만을 위한 instance 변수로 변경.\n",
    "print(p1.name, p2.name) ## p2객체와는 관련이 없음."
   ]
  },
  {
   "attachments": {},
   "cell_type": "markdown",
   "metadata": {},
   "source": [
    "# \\_\\_init\\_\\_\n",
    "파이썬의 인스턴스 변수는 클래스 안에서 직접 생성되지 않는다. 대신 필요할 때마다 바로 생성하거나, \\_\\_init\\_\\_ 메서드 안에서 생성된다.  \n",
    "예를 들어 정의한 Person 클래스로 생성한 인스턴스에 여러 속성(attribute)을 추가하며 이 속성들이 인스턴스 변수가 된다."
   ]
  },
  {
   "cell_type": "code",
   "execution_count": 4,
   "metadata": {},
   "outputs": [
    {
     "name": "stdout",
     "output_type": "stream",
     "text": [
      "Hello, my name is Peter. i'm 18.\n"
     ]
    }
   ],
   "source": [
    "class Person:\n",
    "    pass\n",
    "\n",
    "unknown_person1 = Person()\n",
    "unknown_person1.name = \"Peter\"\n",
    "unknown_person1.age = \"18\"\n",
    "## 이 속성들은 unknown_person1 객체만의 속성들이다.\n",
    "\n",
    "print(f\"Hello, my name is {unknown_person1.name}. i'm {unknown_person1.age}.\")"
   ]
  },
  {
   "attachments": {},
   "cell_type": "markdown",
   "metadata": {},
   "source": [
    "- 생성자 메서드는 객체가 생성될 때 자동으로 호출된다.\n",
    "- 클래스의 모든 인스턴스가 동일한 공통 변수들을 가지면서 인스턴스별로 독립적인 값을 지닐 수 있게 만든다.\n",
    "- self 키워드는 필수로 사용해야하는 것은 아니다. 생성된 객체를 참조하기 위해 첫번째 인수로 배치된다.\n",
    "- 어떤 이름이라도 상관없지만 보편적으로 self를 사용."
   ]
  },
  {
   "cell_type": "code",
   "execution_count": 5,
   "metadata": {},
   "outputs": [
    {
     "name": "stdout",
     "output_type": "stream",
     "text": [
      "minjun 30 football\n"
     ]
    }
   ],
   "source": [
    "class Person:\n",
    "    def __init__(self, name, age, hobby):\n",
    "        self.name = name\n",
    "        self.age = age\n",
    "        self.hobby = hobby\n",
    "\n",
    "person1 = Person(name=\"minjun\", age=30, hobby=\"football\")\n",
    "print(person1.name, person1.age, person1.hobby)\n"
   ]
  },
  {
   "attachments": {},
   "cell_type": "markdown",
   "metadata": {},
   "source": [
    "# Method\n",
    "메서드는 여러 측면에서 기본적인 함수와 구분된다.  \n",
    "1. 메서드는 클래스 정의문 안에서 정의된다.\n",
    "2. 메서드는 항상 인스턴스를 통해 호출되며, 숨겨진 인수가 전달된다. 해당 객체의 참조인 self.\n",
    "\n",
    "즉, 메서드 정의문에는 첫번째 인수인 self가 있는 반면, 메서드 호출 시에는 존재하지 않는다.(함수 호출보다 정의문에 인수가 하나 더 많다.)  \n",
    "메서드 안에서 메서드가 속한 인스턴스 자체는 항상 self로 참조할 수 있음을 기억하자.\n"
   ]
  },
  {
   "cell_type": "code",
   "execution_count": 6,
   "metadata": {},
   "outputs": [
    {
     "name": "stdout",
     "output_type": "stream",
     "text": [
      "Hello!! my name is minjun. i'm 18 and my hobby is Basketball.\n"
     ]
    }
   ],
   "source": [
    "class Person:\n",
    "    def __init__(self, name, age, hobby):\n",
    "        self.name = name\n",
    "        self.age = age\n",
    "        self.hobby = hobby\n",
    "\n",
    "    def introduce(self):\n",
    "        sentence = f\"Hello!! my name is {self.name}. i'm {self.age} and my hobby is {self.hobby}.\"\n",
    "        print(sentence)\n",
    "\n",
    "person1 = Person(\"minjun\", 18, \"Basketball\")\n",
    "person1.introduce() ## 클래스의 메서드 호출"
   ]
  },
  {
   "attachments": {},
   "cell_type": "markdown",
   "metadata": {},
   "source": [
    "# 상속\n",
    "파이썬은 하위 클래스 만들기(subclassing)로 상속을 지원한다.  \n",
    "가령 상위 클래스의 인스턴스가 할 수 있는 모든 것을 하면서 더 많은 기능을 추가한 하위 클래스를 만들고 싶을 때 사용한다."
   ]
  },
  {
   "cell_type": "code",
   "execution_count": 11,
   "metadata": {},
   "outputs": [],
   "source": [
    "class Person:\n",
    "    def __init__(self, name, age, hobby):\n",
    "        self.name = name\n",
    "        self.age = age\n",
    "        self.hobby = hobby\n",
    "\n",
    "    def sentence(self):\n",
    "        print(f\"Hello, my name is {self.name}.\")\n",
    "\n",
    "    def introduce(self):\n",
    "        self.sentence()\n",
    "\n",
    "class Programmer(Person):\n",
    "    def sentence(self): ## Method Override. 부모 클래스에서 정의한 기능을 사용할 수 없다.\n",
    "        print(\"I am a python developer.\")\n"
   ]
  },
  {
   "attachments": {},
   "cell_type": "markdown",
   "metadata": {},
   "source": [
    "이렇게 만들어진 클래스는 상위 클래스의 모든 클래스 변수와 메서드들을 상속받게 된다.  \n",
    "또한 신규 변수와 메서드를 추가할 수도 있으며, 기존 정의문을 재정의할 수도 있다.\n",
    "\n",
    "주의할 점은 method override를 활용하면 부모클래스에서 정의한 메서드의 기능을 자식 클래스에서 사용이 불가능하다."
   ]
  },
  {
   "cell_type": "code",
   "execution_count": 12,
   "metadata": {},
   "outputs": [
    {
     "name": "stdout",
     "output_type": "stream",
     "text": [
      "I am a python developer.\n"
     ]
    }
   ],
   "source": [
    "programmer1 = Programmer(name=\"minjun\", age=20, hobby=\"read a book\") ## Programmer 클래스는 init 메서드가 없음에도 Person 클래스 상속으로 인해 사용가능.\n",
    "programmer1.introduce() ## Person클래스의 introduce()메서드를 호출. 이때 sentence() 메서드는 Programmer에 정의된 메서드로 호출.\n"
   ]
  },
  {
   "attachments": {},
   "cell_type": "markdown",
   "metadata": {},
   "source": [
    "# super()\n",
    "super() 함수를 사용하면 부모 클래스 내 메서드를 자식 클래스에서 이용하면서 필요한 부분만 재정의하여 사용할 수 있게 한다."
   ]
  },
  {
   "cell_type": "code",
   "execution_count": 15,
   "metadata": {},
   "outputs": [
    {
     "name": "stdout",
     "output_type": "stream",
     "text": [
      "I am a python developer.\n"
     ]
    }
   ],
   "source": [
    "class Person:\n",
    "    def __init__(self, name, age, hobby):\n",
    "        self.name = name\n",
    "        self.age = age\n",
    "        self.hobby = hobby\n",
    "\n",
    "    def sentence(self):\n",
    "        print(f\"Hello, my name is {self.name}.\")\n",
    "\n",
    "    def introduce(self):\n",
    "        self.sentence()\n",
    "\n",
    "class Programmer(Person):\n",
    "    def __init__(self, name, age, hobby, language): ## super()를 통해 상위 클래스의 생성자를 이용할 수 있으면서 필요한 부분을 재정의.\n",
    "        super().__init__(name, age, hobby) ## 상위 클래스에서 정의된 내용대로 인자를 전달.\n",
    "        self.language = language\n",
    "\n",
    "    def sentence(self): ## Method Override. 부모 클래스에서 정의한 기능을 사용할 수 없다.\n",
    "        print(f\"I am a {self.language} developer.\")\n",
    "\n",
    "\n",
    "programmer_py = Programmer(\"Jun\", 30, \"football\", \"python\")\n",
    "programmer_py.introduce()\n",
    "\n"
   ]
  },
  {
   "attachments": {},
   "cell_type": "markdown",
   "metadata": {},
   "source": [
    "# 다중상속\n",
    "파이썬은 다중상속을 지원한다. 이는 클래스를 생성할 때, 2개 이상의 상위 클래스를 상속받을 수 있다는 것이다.  \n",
    "다중 상속을 사용하면 충돌이 발생할 수 있다. 가령 서로 다른 상위클래스들을 상속 받는 클래스를 작성 하고 있다면,  \n",
    "상위 클래스들 중 같은 메서드나 같은 클래스 변수 이름을 정의한다면 충돌이 발생한다."
   ]
  },
  {
   "cell_type": "code",
   "execution_count": 22,
   "metadata": {},
   "outputs": [
    {
     "name": "stdout",
     "output_type": "stream",
     "text": [
      "안녕하세요\n",
      "제 이름은 jun이고, 20세 입니다.\n",
      "computer science를 전공하며, 현재 1학년 입니다.\n"
     ]
    }
   ],
   "source": [
    "class Person:\n",
    "    def __init__(self, name, age):\n",
    "        self.name = name\n",
    "        self.age = age\n",
    "\n",
    "    def introduce_person(self):\n",
    "        print(f\"제 이름은 {self.name}이고, {self.age}세 입니다.\")\n",
    "\n",
    "class University:\n",
    "    def __init__(self, grade, major):\n",
    "        self.grade = grade\n",
    "        self.major = major\n",
    "\n",
    "    def introduce_univerity(self):\n",
    "        print(f\"{self.major}를 전공하며, 현재 {self.grade}학년 입니다.\")\n",
    "\n",
    "class Student(Person, University):\n",
    "    def __init__(self, name, age, grade, major):\n",
    "        Person.__init__(self, name, age)\n",
    "        University.__init__(self, grade, major)\n",
    "\n",
    "    def introduce(self):\n",
    "        print(\"안녕하세요\")\n",
    "        self.introduce_person()\n",
    "        self.introduce_univerity()\n",
    "\n",
    "\n",
    "student1 = Student(name=\"jun\", age=20, grade=1, major=\"computer science\")\n",
    "student1.introduce()"
   ]
  },
  {
   "cell_type": "code",
   "execution_count": null,
   "metadata": {},
   "outputs": [],
   "source": []
  }
 ],
 "metadata": {
  "kernelspec": {
   "display_name": "base",
   "language": "python",
   "name": "python3"
  },
  "language_info": {
   "codemirror_mode": {
    "name": "ipython",
    "version": 3
   },
   "file_extension": ".py",
   "mimetype": "text/x-python",
   "name": "python",
   "nbconvert_exporter": "python",
   "pygments_lexer": "ipython3",
   "version": "3.9.13"
  },
  "orig_nbformat": 4,
  "vscode": {
   "interpreter": {
    "hash": "40d3a090f54c6569ab1632332b64b2c03c39dcf918b08424e98f38b5ae0af88f"
   }
  }
 },
 "nbformat": 4,
 "nbformat_minor": 2
}
