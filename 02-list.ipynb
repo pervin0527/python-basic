{
 "cells": [
  {
   "attachments": {},
   "cell_type": "markdown",
   "metadata": {},
   "source": [
    "# List Copy\n",
    "다음과 같은 상황을 가정한다. 이 때, a 리스트는 가만히 두고, b 리스트의 값만 변경하고자 한다. 그러나 결과는 a의 항목까지 변경되었다."
   ]
  },
  {
   "cell_type": "code",
   "execution_count": 1,
   "metadata": {},
   "outputs": [
    {
     "name": "stdout",
     "output_type": "stream",
     "text": [
      "list a : [1, 2, 3, 4, 99]\n",
      "list b : [1, 2, 3, 4, 99]\n"
     ]
    }
   ],
   "source": [
    "a = [1, 2, 3, 4]\n",
    "b = a\n",
    "\n",
    "b.append(99)\n",
    "print(f\"list a : {a}\")\n",
    "print(f\"list b : {b}\")"
   ]
  },
  {
   "attachments": {},
   "cell_type": "markdown",
   "metadata": {},
   "source": [
    "이렇게 되는 이유는 id() 내장함수를 이용하면 알 수 있다. b가 참조하는 주소와 a가 참조하는 주소가 동일하기 때문이다.  \n",
    "따라서, b에서 값을 변경하는 것 자체가 a를 바꾸는 것과 동일한 것이다."
   ]
  },
  {
   "cell_type": "code",
   "execution_count": 2,
   "metadata": {},
   "outputs": [
    {
     "name": "stdout",
     "output_type": "stream",
     "text": [
      "a id : 140434500297344\n",
      "b id : 140434500297344\n",
      "True\n"
     ]
    }
   ],
   "source": [
    "print(f\"a id : {id(a)}\")\n",
    "print(f\"b id : {id(b)}\")\n",
    "print(a is b)"
   ]
  },
  {
   "attachments": {},
   "cell_type": "markdown",
   "metadata": {},
   "source": [
    "이와 같은 상황에서는 항목 간 복사(member by member) 또는 얕은 복사(Shallow copy)를 이용하면 된다."
   ]
  },
  {
   "cell_type": "code",
   "execution_count": 4,
   "metadata": {},
   "outputs": [
    {
     "name": "stdout",
     "output_type": "stream",
     "text": [
      "list a id : 140434500387136\n",
      "list b id : 140434500389184\n",
      "False\n",
      "list a : [1, 2, 3, 4]\n",
      "list b : [1, 2, 3, 4, 100]\n"
     ]
    }
   ],
   "source": [
    "a = [1, 2, 3, 4]\n",
    "b = a[:]\n",
    "\n",
    "print(f\"list a id : {id(a)}\")\n",
    "print(f\"list b id : {id(b)}\")\n",
    "print(a is b)\n",
    "\n",
    "b.append(100)\n",
    "print(f\"list a : {a}\")\n",
    "print(f\"list b : {b}\")"
   ]
  },
  {
   "attachments": {},
   "cell_type": "markdown",
   "metadata": {},
   "source": [
    "또 다른 상황으로, 리스트가 또 다른 리스트를 항목으로 보유하고 있다면 어떨까?  \n",
    "아까 알게된 member by member를 이용하면 해결되지 않을까?"
   ]
  },
  {
   "cell_type": "code",
   "execution_count": 5,
   "metadata": {},
   "outputs": [
    {
     "name": "stdout",
     "output_type": "stream",
     "text": [
      "list a : [10, 20, 30, [80, 90]]\n",
      "list b : [0, 0, 0, [80, 90]]\n"
     ]
    }
   ],
   "source": [
    "a = [10, 20, 30, [40, 50]]\n",
    "b = a[:]\n",
    "\n",
    "b[0] = 0\n",
    "b[1] = 0\n",
    "b[2] = 0\n",
    "b[3][0] = 80\n",
    "b[3][1] = 90\n",
    "\n",
    "print(f\"list a : {a}\")\n",
    "print(f\"list b : {b}\")"
   ]
  },
  {
   "attachments": {},
   "cell_type": "markdown",
   "metadata": {},
   "source": [
    "리스트의 단일 원소들은 a와 b가 서로 다르게 바뀌었으나, 리스트의 하위 리스트는 a와 b 모두 변경되었다.  \n",
    "이렇게 되는 이유 역시, 리스트가 담고 있는 하위 리스트의 주소가 동일하기 때문이다. 이럴때는 copy 라이브러리의 deepcopy() 함수를 사용한다."
   ]
  },
  {
   "cell_type": "code",
   "execution_count": 6,
   "metadata": {},
   "outputs": [
    {
     "name": "stdout",
     "output_type": "stream",
     "text": [
      "list a : [10, 20, 30, [40, 50]]\n",
      "list b : [0, 0, 0, [80, 90]]\n"
     ]
    }
   ],
   "source": [
    "import copy\n",
    "\n",
    "a = [10, 20, 30, [40, 50]]\n",
    "# b = a[:]\n",
    "b = copy.deepcopy(a)\n",
    "\n",
    "b[0] = 0\n",
    "b[1] = 0\n",
    "b[2] = 0\n",
    "b[3][0] = 80\n",
    "b[3][1] = 90\n",
    "\n",
    "print(f\"list a : {a}\")\n",
    "print(f\"list b : {b}\")"
   ]
  },
  {
   "attachments": {},
   "cell_type": "markdown",
   "metadata": {},
   "source": [
    "# List Argument\n",
    "리스트를 함수의 인수로 전달되는 경우도 복사와 동일하다.  \n",
    "담고 있는 항목의 주소값을 유지한 채로 값만 변경할 수 있기 때문에(List is Mutable) 함수에서 return으로 반환하지 않고도 global로 리스트 값을 변경할 수 있다."
   ]
  },
  {
   "cell_type": "code",
   "execution_count": 16,
   "metadata": {},
   "outputs": [
    {
     "name": "stdout",
     "output_type": "stream",
     "text": [
      "[17, 27, 37, 47]\n"
     ]
    }
   ],
   "source": [
    "def test_func(a_list):\n",
    "    for i in range(len(a_list)): ## 참조가 유지되는 상태에서 내부 값이 변경된다.\n",
    "        a_list[i] += 7\n",
    "\n",
    "a_list = [10, 20, 30, 40]\n",
    "test_func(a_list)\n",
    "print(a_list)\n",
    "        "
   ]
  },
  {
   "attachments": {},
   "cell_type": "markdown",
   "metadata": {},
   "source": [
    "# Comprehension\n",
    "comprehension은 list, dict, set를 만드는데 간결함을 더해준다.  \n",
    "참고로 tuple을 위해 소괄호를 사용할 수 있으나, 생성되는 것은 tuple이 아니라 generator이다."
   ]
  },
  {
   "cell_type": "code",
   "execution_count": 12,
   "metadata": {},
   "outputs": [
    {
     "name": "stdout",
     "output_type": "stream",
     "text": [
      "[0, 10, 20, 30, 40, 50, 60, 70, 80, 90] \n",
      "\n",
      "<class 'set'>\n",
      "{0, 70, 40, 10, 80, 50, 20, 90, 60, 30} \n",
      "\n",
      "<class 'generator'>\n",
      "0\n",
      "1\n",
      "2\n",
      "3\n",
      "4\n",
      "5\n",
      "6\n",
      "7\n",
      "8\n",
      "9\n"
     ]
    }
   ],
   "source": [
    "comp_list = [x * 10 for x in range(10)]\n",
    "print(comp_list, '\\n')\n",
    "\n",
    "comp_set = {x * 10 for x in range(10)}\n",
    "print(type(comp_set))\n",
    "print(comp_set, '\\n')\n",
    "\n",
    "comp_gen = (x for x in range(10))\n",
    "print(type(comp_gen))\n",
    "for _ in range(10):\n",
    "    print(next(comp_gen))"
   ]
  },
  {
   "cell_type": "code",
   "execution_count": 15,
   "metadata": {},
   "outputs": [
    {
     "name": "stdout",
     "output_type": "stream",
     "text": [
      "{'언어': 100, '수학': 50, '외국어': 100}\n"
     ]
    }
   ],
   "source": [
    "scores = [100, 50, 100]\n",
    "titles = [\"언어\", \"수학\", \"외국어\"]\n",
    "\n",
    "comp_dict = {title : score for title, score in zip(titles, scores)}\n",
    "print(comp_dict)"
   ]
  },
  {
   "attachments": {},
   "cell_type": "markdown",
   "metadata": {},
   "source": [
    "# list method"
   ]
  },
  {
   "cell_type": "code",
   "execution_count": 14,
   "metadata": {},
   "outputs": [
    {
     "name": "stdout",
     "output_type": "stream",
     "text": [
      "4\n",
      "[0, 1, 2, 3, 4, 5, 6, 7, 8, 9, 5, 5, 5, 5]\n",
      "[0, 1, 2, 3, 5, 6, 7, 8, 9, 5, 5, 5, 5]\n",
      "5\n",
      "[0, 1, 2, 3, 5, 6, 7, 8, 9, 5, 5, 5]\n"
     ]
    }
   ],
   "source": [
    "a = [x for x in range(10)]\n",
    "b = [5, 5, 5, 5]\n",
    "\n",
    "print(b.count(5)) ## 리스트내 특정 항목의 수\n",
    "\n",
    "a.extend(b) ## 컬렉션이나 이터러블의 여러 항목을 추가한다.\n",
    "print(a)\n",
    "a.remove(4) ## 리스트내 항목을 값으로 제거. 동일한 값이 여러 개 존재하는 경우, 첫번째를 삭제.\n",
    "print(a)\n",
    "\n",
    "last_item = a.pop()\n",
    "print(last_item)\n",
    "print(a)"
   ]
  },
  {
   "attachments": {},
   "cell_type": "markdown",
   "metadata": {},
   "source": [
    "# Slicing\n",
    "        list[start:end] ## start부터 end-1까지의 리스트 항목들을 포함.\n",
    "        list[start:end:step] ## start부터 end 앞까지의 리스트 항목 중 각 항목의 거리가 step 크기인 항목을 반환.\n",
    "\n",
    "- 리스트는 가변 타입이며 항목에 바로 값을 대입할 수 있다.\n",
    "- 이러한 성질은 슬라이싱에도 반영된다."
   ]
  },
  {
   "cell_type": "code",
   "execution_count": 17,
   "metadata": {},
   "outputs": [
    {
     "name": "stdout",
     "output_type": "stream",
     "text": [
      "str\n",
      " Baby\n",
      " Ba\n",
      "str\n"
     ]
    }
   ],
   "source": [
    "title = \"Industry Baby\"\n",
    "print(title[4:7]) ## slicing은 start : end-1 까지\n",
    "print(title[-5:]) ## 음수로도 설정이 가능하다.\n",
    "print(title[-5:-2])\n",
    "print(title[-9:-6])"
   ]
  },
  {
   "cell_type": "code",
   "execution_count": 18,
   "metadata": {},
   "outputs": [
    {
     "name": "stdout",
     "output_type": "stream",
     "text": [
      "[5, 10, 20]\n"
     ]
    }
   ],
   "source": [
    "a = [1, 2, 5, 10, 20, 30]\n",
    "print(a[-4:-1]) ## index가 -4부터 -1 바로 앞까지."
   ]
  },
  {
   "cell_type": "code",
   "execution_count": 19,
   "metadata": {},
   "outputs": [
    {
     "name": "stdout",
     "output_type": "stream",
     "text": [
      "[300, 500]\n"
     ]
    }
   ],
   "source": [
    "a = [100, 200, 300, 400, 500, 600]\n",
    "b = a[2:5:2] ## step을 설정하는 경우.\n",
    "print(b)"
   ]
  },
  {
   "cell_type": "code",
   "execution_count": 20,
   "metadata": {},
   "outputs": [
    {
     "name": "stdout",
     "output_type": "stream",
     "text": [
      "[10, 8, 6, 4, 2, 0]\n"
     ]
    }
   ],
   "source": [
    "a = [0, 1, 2, 3, 4, 5, 6, 7, 8, 9, 10]\n",
    "a_reverse = a[::-2]\n",
    "print(a_reverse)"
   ]
  },
  {
   "cell_type": "code",
   "execution_count": 21,
   "metadata": {},
   "outputs": [
    {
     "name": "stdout",
     "output_type": "stream",
     "text": [
      "[10, 80, 90, 50, 60]\n",
      "[-1, 0, 1, 2, 3, 4]\n"
     ]
    }
   ],
   "source": [
    "a = [10, 20, 30, 40, 50, 60]\n",
    "a[1:4] = [80, 90] ## [20, 30, 40] ---> [80, 90]\n",
    "print(a)\n",
    "\n",
    "b = [1, 2, 3, 4]\n",
    "b[0:0] = [-1, 0]\n",
    "print(b)"
   ]
  },
  {
   "cell_type": "code",
   "execution_count": 22,
   "metadata": {},
   "outputs": [
    {
     "ename": "TypeError",
     "evalue": "can only assign an iterable",
     "output_type": "error",
     "traceback": [
      "\u001b[0;31m---------------------------------------------------------------------------\u001b[0m",
      "\u001b[0;31mTypeError\u001b[0m                                 Traceback (most recent call last)",
      "\u001b[0;32m/var/folders/h2/dxdwtry542514hp51hkrx__h0000gn/T/ipykernel_8679/2230807996.py\u001b[0m in \u001b[0;36m<module>\u001b[0;34m\u001b[0m\n\u001b[1;32m      1\u001b[0m \u001b[0mc\u001b[0m \u001b[0;34m=\u001b[0m \u001b[0;34m[\u001b[0m\u001b[0;36m1\u001b[0m\u001b[0;34m,\u001b[0m \u001b[0;36m2\u001b[0m\u001b[0;34m,\u001b[0m \u001b[0;36m3\u001b[0m\u001b[0;34m,\u001b[0m \u001b[0;36m4\u001b[0m\u001b[0;34m]\u001b[0m\u001b[0;34m\u001b[0m\u001b[0;34m\u001b[0m\u001b[0m\n\u001b[0;32m----> 2\u001b[0;31m \u001b[0mc\u001b[0m\u001b[0;34m[\u001b[0m\u001b[0;36m0\u001b[0m\u001b[0;34m:\u001b[0m\u001b[0;36m0\u001b[0m\u001b[0;34m]\u001b[0m \u001b[0;34m=\u001b[0m \u001b[0;36m0\u001b[0m \u001b[0;31m## 슬라이싱한 조각 안에 리스트를 대입할 때, 대입하고자 하는 대상은 항목이 전혀 없거나 하나만 있더라도 반드시 다른 리스트나 컬렉션이어야 한다.\u001b[0m\u001b[0;34m\u001b[0m\u001b[0;34m\u001b[0m\u001b[0m\n\u001b[0m\u001b[1;32m      3\u001b[0m \u001b[0mprint\u001b[0m\u001b[0;34m(\u001b[0m\u001b[0mc\u001b[0m\u001b[0;34m)\u001b[0m\u001b[0;34m\u001b[0m\u001b[0;34m\u001b[0m\u001b[0m\n",
      "\u001b[0;31mTypeError\u001b[0m: can only assign an iterable"
     ]
    }
   ],
   "source": [
    "c = [1, 2, 3, 4]\n",
    "c[0:0] = 0 ## 슬라이싱한 조각 안에 리스트를 대입할 때, 대입하고자 하는 대상은 항목이 전혀 없거나 하나만 있더라도 반드시 다른 리스트나 컬렉션이어야 한다.\n",
    "print(c)"
   ]
  },
  {
   "cell_type": "code",
   "execution_count": 23,
   "metadata": {},
   "outputs": [
    {
     "name": "stdout",
     "output_type": "stream",
     "text": [
      "[77, 2, 777, 4, 5, 6, 7, 8, 9, 10]\n"
     ]
    }
   ],
   "source": [
    "c = [1, 2, 3, 4, 5, 6, 7, 8, 9, 10]\n",
    "c[0:3:2] = [77, 777] ## 조각 안에 리스트를 대입할 때 step이 명시된다면 조각의 범위와 삽입할 데이터의 길이가 반드시 같아야한다.\n",
    "print(c)"
   ]
  },
  {
   "cell_type": "code",
   "execution_count": null,
   "metadata": {},
   "outputs": [],
   "source": []
  }
 ],
 "metadata": {
  "kernelspec": {
   "display_name": "base",
   "language": "python",
   "name": "python3"
  },
  "language_info": {
   "codemirror_mode": {
    "name": "ipython",
    "version": 3
   },
   "file_extension": ".py",
   "mimetype": "text/x-python",
   "name": "python",
   "nbconvert_exporter": "python",
   "pygments_lexer": "ipython3",
   "version": "3.9.13"
  },
  "orig_nbformat": 4,
  "vscode": {
   "interpreter": {
    "hash": "40d3a090f54c6569ab1632332b64b2c03c39dcf918b08424e98f38b5ae0af88f"
   }
  }
 },
 "nbformat": 4,
 "nbformat_minor": 2
}
