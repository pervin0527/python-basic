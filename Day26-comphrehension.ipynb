{
 "cells": [
  {
   "attachments": {},
   "cell_type": "markdown",
   "metadata": {},
   "source": [
    "list, tuple, string, range 등을 sequence라고 부른다.  \n",
    "이는 명확히 순서를 가지고 있음을 의미한다."
   ]
  },
  {
   "cell_type": "code",
   "execution_count": 1,
   "metadata": {},
   "outputs": [
    {
     "name": "stdout",
     "output_type": "stream",
     "text": [
      "[2, 4, 6, 8]\n"
     ]
    }
   ],
   "source": [
    "test = [x * 2 for x in range(1, 5)]\n",
    "print(test)"
   ]
  },
  {
   "cell_type": "code",
   "execution_count": 2,
   "metadata": {},
   "outputs": [
    {
     "name": "stdout",
     "output_type": "stream",
     "text": [
      "[4, 16, 36, 64]\n"
     ]
    }
   ],
   "source": [
    "test = [x**2 for x in range(1, 10) if x % 2 == 0]\n",
    "print(test)"
   ]
  },
  {
   "cell_type": "code",
   "execution_count": 3,
   "metadata": {},
   "outputs": [
    {
     "name": "stdout",
     "output_type": "stream",
     "text": [
      "[1, 1, 4, 9, 25, 64, 169, 441, 1156, 3025]\n"
     ]
    }
   ],
   "source": [
    "numbers = [1, 1, 2, 3, 5, 8, 13, 21, 34, 55]\n",
    "# 🚨 Do Not Change the code above 👆\n",
    "\n",
    "#Write your 1 line code 👇 below:\n",
    "squared_numbers = [x * x for x in numbers]\n",
    "\n",
    "print(squared_numbers)"
   ]
  },
  {
   "cell_type": "code",
   "execution_count": 4,
   "metadata": {},
   "outputs": [
    {
     "name": "stdout",
     "output_type": "stream",
     "text": [
      "[2, 8, 34]\n"
     ]
    }
   ],
   "source": [
    "numbers = [1, 1, 2, 3, 5, 8, 13, 21, 34, 55]\n",
    "# 🚨 Do Not Change the code above\n",
    "\n",
    "#Write your 1 line code 👇 below:\n",
    "result = [x for x in numbers if x % 2 == 0]\n",
    "print(result)"
   ]
  },
  {
   "cell_type": "code",
   "execution_count": 5,
   "metadata": {},
   "outputs": [
    {
     "name": "stdout",
     "output_type": "stream",
     "text": [
      "[3, 6, 5, 33, 12, 7, 42, 13]\n"
     ]
    }
   ],
   "source": [
    "data1 = [3, 6, 5, 8, 33, 12, 7, 4, 72, 2, 42, 13]\n",
    "data2 = [3, 6, 13, 5, 7, 89, 12, 3, 33, 34, 1, 344, 42]\n",
    "\n",
    "result = [x for x in data1 if x in data2]\n",
    "print(result)"
   ]
  },
  {
   "cell_type": "code",
   "execution_count": 14,
   "metadata": {},
   "outputs": [
    {
     "name": "stdout",
     "output_type": "stream",
     "text": [
      "['Dog', 'Cat', 'Person', 'Monitor', 'Computer', 'Sofa', 'Bicycle']\n",
      "[0.3348465916592308, 0.1468497944246483, 0.16935170055905402, 0.6132184469454265, 0.67543776776921, 0.6253199825030984, 0.04032129211013724]\n",
      "{'Dog': 0.8978764091063288, 'Cat': 0.2597998489644028, 'Person': 0.3472559083618557, 'Monitor': 0.7936329514898418, 'Computer': 0.6639463947834504, 'Sofa': 0.14681604378133883, 'Bicycle': 0.3790677436596044}\n"
     ]
    }
   ],
   "source": [
    "import random\n",
    "\n",
    "label_names = [\"Dog\", \"Cat\", \"Person\", \"Monitor\", \"Computer\", \"Sofa\", \"Bicycle\"]\n",
    "scores = [random.random() for _ in range(0, len(label_names))]\n",
    "\n",
    "print(label_names)\n",
    "print(scores)\n",
    "\n",
    "result = {key:random.random() for key in label_names}\n",
    "print(result)"
   ]
  },
  {
   "cell_type": "code",
   "execution_count": 16,
   "metadata": {},
   "outputs": [
    {
     "name": "stdout",
     "output_type": "stream",
     "text": [
      "{'Dog': 0.8978764091063288, 'Monitor': 0.7936329514898418}\n"
     ]
    }
   ],
   "source": [
    "passed_result = {label_name:score for (label_name, score) in result.items() if score > 0.7}\n",
    "print(passed_result)"
   ]
  },
  {
   "cell_type": "code",
   "execution_count": 18,
   "metadata": {},
   "outputs": [
    {
     "name": "stdout",
     "output_type": "stream",
     "text": [
      "['What', 'is', 'the', 'Airspeed', 'Velocity', 'of', 'an', 'Unladen', 'Swallow?']\n",
      "{'What': 4, 'is': 2, 'the': 3, 'Airspeed': 8, 'Velocity': 8, 'of': 2, 'an': 2, 'Unladen': 7, 'Swallow?': 8}\n"
     ]
    }
   ],
   "source": [
    "sentence = \"What is the Airspeed Velocity of an Unladen Swallow?\"\n",
    "# Don't change code above 👆\n",
    "\n",
    "# Write your code below:\n",
    "sentence_part = sentence.split(\" \")\n",
    "print(sentence_part)\n",
    "\n",
    "result = {part:len(part) for part in sentence_part}\n",
    "print(result)"
   ]
  },
  {
   "cell_type": "code",
   "execution_count": 19,
   "metadata": {},
   "outputs": [
    {
     "name": "stdout",
     "output_type": "stream",
     "text": [
      "{'Monday': 53.6, 'Tuesday': 57.2, 'Wednesday': 59.0, 'Thursday': 57.2, 'Friday': 69.8, 'Saturday': 71.6, 'Sunday': 75.2}\n"
     ]
    }
   ],
   "source": [
    "weather_c = {\n",
    "    \"Monday\": 12,\n",
    "    \"Tuesday\": 14,\n",
    "    \"Wednesday\": 15,\n",
    "    \"Thursday\": 14,\n",
    "    \"Friday\": 21,\n",
    "    \"Saturday\": 22,\n",
    "    \"Sunday\": 24,\n",
    "}\n",
    "\n",
    "weather_f = {day:(temp_c * 9/5) + 32 for (day, temp_c) in weather_c.items()}\n",
    "print(weather_f)"
   ]
  },
  {
   "cell_type": "code",
   "execution_count": null,
   "metadata": {},
   "outputs": [],
   "source": []
  }
 ],
 "metadata": {
  "kernelspec": {
   "display_name": "base",
   "language": "python",
   "name": "python3"
  },
  "language_info": {
   "codemirror_mode": {
    "name": "ipython",
    "version": 3
   },
   "file_extension": ".py",
   "mimetype": "text/x-python",
   "name": "python",
   "nbconvert_exporter": "python",
   "pygments_lexer": "ipython3",
   "version": "3.9.13"
  },
  "orig_nbformat": 4,
  "vscode": {
   "interpreter": {
    "hash": "40d3a090f54c6569ab1632332b64b2c03c39dcf918b08424e98f38b5ae0af88f"
   }
  }
 },
 "nbformat": 4,
 "nbformat_minor": 2
}
