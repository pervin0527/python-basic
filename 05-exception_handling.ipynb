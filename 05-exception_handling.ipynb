{
 "cells": [
  {
   "attachments": {},
   "cell_type": "markdown",
   "metadata": {},
   "source": [
    "# 예외처리\n",
    "    try:\n",
    "        ...\n",
    "    except 예외클래스A:\n",
    "        ...\n",
    "    except 예외클래스B:\n",
    "        ...\n",
    "    else:\n",
    "        ...\n",
    "    finally:\n",
    "        ...\n",
    "\n",
    "- try block이 실행되는 동안 예외가 발생하면 이 예외가 except block에 명시한 특정 예외 클래스와 일치하지 않는다면 프로그램을 갑자기 중단시킬 수 있다.\n",
    "- else문은 첫번째 block이 예외없이 완벽하게 실행이 끝나면 실행된다.\n",
    "- finally문은 다른 모든 블록이 실행되고 나서 무조건 실행된다."
   ]
  },
  {
   "cell_type": "code",
   "execution_count": null,
   "metadata": {},
   "outputs": [],
   "source": [
    "while True:\n",
    "    fname = input(\"Enter file name: \")\n",
    "    if not fname:\n",
    "        break\n",
    "\n",
    "    try:\n",
    "        f = open(fname)\n",
    "\n",
    "    except FileNotFoundError:\n",
    "        print(\"File could not be found. Re-enter.\")\n",
    "\n",
    "    else:\n",
    "        print(f.read())\n",
    "        f.close()\n",
    "        break"
   ]
  },
  {
   "attachments": {},
   "cell_type": "markdown",
   "metadata": {},
   "source": [
    "# with 키워드\n",
    "\n",
    "파일 작업을 수행하는 가장 확실한 방법은 파일을 열고, 파일 I/O를 수행한 후 파일을 닫는 것이다.  \n",
    "하지만 파일 I/O 읽기를 수행하는 도중에 예외가 발생하면 프로그램은 파일을 제대로 닫지 않고, 자원을 해제하지 않은 상태로 갑자기 종료될 것이다.  \n",
    "with문은 파일을 열어 변수로 파일에 접근할 수 있게 한다. 만약 수행 도중 예외가 발생하면 파일은 자동적으로 닫히며, 파일 핸들러가 열린채로 남아 있지 않다.\n"
   ]
  },
  {
   "cell_type": "code",
   "execution_count": 13,
   "metadata": {},
   "outputs": [
    {
     "name": "stdout",
     "output_type": "stream",
     "text": [
      "Industry Baby\n",
      "Break\n",
      "Journey\n"
     ]
    }
   ],
   "source": [
    "try:\n",
    "    with open(\"data/file.txt\") as f:\n",
    "        text_lines = f.readlines() ## 파일 안의 모든 텍스트를 읽어서 텍스트 1줄이 각각의 항목으로 구성된 리스트 반환.\n",
    "\n",
    "except FileNotFoundError:\n",
    "    print(\"파일을 찾지 못했습니다.\")\n",
    "\n",
    "else:\n",
    "    for text_line in text_lines:\n",
    "        text_line = text_line.strip()\n",
    "        print(text_line)\n",
    "\n"
   ]
  },
  {
   "cell_type": "code",
   "execution_count": 16,
   "metadata": {},
   "outputs": [
    {
     "name": "stdout",
     "output_type": "stream",
     "text": [
      "<class 'str'> \n",
      "\n",
      "Industry Baby\n",
      "Break\n",
      "Journey \n",
      "\n",
      "Industry B\n"
     ]
    }
   ],
   "source": [
    "with open(\"data/file.txt\") as f:\n",
    "    test_read = f.read() ## read 메서드는 파일의 전체 내용을 읽어서 하나의 문자열로 반환한다.\n",
    "\n",
    "\n",
    "print(type(test_read), '\\n')\n",
    "print(test_read, '\\n')    \n",
    "print(test_read[0:10])"
   ]
  },
  {
   "cell_type": "code",
   "execution_count": 17,
   "metadata": {},
   "outputs": [
    {
     "name": "stdout",
     "output_type": "stream",
     "text": [
      "Industry Baby\n",
      "\n"
     ]
    }
   ],
   "source": [
    "with open(\"data/file.txt\") as f:\n",
    "    test_readline = f.readline() ## readline 메서드는 첫 개행 문자 혹은 명시한 size에 도달할 때까지 내용을 읽는다.\n",
    "\n",
    "print(test_readline)"
   ]
  },
  {
   "cell_type": "code",
   "execution_count": 21,
   "metadata": {},
   "outputs": [
    {
     "name": "stdout",
     "output_type": "stream",
     "text": [
      "13\n",
      "No you can't\n",
      "\n",
      "DEADMAN\n",
      "\n",
      "Always awake\n",
      "\n"
     ]
    }
   ],
   "source": [
    "with open(\"data/file.txt\", \"w\") as f:\n",
    "    ## write, writelines 는 자동으로 개행문자를 추가하지 않음.\n",
    "    ## 둘의 차이점은 write메서드는 작성한 문자 혹은 바이트의 개수를 반환한다.\n",
    "    num_str = f.write(\"No you can't\\n\")\n",
    "    print(num_str)\n",
    "    f.writelines([\"DEADMAN\\n\", \"Always awake\\n\"])\n",
    "\n",
    "with open(\"data/file.txt\", \"r\") as f:\n",
    "    text_list = f.readlines()\n",
    "\n",
    "for line in text_list:\n",
    "    print(line)"
   ]
  },
  {
   "cell_type": "code",
   "execution_count": null,
   "metadata": {},
   "outputs": [],
   "source": []
  }
 ],
 "metadata": {
  "kernelspec": {
   "display_name": "base",
   "language": "python",
   "name": "python3"
  },
  "language_info": {
   "codemirror_mode": {
    "name": "ipython",
    "version": 3
   },
   "file_extension": ".py",
   "mimetype": "text/x-python",
   "name": "python",
   "nbconvert_exporter": "python",
   "pygments_lexer": "ipython3",
   "version": "3.9.13"
  },
  "orig_nbformat": 4,
  "vscode": {
   "interpreter": {
    "hash": "40d3a090f54c6569ab1632332b64b2c03c39dcf918b08424e98f38b5ae0af88f"
   }
  }
 },
 "nbformat": 4,
 "nbformat_minor": 2
}
