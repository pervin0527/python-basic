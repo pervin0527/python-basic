{
 "cells": [
  {
   "attachments": {},
   "cell_type": "markdown",
   "metadata": {},
   "source": [
    "class는 객체를 만들기 위한 청사진이다.\n",
    "어떻게 이 청사진을 만들 수 있는지 배워보도록하자."
   ]
  },
  {
   "cell_type": "code",
   "execution_count": null,
   "metadata": {},
   "outputs": [],
   "source": [
    "class User:\n",
    "    pass ## pass는 지금 사용한 것과 같이 껍데기만 필요하고 동작이 실제로 필요 없는 경우에 사용.\n",
    "\n",
    "def empty_func():\n",
    "    pass\n",
    "\n",
    "user1 = User()"
   ]
  },
  {
   "attachments": {},
   "cell_type": "markdown",
   "metadata": {},
   "source": [
    "constructor(생성자)는 객체사 생성될 때 무슨 일이 일어나야 하는지 명시할 수 있게 한다.  \n",
    "initialize로도 표현되며, 시작 단계에 가져야할 값을 설정할 수 있다.  "
   ]
  },
  {
   "cell_type": "code",
   "execution_count": 2,
   "metadata": {},
   "outputs": [
    {
     "name": "stdout",
     "output_type": "stream",
     "text": [
      "001\n",
      "jun\n",
      "0\n",
      "0\n"
     ]
    }
   ],
   "source": [
    "class User:\n",
    "    ## 중요한 점은 이 클래스에서 새로운 객체를 만들 때마다 __init__ 함수가 호출된다.\n",
    "    def __init__(self, user_id, username) -> None: ## self는 지금 만들어지고 있는 또는 초기화되고 있는 실제 객체가 그 대상이다.\n",
    "        self.user_id = user_id ## 속성 변수 이름과 매개변수 이름이 같아야 한다는 관행이 있다.\n",
    "        self.username = username\n",
    "        self.follower = 0 ## 모든 값이 반드시 매개변수를 통해 값을 설정해야 하는 것은 아니다.\n",
    "\n",
    "user1 = User(\"001\", \"jun\")\n",
    "print(user1.user_id)\n",
    "print(user1.username)\n",
    "print(user1.follower)\n",
    "\n",
    "user2 = User(\"002\", \"Min\")\n",
    "print(user2.follower)"
   ]
  },
  {
   "cell_type": "code",
   "execution_count": 4,
   "metadata": {},
   "outputs": [
    {
     "name": "stdout",
     "output_type": "stream",
     "text": [
      "1 0\n",
      "0 1\n"
     ]
    }
   ],
   "source": [
    "class User:\n",
    "    def __init__(self, user_id, user_name) -> None:\n",
    "        self.user_id = user_id\n",
    "        self.user_name = user_name\n",
    "        self.follower = 0\n",
    "        self.following = 0\n",
    "\n",
    "    def follow(self, user): ## class의 메서드는 반드시 첫번째 매개변수로 self를 가져야한다. 이를 통해 메서드를 호출한 객체가 무엇인지 알 수 있다.\n",
    "        user.follower += 1 ## 메서드의 매개변수로 객체가 전달될 수 있다.\n",
    "        self.following += 1\n",
    "\n",
    "user1 = User(\"1\", \"Jun\")\n",
    "user2 = User(\"2\", \"Paul\")\n",
    "user2.follow(user1)\n",
    "\n",
    "print(user1.follower, user1.following)\n",
    "print(user2.follower, user2.following)"
   ]
  },
  {
   "cell_type": "code",
   "execution_count": null,
   "metadata": {},
   "outputs": [],
   "source": []
  }
 ],
 "metadata": {
  "kernelspec": {
   "display_name": "base",
   "language": "python",
   "name": "python3"
  },
  "language_info": {
   "codemirror_mode": {
    "name": "ipython",
    "version": 3
   },
   "file_extension": ".py",
   "mimetype": "text/x-python",
   "name": "python",
   "nbconvert_exporter": "python",
   "pygments_lexer": "ipython3",
   "version": "3.9.7"
  },
  "orig_nbformat": 4,
  "vscode": {
   "interpreter": {
    "hash": "ed9700ab81b7297e6986a97a9b8454b96a302622dbd1fe5603b4cfb37e904a7d"
   }
  }
 },
 "nbformat": 4,
 "nbformat_minor": 2
}
